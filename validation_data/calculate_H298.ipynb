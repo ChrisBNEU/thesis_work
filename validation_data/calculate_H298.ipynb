{
 "cells": [
  {
   "cell_type": "code",
   "execution_count": 1,
   "id": "200add7f-4719-4355-939a-e3081f5e3df7",
   "metadata": {
    "tags": []
   },
   "outputs": [
    {
     "name": "stdout",
     "output_type": "stream",
     "text": [
      "['/work/westgroup/ChrisB/_04_thesis/Thesis_repo/validation_data', '/work/westgroup/ChrisB/miniconda3/envs/rmg_thesis/lib/python37.zip', '/work/westgroup/ChrisB/miniconda3/envs/rmg_thesis/lib/python3.7', '/work/westgroup/ChrisB/miniconda3/envs/rmg_thesis/lib/python3.7/lib-dynload', '', '/home/blais.ch/.local/lib/python3.7/site-packages', '/work/westgroup/ChrisB/miniconda3/envs/rmg_thesis/lib/python3.7/site-packages', '/work/westgroup/ChrisB/miniconda3/envs/rmg_thesis/lib/python3.7/site-packages/chemprop-0.0.1-py3.7.egg', '/work/westgroup/ChrisB/miniconda3/envs/rmg_thesis/lib/python3.7/site-packages/descriptastorus-2.0.0.32-py3.7.egg', '/work/westgroup/ChrisB/miniconda3/envs/rmg_thesis/lib/python3.7/site-packages/IPython/extensions', '/home/blais.ch/.ipython', '/work/westgroup/ChrisB/_04_thesis/rmg_thesis/RMG-Py/']\n"
     ]
    }
   ],
   "source": [
    "import sys\n",
    "import os\n",
    "import re\n",
    "import numpy\n",
    "import sys\n",
    "sys.path.append('/work/westgroup/ChrisB/_04_thesis/rmg_thesis/RMG-Py/')\n",
    "print(sys.path)"
   ]
  },
  {
   "cell_type": "code",
   "execution_count": 2,
   "id": "02112b36-b058-4114-9b72-78d08b043415",
   "metadata": {
    "tags": []
   },
   "outputs": [],
   "source": [
    "import pickle"
   ]
  },
  {
   "cell_type": "code",
   "execution_count": 3,
   "id": "4aa11224-06e6-45b0-9cdf-9042df4e94a2",
   "metadata": {
    "tags": []
   },
   "outputs": [],
   "source": [
    "from rmgpy.species import Species"
   ]
  },
  {
   "cell_type": "code",
   "execution_count": 4,
   "id": "0ad772a3-a77c-4cab-9769-678ed9013d0b",
   "metadata": {
    "tags": []
   },
   "outputs": [],
   "source": [
    "class SpeciesDat():\n",
    "    def __init__(): \n",
    "        self.rmg_spec = Species().from_adjacency_list(adj_list)\n",
    "        "
   ]
  },
  {
   "cell_type": "code",
   "execution_count": 5,
   "id": "f9cd18a2-00db-4562-9734-47bbf5947bb3",
   "metadata": {
    "tags": []
   },
   "outputs": [],
   "source": [
    "streibel_path = os.path.join(\"./streibel_propane_2022\", \"energies.txt\")\n",
    "\n",
    "species_data = {}\n",
    "with open(streibel_path, \"r\") as f:\n",
    "    for num, line in enumerate(f.readlines()):\n",
    "        # skip first: \n",
    "        if num == 0: \n",
    "            pass\n",
    "        # Extract substrings between brackets\n",
    "        # Using regex\n",
    "        else:\n",
    "            freq_start = line.index(\"[\")\n",
    "            freq_end = line.index(\"]\") + 1\n",
    "            \n",
    "            freqs = list(line[freq_start:freq_end])\n",
    "            dat = (line[0:freq_start] + line[freq_end:-1])\n",
    "            dat = dat.split('\\t')\n",
    "            \n",
    "            # if gas phase or transition state, don't bother\n",
    "            if dat[0] == 'None' or \"-\" in dat[2]:\n",
    "                pass\n",
    "            else:\n",
    "                new_spec = SpeciesDat(\n",
    "                    metal = dat[0],\n",
    "                    facet = dat[1],\n",
    "                    name = dat[2],\n",
    "                    energy = dat[3],\n",
    "                    source = dat[5],\n",
    "                    freq = freqs,\n",
    "                )\n",
    "                species_data[dat[2]] = new_spec\n",
    "        \n",
    "            \n",
    "            "
   ]
  },
  {
   "cell_type": "code",
   "execution_count": 11,
   "id": "36aad1f1-795b-4b29-a7eb-8f18878ac5e3",
   "metadata": {
    "tags": []
   },
   "outputs": [
    {
     "data": {
      "text/plain": [
       "['H',\n",
       " 'C',\n",
       " 'CH3CHCH2',\n",
       " 'O',\n",
       " 'CH2CHCH2',\n",
       " 'CH',\n",
       " 'OH',\n",
       " 'CCHCH2',\n",
       " 'CHCC',\n",
       " 'CHCHC',\n",
       " 'CO',\n",
       " 'COC',\n",
       " 'O2',\n",
       " 'CHCHCH2',\n",
       " 'CHOHC',\n",
       " 'CHC',\n",
       " 'CCOH',\n",
       " 'COOH',\n",
       " 'COCCH',\n",
       " 'CHCO']"
      ]
     },
     "execution_count": 11,
     "metadata": {},
     "output_type": "execute_result"
    }
   ],
   "source": [
    "list(species_data.keys())"
   ]
  },
  {
   "cell_type": "code",
   "execution_count": 23,
   "id": "315d6e6a-9f6f-4e6e-8861-87c6e85c93d1",
   "metadata": {},
   "outputs": [
    {
     "data": {
      "image/png": "[encoded data removed]",
      "text/plain": [
       "Species(label=\"\", molecule=[Molecule(smiles=\"[PtH]\")], molecular_weight=(1.00797,'amu'))"
      ]
     },
     "metadata": {},
     "output_type": "display_data"
    },
    {
     "data": {
      "image/png": "[encoded data removed]",
      "text/plain": [
       "Species(label=\"\", molecule=[Molecule(smiles=\"C~[Pt]\")], molecular_weight=(12.0106,'amu'))"
      ]
     },
     "metadata": {},
     "output_type": "display_data"
    },
    {
     "data": {
      "image/png": "[encoded data removed]",
      "text/plain": [
       "Species(label=\"\", molecule=[Molecule(smiles=\"O=[Pt]\")], molecular_weight=(15.9994,'amu'))"
      ]
     },
     "metadata": {},
     "output_type": "display_data"
    },
    {
     "data": {
      "image/png": "[encoded data removed]",
      "text/plain": [
       "Species(label=\"\", molecule=[Molecule(smiles=\"C#[Pt]\")], molecular_weight=(13.0186,'amu'))"
      ]
     },
     "metadata": {},
     "output_type": "display_data"
    },
    {
     "data": {
      "image/png": "[encoded data removed]",
      "text/plain": [
       "Species(label=\"\", molecule=[Molecule(smiles=\"O[Pt]\")], molecular_weight=(17.0074,'amu'))"
      ]
     },
     "metadata": {},
     "output_type": "display_data"
    },
    {
     "data": {
      "image/png": "[encoded data removed]",
      "text/plain": [
       "Species(label=\"\", molecule=[Molecule(smiles=\"O=C=[Pt]\")], molecular_weight=(28.01,'amu'))"
      ]
     },
     "metadata": {},
     "output_type": "display_data"
    },
    {
     "data": {
      "image/png": "[encoded data removed]",
      "text/plain": [
       "Species(label=\"\", molecule=[Molecule(smiles=\"CC([Pt])C[Pt]\")], molecular_weight=(42.0798,'amu'))"
      ]
     },
     "metadata": {},
     "output_type": "display_data"
    },
    {
     "data": {
      "image/png": "[encoded data removed]",
      "text/plain": [
       "Species(label=\"\", molecule=[Molecule(smiles=\"[Pt]CC([Pt])C[Pt]\")], molecular_weight=(41.0718,'amu'))"
      ]
     },
     "metadata": {},
     "output_type": "display_data"
    },
    {
     "ename": "InvalidAdjacencyListError",
     "evalue": "Invalid valency for atom C (Cs) with 0 unpaired electrons, 0 pairs of electrons, 0 charge, and bonds [1.0,1.0,1.0].",
     "output_type": "error",
     "traceback": [
      "\u001b[0;31m---------------------------------------------------------------------------\u001b[0m",
      "\u001b[0;31mInvalidAdjacencyListError\u001b[0m                 Traceback (most recent call last)",
      "\u001b[0;32m/tmp/ipykernel_6199/1127279230.py\u001b[0m in \u001b[0;36m<module>\u001b[0;34m\u001b[0m\n\u001b[1;32m    110\u001b[0m \u001b[0;36m10\u001b[0m \u001b[0mX\u001b[0m \u001b[0mu0\u001b[0m \u001b[0mp0\u001b[0m \u001b[0mc0\u001b[0m \u001b[0;34m{\u001b[0m\u001b[0;36m1\u001b[0m\u001b[0;34m,\u001b[0m\u001b[0mS\u001b[0m\u001b[0;34m}\u001b[0m\u001b[0;34m\u001b[0m\u001b[0;34m\u001b[0m\u001b[0m\n\u001b[1;32m    111\u001b[0m \"\"\"\n\u001b[0;32m--> 112\u001b[0;31m \u001b[0mspecies_data\u001b[0m\u001b[0;34m[\u001b[0m\u001b[0mspec\u001b[0m\u001b[0;34m]\u001b[0m\u001b[0;34m.\u001b[0m\u001b[0mset_rmg_spec\u001b[0m\u001b[0;34m(\u001b[0m\u001b[0madj\u001b[0m\u001b[0;34m)\u001b[0m\u001b[0;34m\u001b[0m\u001b[0;34m\u001b[0m\u001b[0m\n\u001b[0m\u001b[1;32m    113\u001b[0m \u001b[0mdisplay\u001b[0m\u001b[0;34m(\u001b[0m\u001b[0mspecies_data\u001b[0m\u001b[0;34m[\u001b[0m\u001b[0mspec\u001b[0m\u001b[0;34m]\u001b[0m\u001b[0;34m.\u001b[0m\u001b[0mrmg_spec\u001b[0m\u001b[0;34m)\u001b[0m\u001b[0;34m\u001b[0m\u001b[0;34m\u001b[0m\u001b[0m\n\u001b[1;32m    114\u001b[0m \u001b[0;34m\u001b[0m\u001b[0m\n",
      "\u001b[0;32m/tmp/ipykernel_6199/4041006046.py\u001b[0m in \u001b[0;36mset_rmg_spec\u001b[0;34m(self, adj_list)\u001b[0m\n\u001b[1;32m      9\u001b[0m \u001b[0;34m\u001b[0m\u001b[0m\n\u001b[1;32m     10\u001b[0m     \u001b[0;32mdef\u001b[0m \u001b[0mset_rmg_spec\u001b[0m\u001b[0;34m(\u001b[0m\u001b[0mself\u001b[0m\u001b[0;34m,\u001b[0m \u001b[0madj_list\u001b[0m\u001b[0;34m)\u001b[0m\u001b[0;34m:\u001b[0m\u001b[0;34m\u001b[0m\u001b[0;34m\u001b[0m\u001b[0m\n\u001b[0;32m---> 11\u001b[0;31m         \u001b[0mself\u001b[0m\u001b[0;34m.\u001b[0m\u001b[0mrmg_spec\u001b[0m \u001b[0;34m=\u001b[0m \u001b[0mSpecies\u001b[0m\u001b[0;34m(\u001b[0m\u001b[0;34m)\u001b[0m\u001b[0;34m.\u001b[0m\u001b[0mfrom_adjacency_list\u001b[0m\u001b[0;34m(\u001b[0m\u001b[0madj_list\u001b[0m\u001b[0;34m)\u001b[0m\u001b[0;34m\u001b[0m\u001b[0;34m\u001b[0m\u001b[0m\n\u001b[0m\u001b[1;32m     12\u001b[0m \u001b[0;34m\u001b[0m\u001b[0m\n",
      "\u001b[0;32m/work/westgroup/ChrisB/_04_thesis/rmg_thesis/RMG-Py/rmgpy/species.cpython-37m-x86_64-linux-gnu.so\u001b[0m in \u001b[0;36mrmgpy.species.Species.from_adjacency_list\u001b[0;34m()\u001b[0m\n",
      "\u001b[0;32m/work/westgroup/ChrisB/_04_thesis/rmg_thesis/RMG-Py/rmgpy/species.cpython-37m-x86_64-linux-gnu.so\u001b[0m in \u001b[0;36mrmgpy.species.Species.from_adjacency_list\u001b[0;34m()\u001b[0m\n",
      "\u001b[0;32m/work/westgroup/ChrisB/_04_thesis/rmg_thesis/RMG-Py/rmgpy/molecule/molecule.cpython-37m-x86_64-linux-gnu.so\u001b[0m in \u001b[0;36mrmgpy.molecule.molecule.Molecule.from_adjacency_list\u001b[0;34m()\u001b[0m\n",
      "\u001b[0;32m/work/westgroup/ChrisB/_04_thesis/rmg_thesis/RMG-Py/rmgpy/molecule/adjlist.py\u001b[0m in \u001b[0;36mfrom_adjacency_list\u001b[0;34m(adjlist, group, saturate_h, check_consistency)\u001b[0m\n\u001b[1;32m    863\u001b[0m         \u001b[0;32mfor\u001b[0m \u001b[0matom\u001b[0m \u001b[0;32min\u001b[0m \u001b[0matoms\u001b[0m\u001b[0;34m:\u001b[0m\u001b[0;34m\u001b[0m\u001b[0;34m\u001b[0m\u001b[0m\n\u001b[1;32m    864\u001b[0m             \u001b[0;32mif\u001b[0m \u001b[0misinstance\u001b[0m\u001b[0;34m(\u001b[0m\u001b[0matom\u001b[0m\u001b[0;34m,\u001b[0m \u001b[0mAtom\u001b[0m\u001b[0;34m)\u001b[0m\u001b[0;34m:\u001b[0m\u001b[0;34m\u001b[0m\u001b[0;34m\u001b[0m\u001b[0m\n\u001b[0;32m--> 865\u001b[0;31m                 \u001b[0mConsistencyChecker\u001b[0m\u001b[0;34m.\u001b[0m\u001b[0mcheck_partial_charge\u001b[0m\u001b[0;34m(\u001b[0m\u001b[0matom\u001b[0m\u001b[0;34m)\u001b[0m\u001b[0;34m\u001b[0m\u001b[0;34m\u001b[0m\u001b[0m\n\u001b[0m\u001b[1;32m    866\u001b[0m \u001b[0;34m\u001b[0m\u001b[0m\n\u001b[1;32m    867\u001b[0m         \u001b[0mn_rad\u001b[0m \u001b[0;34m=\u001b[0m \u001b[0msum\u001b[0m\u001b[0;34m(\u001b[0m\u001b[0;34m[\u001b[0m\u001b[0matom\u001b[0m\u001b[0;34m.\u001b[0m\u001b[0mradical_electrons\u001b[0m \u001b[0;32mfor\u001b[0m \u001b[0matom\u001b[0m \u001b[0;32min\u001b[0m \u001b[0matoms\u001b[0m\u001b[0;34m]\u001b[0m\u001b[0;34m)\u001b[0m\u001b[0;34m\u001b[0m\u001b[0;34m\u001b[0m\u001b[0m\n",
      "\u001b[0;32m/work/westgroup/ChrisB/_04_thesis/rmg_thesis/RMG-Py/rmgpy/molecule/adjlist.py\u001b[0m in \u001b[0;36mcheck_partial_charge\u001b[0;34m(atom)\u001b[0m\n\u001b[1;32m    111\u001b[0m                     \u001b[0mlone_pairs\u001b[0m\u001b[0;34m=\u001b[0m\u001b[0matom\u001b[0m\u001b[0;34m.\u001b[0m\u001b[0mlone_pairs\u001b[0m\u001b[0;34m,\u001b[0m\u001b[0;34m\u001b[0m\u001b[0;34m\u001b[0m\u001b[0m\n\u001b[1;32m    112\u001b[0m                     \u001b[0mcharge\u001b[0m\u001b[0;34m=\u001b[0m\u001b[0matom\u001b[0m\u001b[0;34m.\u001b[0m\u001b[0mcharge\u001b[0m\u001b[0;34m,\u001b[0m\u001b[0;34m\u001b[0m\u001b[0;34m\u001b[0m\u001b[0m\n\u001b[0;32m--> 113\u001b[0;31m                     \u001b[0mbonds\u001b[0m\u001b[0;34m=\u001b[0m\u001b[0;34m','\u001b[0m\u001b[0;34m.\u001b[0m\u001b[0mjoin\u001b[0m\u001b[0;34m(\u001b[0m\u001b[0;34m[\u001b[0m\u001b[0mstr\u001b[0m\u001b[0;34m(\u001b[0m\u001b[0mbond\u001b[0m\u001b[0;34m.\u001b[0m\u001b[0morder\u001b[0m\u001b[0;34m)\u001b[0m \u001b[0;32mfor\u001b[0m \u001b[0mbond\u001b[0m \u001b[0;32min\u001b[0m \u001b[0matom\u001b[0m\u001b[0;34m.\u001b[0m\u001b[0mbonds\u001b[0m\u001b[0;34m.\u001b[0m\u001b[0mvalues\u001b[0m\u001b[0;34m(\u001b[0m\u001b[0;34m)\u001b[0m\u001b[0;34m]\u001b[0m\u001b[0;34m)\u001b[0m\u001b[0;34m\u001b[0m\u001b[0;34m\u001b[0m\u001b[0m\n\u001b[0m\u001b[1;32m    114\u001b[0m                 )\n\u001b[1;32m    115\u001b[0m             )\n",
      "\u001b[0;31mInvalidAdjacencyListError\u001b[0m: Invalid valency for atom C (Cs) with 0 unpaired electrons, 0 pairs of electrons, 0 charge, and bonds [1.0,1.0,1.0]."
     ]
    }
   ],
   "source": [
    "# I need to do this by hand I think. tedious but it should be ok. \n",
    "# they have structures at https://www.catalysis-hub.org/publications/StreibelMicrokinetic2021, will use that\n",
    "# easy ones first: \n",
    "# 'H'\n",
    "spec = 'H'\n",
    "adj = \"\"\"\n",
    "1 H u0 p0 c0 {2,S}\n",
    "2 X u0 p0 c0 {1,S}\n",
    "\"\"\"\n",
    "species_data[spec].set_rmg_spec(adj)\n",
    "display(species_data[spec].rmg_spec)\n",
    "\n",
    "# 'C',\n",
    "spec = 'C'\n",
    "adj = \"\"\"\n",
    "1 C u0 p0 c0 {2,Q}\n",
    "2 X u0 p0 c0 {1,Q}\n",
    "\"\"\"\n",
    "species_data[spec].set_rmg_spec(adj)\n",
    "display(species_data[spec].rmg_spec)\n",
    "\n",
    "# 'O',\n",
    "spec = 'O'\n",
    "adj = \"\"\"\n",
    "1 O u0 p2 c0 {2,D}\n",
    "2 X u0 p0 c0 {1,D}\n",
    "\"\"\"\n",
    "species_data[spec].set_rmg_spec(adj)\n",
    "display(species_data[spec].rmg_spec)\n",
    "\n",
    "# 'CH',\n",
    "spec = 'CH'\n",
    "adj = \"\"\"\n",
    "1 C u0 p0 c0 {2,S} {3,T}\n",
    "2 H u0 p0 c0 {1,S}\n",
    "3 X u0 p0 c0 {1,T}\n",
    "\"\"\"\n",
    "species_data[spec].set_rmg_spec(adj)\n",
    "display(species_data[spec].rmg_spec)\n",
    "\n",
    "# 'OH',\n",
    "spec = 'OH'\n",
    "adj = \"\"\"\n",
    "1 O u0 p2 c0 {2,S} {3,S}\n",
    "2 H u0 p0 c0 {1,S}\n",
    "3 X u0 p0 c0 {1,S}\n",
    "\"\"\"\n",
    "species_data[spec].set_rmg_spec(adj)\n",
    "display(species_data[spec].rmg_spec)\n",
    "\n",
    "# 'CO',\n",
    "spec = 'OH'\n",
    "adj = \"\"\"\n",
    "1 C u0 p0 c0 {2,D} {3,D}\n",
    "2 O u0 p2 c0 {1,D}\n",
    "3 X u0 p0 c0 {1,D}\n",
    "\"\"\"\n",
    "species_data[spec].set_rmg_spec(adj)\n",
    "display(species_data[spec].rmg_spec)\n",
    "\n",
    "\n",
    "# 'CH3CHCH2',\n",
    "spec = 'CH3CHCH2'\n",
    "adj = \"\"\"\n",
    "1 C u0 p0 c0 {2,S} {4,S} {5,S} {10,S}\n",
    "2 C u0 p0 c0 {1,S} {3,S} {6,S} {11,S}\n",
    "3 C u0 p0 c0 {2,S} {7,S} {8,S} {9,S}\n",
    "4 H u0 p0 c0 {1,S}\n",
    "5 H u0 p0 c0 {1,S}\n",
    "6 H u0 p0 c0 {2,S}\n",
    "7 H u0 p0 c0 {3,S}\n",
    "8 H u0 p0 c0 {3,S}\n",
    "9 H u0 p0 c0 {3,S}\n",
    "10 X u0 p0 c0 {1,S}\n",
    "11 X u0 p0 c0 {2,S}\n",
    "\"\"\"\n",
    "species_data[spec].set_rmg_spec(adj)\n",
    "display(species_data[spec].rmg_spec)\n",
    "\n",
    "# 'CH2CHCH2',\n",
    "spec = 'CH2CHCH2'\n",
    "adj = \"\"\"\n",
    "1 C u0 p0 c0 {2,S} {4,S} {5,S} {10,S}\n",
    "2 C u0 p0 c0 {1,S} {3,S} {6,S} {11,S}\n",
    "3 C u0 p0 c0 {2,S} {7,S} {8,S} {9,S}\n",
    "4 H u0 p0 c0 {1,S}\n",
    "5 H u0 p0 c0 {1,S}\n",
    "6 H u0 p0 c0 {2,S}\n",
    "7 H u0 p0 c0 {3,S}\n",
    "8 H u0 p0 c0 {3,S}\n",
    "9 X u0 p0 c0 {3,S}\n",
    "10 X u0 p0 c0 {1,S}\n",
    "11 X u0 p0 c0 {2,S}\n",
    "\"\"\"\n",
    "species_data[spec].set_rmg_spec(adj)\n",
    "display(species_data[spec].rmg_spec)\n",
    "\n",
    "# 'CCHCH2',\n",
    "# may not be able to represent, because the middle C is not bound to surf, \n",
    "# so it has unpaired electrons\n",
    "# spec = 'CH2CHCH2'\n",
    "# adj = \"\"\"\n",
    "# 1 C u0 p0 c0 {2,S} {4,S} {5,S} {10,S}\n",
    "# 2 C u0 p0 c0 {1,S} {3,S} {6,S} {11,S}\n",
    "# 3 C u0 p0 c0 {2,S} {7,S} {8,S} {9,S}\n",
    "# 4 H u0 p0 c0 {1,S}\n",
    "# 5 H u0 p0 c0 {1,S}\n",
    "# 6 H u0 p0 c0 {2,S}\n",
    "# 7 H u0 p0 c0 {3,S}\n",
    "# 8 H u0 p0 c0 {3,S}\n",
    "# 9 X u0 p0 c0 {3,S}\n",
    "# 10 X u0 p0 c0 {1,S}\n",
    "# 11 X u0 p0 c0 {2,S}\n",
    "# \"\"\"\n",
    "# species_data[spec].set_rmg_spec(adj)\n",
    "# display(species_data[spec].rmg_spec)\n",
    "\n",
    "# 'CHCC',\n",
    "spec = 'CHCC'\n",
    "adj = \"\"\"\n",
    "1 C u0 p0 c0 {2,S} {,S} {5,S} {10,S}\n",
    "2 C u0 p0 c0 {1,S} {3,S} {6,S} {11,S}\n",
    "3 C u0 p0 c0 {2,S} {7,S} {8,S} {9,S}\n",
    "4 H u0 p0 c0 {1,S}\n",
    "9 X u0 p0 c0 {3,S}\n",
    "10 X u0 p0 c0 {1,S}\n",
    "11 X u0 p0 c0 {2,S}\n",
    "\"\"\"\n",
    "species_data[spec].set_rmg_spec(adj)\n",
    "display(species_data[spec].rmg_spec)\n",
    "\n",
    "# 'CHCHC',\n",
    "\n",
    "\n",
    "# 'COC',\n",
    "\n",
    "\n",
    "# 'O2',\n",
    "\n",
    "\n",
    "# 'CHCHCH2',\n",
    "\n",
    "\n",
    "# 'CHOHC',\n",
    "\n",
    "\n",
    "# 'CHC',\n",
    "\n",
    "\n",
    "# 'CCOH',\n",
    "\n",
    "\n",
    "# 'COOH',\n",
    "\n",
    "\n",
    "# 'COCCH',\n",
    "\n",
    "\n",
    "# 'CHCO',"
   ]
  },
  {
   "cell_type": "code",
   "execution_count": null,
   "id": "6a574beb-e3ef-43a9-a1b6-a611fd43b76c",
   "metadata": {},
   "outputs": [],
   "source": []
  }
 ],
 "metadata": {
  "kernelspec": {
   "display_name": "rmg_thesis",
   "language": "python",
   "name": "rmg_thesis"
  },
  "language_info": {
   "codemirror_mode": {
    "name": "ipython",
    "version": 3
   },
   "file_extension": ".py",
   "mimetype": "text/x-python",
   "name": "python",
   "nbconvert_exporter": "python",
   "pygments_lexer": "ipython3",
   "version": "3.7.12"
  }
 },
 "nbformat": 4,
 "nbformat_minor": 5
}
