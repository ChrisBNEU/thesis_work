{
 "cells": [
  {
   "cell_type": "markdown",
   "id": "94d8c386-2973-47ab-897a-e3a1d4c44a71",
   "metadata": {},
   "source": [
    "# Check with Gao Data\n",
    "verify the rmg calculated thermo by extrapolating the H to 0K against the data from Gao (2016)"
   ]
  },
  {
   "cell_type": "code",
   "execution_count": 1,
   "id": "b4343f00-71ca-4a75-b545-bd96ac54b4f4",
   "metadata": {
    "tags": []
   },
   "outputs": [
    {
     "name": "stdout",
     "output_type": "stream",
     "text": [
      "['/work/westgroup/ChrisB/_04_thesis/Thesis_repo/validation_data', '/work/westgroup/ChrisB/_04_thesis/rmg_thesis/RMG-Py', '/work/westgroup/ChrisB/_04_thesis/Thesis_repo/validation_data', '/work/westgroup/ChrisB/miniconda3/envs/rmg_thesis/lib/python37.zip', '/work/westgroup/ChrisB/miniconda3/envs/rmg_thesis/lib/python3.7', '/work/westgroup/ChrisB/miniconda3/envs/rmg_thesis/lib/python3.7/lib-dynload', '', '/home/blais.ch/.local/lib/python3.7/site-packages', '/work/westgroup/ChrisB/miniconda3/envs/rmg_thesis/lib/python3.7/site-packages', '/work/westgroup/ChrisB/miniconda3/envs/rmg_thesis/lib/python3.7/site-packages/chemprop-0.0.1-py3.7.egg', '/work/westgroup/ChrisB/miniconda3/envs/rmg_thesis/lib/python3.7/site-packages/descriptastorus-2.0.0.32-py3.7.egg', '/work/westgroup/ChrisB/miniconda3/envs/rmg_thesis/lib/python3.7/site-packages/IPython/extensions', '/home/blais.ch/.ipython', '/work/westgroup/ChrisB/_04_thesis/rmg_thesis/RMG-Py/']\n"
     ]
    }
   ],
   "source": [
    "import sys\n",
    "import os\n",
    "import re\n",
    "import numpy\n",
    "import pandas as pd\n",
    "import sys\n",
    "sys.path.append('/work/westgroup/ChrisB/_04_thesis/rmg_thesis/RMG-Py/')\n",
    "print(sys.path)\n",
    "from rmgpy.species import Species"
   ]
  },
  {
   "cell_type": "code",
   "execution_count": 4,
   "id": "79d7296c-c520-4aee-9415-ec8b89e30526",
   "metadata": {
    "tags": []
   },
   "outputs": [],
   "source": [
    "# load the thermodynamics database\n",
    "from rmgpy.data.thermo import ThermoDatabase\n",
    "thermoDatabase = ThermoDatabase()\n",
    "libraries = ['surfaceThermoPt111']\n",
    "if sys.platform == \"darwin\":\n",
    "    thermoDatabase.load(path=\"/Users/blais.ch/Documents/_01_code/RMG_env_1/RMG-database/input/thermo\", libraries = libraries)\n",
    "else: \n",
    "    thermoDatabase.load(path='/work/westgroup/ChrisB/_04_thesis/rmg_thesis/RMG-database/input/thermo', libraries = libraries)\n",
    "    \n",
    "thermoDatabase.load_surface()"
   ]
  },
  {
   "cell_type": "code",
   "execution_count": 5,
   "id": "5e4540a6-7c89-4b9a-bb80-0a94346c0448",
   "metadata": {
    "tags": []
   },
   "outputs": [],
   "source": [
    "class SpeciesDat():\n",
    "    def __init__(self, adj_list): \n",
    "        self.rmg_spec = Species().from_adjacency_list(adj_list)\n",
    "        self.rmg_spec.thermo = thermoDatabase.get_thermo_data_from_libraries(self.rmg_spec)[0]\n",
    "        self.rmg_spec.generate_resonance_structures()\n",
    "        self.spec_thermo = self.rmg_spec.thermo.to_thermo_data()\n",
    "        self.rmg_spec.thermo = self.spec_thermo\n",
    "        self.E_ad_old = (self.rmg_spec.thermo.H298.value_si)/9.68e4\n",
    "\n",
    "    def scale_rmg_thermo(metal_from='Pt', metal_to='Rh', \n",
    "                         facet_from='111', facet_to='211'):\n",
    "        \n",
    "        self.new_thermo = thermoDatabase.correct_binding_energies_extended(self.spec_thermo, \n",
    "                                                                           self.rmg_spec, \n",
    "                                                                           metal_to_scale_from=metal_from,\n",
    "                                                                           metal_to_scale_to=metal_to, \n",
    "                                                                           facet_to_scale_from=facet_from, \n",
    "                                                                           facet_to_scale_to=facet_to)\n",
    "    def set_gao_hf(self, hf): \n",
    "        self.gao_hf = hf\n",
    "\n",
    "        "
   ]
  },
  {
   "cell_type": "code",
   "execution_count": null,
   "id": "1849c302-ff79-4261-b5c3-44fcec6efcf8",
   "metadata": {},
   "outputs": [],
   "source": [
    "gao_species = {}\n",
    "\n",
    "# C\n",
    "spec = 'C'\n",
    "adj = \"\"\"\n",
    "1 C u0 p0 c0 {2,Q}\n",
    "2 X u0 p0 c0 {1,Q}\n",
    "\"\"\"\n",
    "gao_species[spec] = SpeciesDat(adj)\n",
    "display(spec,gao_species[spec].rmg_spec)"
   ]
  },
  {
   "cell_type": "code",
   "execution_count": null,
   "id": "cda5c874-2485-4d12-80c4-02c28492adbb",
   "metadata": {
    "tags": []
   },
   "outputs": [],
   "source": [
    "gao_species = {}\n",
    "\n",
    "# C\n",
    "spec = 'C'\n",
    "adj = \"\"\"\n",
    "1 C u0 p0 c0 {2,Q}\n",
    "2 X u0 p0 c0 {1,Q}\n",
    "\"\"\"\n",
    "gao_species[spec] = SpeciesDat(adj)\n",
    "display(spec,gao_species[spec].rmg_spec)\n",
    "\n",
    "# CH\n",
    "spec = 'CH'\n",
    "adj = \"\"\"\n",
    "1 C u0 p0 c0 {2,S} {3,T}\n",
    "2 H u0 p0 c0 {1,S}\n",
    "3 X u0 p0 c0 {1,T}\n",
    "\"\"\"\n",
    "gao_species[spec] = SpeciesDat(adj)\n",
    "display(spec, gao_species[spec].rmg_spec)\n",
    "\n",
    "# CH2\n",
    "spec = 'CH2'\n",
    "adj = \"\"\"\n",
    "1 C u0 p0 c0 {2,S} {3,S} {4,D}\n",
    "2 H u0 p0 c0 {1,S}\n",
    "3 H u0 p0 c0 {1,S}\n",
    "4 X u0 p0 c0 {1,D}\n",
    "\"\"\"\n",
    "gao_species[spec] = SpeciesDat(adj)\n",
    "display(spec,gao_species[spec].rmg_spec)\n",
    "\n",
    "# CH3\n",
    "spec = 'CH3'\n",
    "adj = \"\"\"\n",
    "1 C u0 p0 c0 {2,S} {3,S} {4,S} {5,S}\n",
    "2 H u0 p0 c0 {1,S}\n",
    "3 H u0 p0 c0 {1,S}\n",
    "4 H u0 p0 c0 {1,S}\n",
    "5 X u0 p0 c0 {1,S}\n",
    "\"\"\"\n",
    "gao_species[spec] = SpeciesDat(adj)\n",
    "display(spec,gao_species[spec].rmg_spec)\n",
    "\n",
    "# CO\n",
    "spec = 'CO'\n",
    "adj = \"\"\"\n",
    "1 C u0 p0 c0 {2,D} {3,D} \n",
    "2 O u0 p2 c0 {1,D}\n",
    "3 X u0 p0 c0 {1,D}\n",
    "\"\"\"\n",
    "gao_species[spec] = SpeciesDat(adj)\n",
    "display(spec,gao_species[spec].rmg_spec)\n",
    "\n",
    "# COOH\n",
    "spec = 'COOH'\n",
    "adj = \"\"\"\n",
    "1 C u0 p0 c0 {2,D} {3,S} {5,S}\n",
    "2 O u0 p2 c0 {1,D}\n",
    "3 O u0 p2 c0 {1,S} {4,S}\n",
    "4 H u0 p0 c0 {3,S}\n",
    "5 X u0 p0 c0 {1,S}\n",
    "\"\"\"\n",
    "gao_species[spec] = SpeciesDat(adj)\n",
    "display(spec,gao_species[spec].rmg_spec)\n",
    "\n",
    "# CHO\n",
    "spec = 'CHO'\n",
    "adj = \"\"\"\n",
    "1 C u0 p0 c0 {2,D} {3,S} {4,S}\n",
    "2 O u0 p2 c0 {1,D}\n",
    "3 H u0 p0 c0 {1,S}\n",
    "4 X u0 p0 c0 {1,S}\n",
    "\"\"\"\n",
    "gao_species[spec] = SpeciesDat(adj)\n",
    "display(spec,gao_species[spec].rmg_spec)\n",
    "\n",
    "# COH\n",
    "spec = 'COH'\n",
    "adj = \"\"\"\n",
    "1 C u0 p0 c0 {2,S} {4,T}\n",
    "2 O u0 p2 c0 {1,S} {3,S}\n",
    "3 H u0 p0 c0 {2,S}\n",
    "4 X u0 p0 c0 {1,T}\n",
    "\"\"\"\n",
    "gao_species[spec] = SpeciesDat(adj)\n",
    "display(spec,gao_species[spec].rmg_spec)\n",
    "\n",
    "# CHOH\n",
    "spec = 'CHOH'\n",
    "adj = \"\"\"\n",
    "1 C u0 p0 c0 {2,S} {4,S} {5,D}\n",
    "2 O u0 p2 c0 {1,S} {3,S}\n",
    "3 H u0 p0 c0 {2,S}\n",
    "4 H u0 p0 c0 {1,S}\n",
    "5 X u0 p0 c0 {1,D}\n",
    "\"\"\"\n",
    "gao_species[spec] = SpeciesDat(adj)\n",
    "display(spec,gao_species[spec].rmg_spec)\n",
    "\n",
    "# N\n",
    "spec = 'N'\n",
    "adj = \"\"\"\n",
    "1 N u0 p1 c0 {2,T} \n",
    "2 X u0 p0 c0 {1,T}\n",
    "\"\"\"\n",
    "gao_species[spec] = SpeciesDat(adj)\n",
    "display(spec,gao_species[spec].rmg_spec)\n",
    "\n",
    "# NH\n",
    "spec = 'NH'\n",
    "adj = \"\"\"\n",
    "1 N u0 p1 c0 {2,S} {3,D} \n",
    "2 H u0 p0 c0 {1,S}\n",
    "3 X u0 p0 c0 {1,D}\n",
    "\"\"\"\n",
    "gao_species[spec] = SpeciesDat(adj)\n",
    "display(spec,gao_species[spec].rmg_spec)\n",
    "\n",
    "# NNH2 \n",
    "spec = 'NNH2'\n",
    "adj = \"\"\"\n",
    "1 N u0 p1 c0 {2,S} {3,S} {4,S}\n",
    "2 N u0 p1 c0 {1,S} {5,D} \n",
    "3 H u0 p0 c0 {1,S}\n",
    "4 H u0 p0 c0 {1,S}\n",
    "5 X u0 p0 c0 {2,D}\n",
    "\"\"\"\n",
    "gao_species[spec] = SpeciesDat(adj)\n",
    "display(spec,gao_species[spec].rmg_spec)\n",
    "\n",
    "# NH2\n",
    "spec = 'NH2'\n",
    "adj = \"\"\"\n",
    "1 N u0 p1 c0 {2,S} {3,S} {4,S} \n",
    "2 H u0 p0 c0 {1,S}\n",
    "3 H u0 p0 c0 {1,S}\n",
    "4 X u0 p0 c0 {1,S}\n",
    "\"\"\"\n",
    "gao_species[spec] = SpeciesDat(adj)\n",
    "display(spec,gao_species[spec].rmg_spec)\n",
    "\n",
    "# O\n",
    "spec = 'O'\n",
    "adj = \"\"\"\n",
    "1 O u0 p2 c0 {2,D}\n",
    "2 X u0 p0 c0 {1,D}\n",
    "\"\"\"\n",
    "gao_species[spec] = SpeciesDat(adj)\n",
    "display(spec,gao_species[spec].rmg_spec)\n",
    "\n",
    "# OH\n",
    "spec = 'OH'\n",
    "adj = \"\"\"\n",
    "1 O u0 p2 c0 {2,S} {3,S}\n",
    "2 H u0 p0 c0 {1,S}\n",
    "3 X u0 p0 c0 {1,S}\n",
    "\"\"\"\n",
    "gao_species[spec] = SpeciesDat(adj)\n",
    "display(spec,gao_species[spec].rmg_spec)\n",
    "\n",
    "# OOH\n",
    "spec = 'OOH'\n",
    "adj = \"\"\"\n",
    "1 O u0 p2 c0 {2,S} {4,S}\n",
    "2 O u0 p2 c0 {1,S} {3,S}\n",
    "3 H u0 p0 c0 {2,S}\n",
    "4 X u0 p0 c0 {1,S}\n",
    "\"\"\"\n",
    "gao_species[spec] = SpeciesDat(adj)\n",
    "display(spec,gao_species[spec].rmg_spec)\n",
    "\n",
    "# OCH3\n",
    "spec = 'OCH3'\n",
    "adj = \"\"\"\n",
    "1 O u0 p2 c0 {2,S} {6,S}\n",
    "2 C u0 p0 c0 {1,S} {3,S} {4,S} {5,S}\n",
    "3 H u0 p0 c0 {2,S}\n",
    "4 H u0 p0 c0 {2,S}\n",
    "5 H u0 p0 c0 {2,S}\n",
    "6 X u0 p0 c0 {1,S}\n",
    "\"\"\"\n",
    "gao_species[spec] = SpeciesDat(adj)\n",
    "display(spec,gao_species[spec].rmg_spec)"
   ]
  },
  {
   "cell_type": "code",
   "execution_count": null,
   "id": "e8a2ad10-d05e-47aa-804b-6504f4a247ab",
   "metadata": {
    "tags": []
   },
   "outputs": [],
   "source": [
    "Hf0 = gao_species['C'].rmg_spec.thermo.get_enthalpy(0)/9.68e4"
   ]
  },
  {
   "cell_type": "code",
   "execution_count": null,
   "id": "751e8118-a8b9-4973-a666-3b760b9a5aef",
   "metadata": {
    "tags": []
   },
   "outputs": [],
   "source": [
    "gao_species['C'].rmg_spec.thermo.to_nasa(298,1000,2000)"
   ]
  },
  {
   "cell_type": "code",
   "execution_count": null,
   "id": "5a480f3c-7192-4e46-a348-8f6689720e0d",
   "metadata": {
    "tags": []
   },
   "outputs": [],
   "source": [
    "dir(gao_species['C'].rmg_spec.thermo)\n",
    "gao_species['C'].rmg_spec.thermo._Cp0, gao_species['C'].rmg_spec.thermo._CpInf, "
   ]
  },
  {
   "cell_type": "code",
   "execution_count": null,
   "id": "0113edd3-4291-41e0-9c05-7f4a50212935",
   "metadata": {
    "tags": []
   },
   "outputs": [],
   "source": [
    "dir(gao_species['O'].rmg_spec.thermo)\n",
    "gao_species['O'].rmg_spec.thermo._Cp0, gao_species['O'].rmg_spec.thermo._CpInf, "
   ]
  },
  {
   "cell_type": "code",
   "execution_count": null,
   "id": "e1d607aa-d23c-49a3-bf94-ab12f159c9cb",
   "metadata": {
    "tags": []
   },
   "outputs": [],
   "source": [
    "gao_species['CHOH'].rmg_spec.molecule[0].atoms"
   ]
  },
  {
   "cell_type": "code",
   "execution_count": null,
   "id": "9ba26287-0cdc-4081-b11a-7582710f9b45",
   "metadata": {},
   "outputs": [],
   "source": [
    "list(gao_species.keys)"
   ]
  },
  {
   "cell_type": "markdown",
   "id": "bd4df963-1486-43eb-bf03-37843e468369",
   "metadata": {},
   "source": [
    "## Read in gao data"
   ]
  },
  {
   "cell_type": "code",
   "execution_count": null,
   "id": "8baf7ab1-6643-43a6-95d7-fd2bc5103cf5",
   "metadata": {},
   "outputs": [],
   "source": [
    "gao_species['C'].set_gao_hf(\n",
    "    pd.read_excel(\"./gao_calcs.xlsx\", sheet_name = \"Fig. 7\", index_col='B', skiprows=0, nrows=20, usecols=\"C:E\"))\n",
    "\n",
    "gao_species['CH'].set_gao_hf(\n",
    "    pd.read_excel(\"./gao_calcs.xlsx\", sheet_name = \"Fig. 7\", index_col='H', skiprows=0, nrows=20, usecols=\"H:J\"))\n",
    "\n",
    "gao_species['CH2'].set_gao_hf(\n",
    "    pd.read_excel(\"./gao_calcs.xlsx\", sheet_name = \"Fig. 7\", index_col='H', skiprows=0, nrows=20, usecols=\"H:J\"))"
   ]
  },
  {
   "cell_type": "code",
   "execution_count": null,
   "id": "363ac6e8-e360-4da5-a8f4-b8b3af4877af",
   "metadata": {},
   "outputs": [],
   "source": []
  }
 ],
 "metadata": {
  "kernelspec": {
   "display_name": "rmg_thesis",
   "language": "python",
   "name": "rmg_thesis"
  },
  "language_info": {
   "codemirror_mode": {
    "name": "ipython",
    "version": 3
   },
   "file_extension": ".py",
   "mimetype": "text/x-python",
   "name": "python",
   "nbconvert_exporter": "python",
   "pygments_lexer": "ipython3",
   "version": "3.7.12"
  }
 },
 "nbformat": 4,
 "nbformat_minor": 5
}
