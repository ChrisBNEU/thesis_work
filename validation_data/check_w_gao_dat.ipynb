{
 "cells": [
  {
   "cell_type": "markdown",
   "id": "94d8c386-2973-47ab-897a-e3a1d4c44a71",
   "metadata": {},
   "source": [
    "# Check with Gao Data\n",
    "verify the rmg calculated thermo by extrapolating the H to 0K against the data from Gao (2016)"
   ]
  },
  {
   "cell_type": "code",
   "execution_count": 1,
   "id": "b4343f00-71ca-4a75-b545-bd96ac54b4f4",
   "metadata": {
    "tags": []
   },
   "outputs": [
    {
     "name": "stdout",
     "output_type": "stream",
     "text": [
      "['/work/westgroup/ChrisB/_04_thesis/Thesis_repo/validation_data', '/work/westgroup/ChrisB/miniconda3/envs/rmg_thesis/lib/python37.zip', '/work/westgroup/ChrisB/miniconda3/envs/rmg_thesis/lib/python3.7', '/work/westgroup/ChrisB/miniconda3/envs/rmg_thesis/lib/python3.7/lib-dynload', '', '/home/blais.ch/.local/lib/python3.7/site-packages', '/work/westgroup/ChrisB/miniconda3/envs/rmg_thesis/lib/python3.7/site-packages', '/work/westgroup/ChrisB/miniconda3/envs/rmg_thesis/lib/python3.7/site-packages/chemprop-0.0.1-py3.7.egg', '/work/westgroup/ChrisB/miniconda3/envs/rmg_thesis/lib/python3.7/site-packages/descriptastorus-2.0.0.32-py3.7.egg', '/work/westgroup/ChrisB/miniconda3/envs/rmg_thesis/lib/python3.7/site-packages/IPython/extensions', '/home/blais.ch/.ipython', '/work/westgroup/ChrisB/_04_thesis/rmg_thesis/RMG-Py/']\n"
     ]
    }
   ],
   "source": [
    "import sys\n",
    "import os\n",
    "import re\n",
    "import numpy\n",
    "import sys\n",
    "sys.path.append('/work/westgroup/ChrisB/_04_thesis/rmg_thesis/RMG-Py/')\n",
    "print(sys.path)\n",
    "from rmgpy.species import Species"
   ]
  },
  {
   "cell_type": "code",
   "execution_count": 29,
   "id": "79d7296c-c520-4aee-9415-ec8b89e30526",
   "metadata": {
    "tags": []
   },
   "outputs": [],
   "source": [
    "# load the thermodynamics database\n",
    "from rmgpy.data.thermo import ThermoDatabase\n",
    "thermoDatabase = ThermoDatabase()\n",
    "libraries = ['surfaceThermoPt111']\n",
    "if sys.platform == \"darwin\":\n",
    "    thermoDatabase.load(path=\"/Users/blais.ch/Documents/_01_code/RMG_env_1/RMG-database/input/thermo\", libraries = libraries)\n",
    "else: \n",
    "    thermoDatabase.load(path='/work/westgroup/ChrisB/_04_thesis/rmg_thesis/RMG-database/input/thermo', libraries = libraries)\n",
    "    \n",
    "thermoDatabase.load_surface()"
   ]
  },
  {
   "cell_type": "code",
   "execution_count": 37,
   "id": "5e4540a6-7c89-4b9a-bb80-0a94346c0448",
   "metadata": {
    "tags": []
   },
   "outputs": [],
   "source": [
    "class SpeciesDat():\n",
    "    def __init__(self, adj_list): \n",
    "        self.rmg_spec = Species().from_adjacency_list(adj_list)\n",
    "        self.rmg_spec.thermo = thermoDatabase.get_thermo_data_from_libraries(self.rmg_spec)[0]\n",
    "        self.rmg_spec.generate_resonance_structures()\n",
    "        self.spec_thermo = self.rmg_spec.thermo.to_thermo_data()\n",
    "        self.rmg_spec.thermo = self.spec_thermo\n",
    "        self.E_ad_old = (self.rmg_spec.thermo.H298.value_si)/9.68e4\n",
    "\n",
    "    def scale_rmg_thermo(metal_from='Pt', metal_to='Rh', \n",
    "                         facet_from='111', facet_to='211'):\n",
    "        \n",
    "        self.new_thermo = thermoDatabase.correct_binding_energies_extended(self.spec_thermo, \n",
    "                                                                           self.rmg_spec, \n",
    "                                                                           metal_to_scale_from=metal_from,\n",
    "                                                                           metal_to_scale_to=metal_to, \n",
    "                                                                           facet_to_scale_from=facet_from, \n",
    "                                                                           facet_to_scale_to=facet_to)\n",
    "        \n",
    "\n",
    "        "
   ]
  },
  {
   "cell_type": "code",
   "execution_count": 38,
   "id": "cda5c874-2485-4d12-80c4-02c28492adbb",
   "metadata": {
    "collapsed": true,
    "jupyter": {
     "outputs_hidden": true
    },
    "tags": []
   },
   "outputs": [
    {
     "data": {
      "text/plain": [
       "'C'"
      ]
     },
     "metadata": {},
     "output_type": "display_data"
    },
    {
     "data": {
      "image/png": "[encoded data removed]",
      "text/plain": [
       "Species(label=\"\", thermo=ThermoData(Tdata=([300,400,500,600,800,1000,1500],'K'), Cpdata=([13.4843,17.4239,19.8035,21.2216,22.7418,23.4692,24.2285],'J/(mol*K)'), H298=(58.6335,'kJ/mol'), S298=(6.01471,'J/(mol*K)'), Cp0=(0.01,'J/(mol*K)'), CpInf=(49.8868,'J/(mol*K)'), comment=\"\"\"Thermo library: surfaceThermoPt111\"\"\"), molecule=[Molecule(smiles=\"C~[Pt]\")], molecular_weight=(12.0106,'amu'))"
      ]
     },
     "metadata": {},
     "output_type": "display_data"
    },
    {
     "data": {
      "text/plain": [
       "'CH'"
      ]
     },
     "metadata": {},
     "output_type": "display_data"
    },
    {
     "data": {
      "image/png": "[encoded data removed]",
      "text/plain": [
       "Species(label=\"\", thermo=ThermoData(Tdata=([300,400,500,600,800,1000,1500],'K'), Cpdata=([22.1029,28.3627,32.3991,35.0705,38.5562,40.9066,44.5354],'J/(mol*K)'), H298=(-23.0932,'kJ/mol'), S298=(11.3672,'J/(mol*K)'), Cp0=(0.01,'J/(mol*K)'), CpInf=(74.8302,'J/(mol*K)'), comment=\"\"\"Thermo library: surfaceThermoPt111\"\"\"), molecule=[Molecule(smiles=\"C#[Pt]\")], molecular_weight=(13.0186,'amu'))"
      ]
     },
     "metadata": {},
     "output_type": "display_data"
    },
    {
     "data": {
      "text/plain": [
       "'CH2'"
      ]
     },
     "metadata": {},
     "output_type": "display_data"
    },
    {
     "data": {
      "image/png": "[encoded data removed]",
      "text/plain": [
       "Species(label=\"\", thermo=ThermoData(Tdata=([300,400,500,600,800,1000,1500],'K'), Cpdata=([28.7046,36.5372,42.1732,46.3711,52.4928,56.9944,64.1554],'J/(mol*K)'), H298=(0.742286,'kJ/mol'), S298=(22.0707,'J/(mol*K)'), Cp0=(0.01,'J/(mol*K)'), CpInf=(99.7737,'J/(mol*K)'), comment=\"\"\"Thermo library: surfaceThermoPt111\"\"\"), molecule=[Molecule(smiles=\"C=[Pt]\")], molecular_weight=(14.0266,'amu'))"
      ]
     },
     "metadata": {},
     "output_type": "display_data"
    },
    {
     "data": {
      "text/plain": [
       "'CH3'"
      ]
     },
     "metadata": {},
     "output_type": "display_data"
    },
    {
     "data": {
      "image/png": "[encoded data removed]",
      "text/plain": [
       "Species(label=\"\", thermo=ThermoData(Tdata=([300,400,500,600,800,1000,1500],'K'), Cpdata=([36.1311,44.1984,50.8679,56.4488,65.3093,72.1614,83.2072],'J/(mol*K)'), H298=(-47.277,'kJ/mol'), S298=(38.3303,'J/(mol*K)'), Cp0=(0.01,'J/(mol*K)'), CpInf=(124.717,'J/(mol*K)'), comment=\"\"\"Thermo library: surfaceThermoPt111\"\"\"), molecule=[Molecule(smiles=\"C[Pt]\")], molecular_weight=(15.0346,'amu'))"
      ]
     },
     "metadata": {},
     "output_type": "display_data"
    },
    {
     "data": {
      "text/plain": [
       "'CO'"
      ]
     },
     "metadata": {},
     "output_type": "display_data"
    },
    {
     "data": {
      "image/png": "[encoded data removed]",
      "text/plain": [
       "Species(label=\"\", thermo=ThermoData(Tdata=([300,400,500,600,800,1000,1500],'K'), Cpdata=([33.9702,37.4333,39.8618,41.6338,44.1503,45.7269,47.7208],'J/(mol*K)'), H298=(-280.051,'kJ/mol'), S298=(30.8103,'J/(mol*K)'), Cp0=(0.01,'J/(mol*K)'), CpInf=(74.8302,'J/(mol*K)'), comment=\"\"\"Thermo library: surfaceThermoPt111\"\"\"), molecule=[Molecule(smiles=\"O=C=[Pt]\")], molecular_weight=(28.01,'amu'))"
      ]
     },
     "metadata": {},
     "output_type": "display_data"
    },
    {
     "data": {
      "text/plain": [
       "'COOH'"
      ]
     },
     "metadata": {},
     "output_type": "display_data"
    },
    {
     "data": {
      "image/png": "[encoded data removed]",
      "text/plain": [
       "Species(label=\"\", thermo=ThermoData(Tdata=([300,400,500,600,800,1000,1500],'K'), Cpdata=([46.3621,54.5396,60.7165,65.4189,71.981,76.3356,82.5654],'J/(mol*K)'), H298=(-471.848,'kJ/mol'), S298=(98.2746,'J/(mol*K)'), Cp0=(0.01,'J/(mol*K)'), CpInf=(124.717,'J/(mol*K)'), comment=\"\"\"Thermo library: surfaceThermoPt111\"\"\"), molecule=[Molecule(smiles=\"O=C(O)[Pt]\")], molecular_weight=(45.0174,'amu'))"
      ]
     },
     "metadata": {},
     "output_type": "display_data"
    },
    {
     "data": {
      "text/plain": [
       "'CHO'"
      ]
     },
     "metadata": {},
     "output_type": "display_data"
    },
    {
     "data": {
      "image/png": "[encoded data removed]",
      "text/plain": [
       "Species(label=\"\", thermo=ThermoData(Tdata=([300,400,500,600,800,1000,1500],'K'), Cpdata=([39.1115,44.8017,49.3195,52.9561,58.4298,62.2712,67.7503],'J/(mol*K)'), H298=(-225.188,'kJ/mol'), S298=(60.7672,'J/(mol*K)'), Cp0=(0.01,'J/(mol*K)'), CpInf=(99.7737,'J/(mol*K)'), comment=\"\"\"Thermo library: surfaceThermoPt111\"\"\"), molecule=[Molecule(smiles=\"O=C[Pt]\")], molecular_weight=(29.018,'amu'))"
      ]
     },
     "metadata": {},
     "output_type": "display_data"
    },
    {
     "data": {
      "text/plain": [
       "'COH'"
      ]
     },
     "metadata": {},
     "output_type": "display_data"
    },
    {
     "data": {
      "image/png": "[encoded data removed]",
      "text/plain": [
       "Species(label=\"\", thermo=ThermoData(Tdata=([300,400,500,600,800,1000,1500],'K'), Cpdata=([41.158,47.7046,52.3579,55.7023,60.1435,63.0692,67.5406],'J/(mol*K)'), H298=(-245.844,'kJ/mol'), S298=(37.4573,'J/(mol*K)'), Cp0=(0.01,'J/(mol*K)'), CpInf=(99.7737,'J/(mol*K)'), comment=\"\"\"Thermo library: surfaceThermoPt111\"\"\"), molecule=[Molecule(smiles=\"OC#[Pt]\")], molecular_weight=(29.018,'amu'))"
      ]
     },
     "metadata": {},
     "output_type": "display_data"
    },
    {
     "data": {
      "text/plain": [
       "'CHOH'"
      ]
     },
     "metadata": {},
     "output_type": "display_data"
    },
    {
     "data": {
      "image/png": "[encoded data removed]",
      "text/plain": [
       "Species(label=\"\", thermo=ThermoData(Tdata=([300,400,500,600,800,1000,1500],'K'), Cpdata=([34.6939,43.2763,50.2257,55.8384,64.1204,70.0218,78.8601],'J/(mol*K)'), H298=(-213.636,'kJ/mol'), S298=(82.3122,'J/(mol*K)'), Cp0=(0.01,'J/(mol*K)'), CpInf=(124.717,'J/(mol*K)'), comment=\"\"\"Thermo library: surfaceThermoPt111\"\"\"), molecule=[Molecule(smiles=\"OC=[Pt]\")], molecular_weight=(30.026,'amu'))"
      ]
     },
     "metadata": {},
     "output_type": "display_data"
    },
    {
     "data": {
      "text/plain": [
       "'N'"
      ]
     },
     "metadata": {},
     "output_type": "display_data"
    },
    {
     "data": {
      "image/png": "[encoded data removed]",
      "text/plain": [
       "Species(label=\"\", thermo=ThermoData(Tdata=([300,400,500,600,800,1000,1500],'K'), Cpdata=([16.4449,19.5832,21.3836,22.3958,23.451,23.9333,24.4457],'J/(mol*K)'), H298=(36.0549,'kJ/mol'), S298=(8.98132,'J/(mol*K)'), Cp0=(0.01,'J/(mol*K)'), CpInf=(49.8868,'J/(mol*K)'), comment=\"\"\"Thermo library: surfaceThermoPt111\"\"\"), molecule=[Molecule(smiles=\"N#[Pt]\")], molecular_weight=(14.0069,'amu'))"
      ]
     },
     "metadata": {},
     "output_type": "display_data"
    },
    {
     "data": {
      "text/plain": [
       "'NH'"
      ]
     },
     "metadata": {},
     "output_type": "display_data"
    },
    {
     "data": {
      "image/png": "[encoded data removed]",
      "text/plain": [
       "Species(label=\"\", thermo=ThermoData(Tdata=([300,400,500,600,800,1000,1500],'K'), Cpdata=([21.7075,28.0333,32.0787,34.7103,38.0281,40.2395,43.8413],'J/(mol*K)'), H298=(-16.9718,'kJ/mol'), S298=(10.6892,'J/(mol*K)'), Cp0=(0.01,'J/(mol*K)'), CpInf=(74.8302,'J/(mol*K)'), comment=\"\"\"Thermo library: surfaceThermoPt111\"\"\"), molecule=[Molecule(smiles=\"N=[Pt]\")], molecular_weight=(15.0148,'amu'))"
      ]
     },
     "metadata": {},
     "output_type": "display_data"
    },
    {
     "data": {
      "text/plain": [
       "'NNH2'"
      ]
     },
     "metadata": {},
     "output_type": "display_data"
    },
    {
     "data": {
      "image/png": "[encoded data removed]",
      "text/plain": [
       "Species(label=\"\", thermo=ThermoData(Tdata=([300,400,500,600,800,1000,1500],'K'), Cpdata=([46.9881,55.0764,61.2268,65.997,73.0117,78.1192,86.3815],'J/(mol*K)'), H298=(42.9921,'kJ/mol'), S298=(42.739,'J/(mol*K)'), Cp0=(0.01,'J/(mol*K)'), CpInf=(124.717,'J/(mol*K)'), comment=\"\"\"Thermo library: surfaceThermoPt111\"\"\"), molecule=[Molecule(smiles=\"NN=[Pt]\")], molecular_weight=(30.0297,'amu'))"
      ]
     },
     "metadata": {},
     "output_type": "display_data"
    },
    {
     "data": {
      "text/plain": [
       "'NH2'"
      ]
     },
     "metadata": {},
     "output_type": "display_data"
    },
    {
     "data": {
      "image/png": "[encoded data removed]",
      "text/plain": [
       "Species(label=\"\", thermo=ThermoData(Tdata=([300,400,500,600,800,1000,1500],'K'), Cpdata=([29.7949,37.127,42.3059,46.0893,51.5237,55.5891,62.6126],'J/(mol*K)'), H298=(-41.6222,'kJ/mol'), S298=(20.3551,'J/(mol*K)'), Cp0=(0.01,'J/(mol*K)'), CpInf=(99.7737,'J/(mol*K)'), comment=\"\"\"Thermo library: surfaceThermoPt111\"\"\"), molecule=[Molecule(smiles=\"N[Pt]\")], molecular_weight=(16.0228,'amu'))"
      ]
     },
     "metadata": {},
     "output_type": "display_data"
    },
    {
     "data": {
      "text/plain": [
       "'O'"
      ]
     },
     "metadata": {},
     "output_type": "display_data"
    },
    {
     "data": {
      "image/png": "[encoded data removed]",
      "text/plain": [
       "Species(label=\"\", thermo=ThermoData(Tdata=([300,400,500,600,800,1000,1500],'K'), Cpdata=([18.4022,20.901,22.2986,23.0607,23.8451,24.1944,24.5706],'J/(mol*K)'), H298=(-133.865,'kJ/mol'), S298=(11.9566,'J/(mol*K)'), Cp0=(0.01,'J/(mol*K)'), CpInf=(49.8868,'J/(mol*K)'), comment=\"\"\"Thermo library: surfaceThermoPt111\"\"\"), molecule=[Molecule(smiles=\"O=[Pt]\")], molecular_weight=(15.9994,'amu'))"
      ]
     },
     "metadata": {},
     "output_type": "display_data"
    },
    {
     "data": {
      "text/plain": [
       "'OH'"
      ]
     },
     "metadata": {},
     "output_type": "display_data"
    },
    {
     "data": {
      "image/png": "[encoded data removed]",
      "text/plain": [
       "Species(label=\"\", thermo=ThermoData(Tdata=([300,400,500,600,800,1000,1500],'K'), Cpdata=([34.4603,37.1423,38.6747,39.5846,40.8443,41.9306,44.3954],'J/(mol*K)'), H298=(-150.375,'kJ/mol'), S298=(71.2671,'J/(mol*K)'), Cp0=(0.01,'J/(mol*K)'), CpInf=(74.8302,'J/(mol*K)'), comment=\"\"\"Thermo library: surfaceThermoPt111\"\"\"), molecule=[Molecule(smiles=\"O[Pt]\")], molecular_weight=(17.0074,'amu'))"
      ]
     },
     "metadata": {},
     "output_type": "display_data"
    },
    {
     "data": {
      "text/plain": [
       "'OOH'"
      ]
     },
     "metadata": {},
     "output_type": "display_data"
    },
    {
     "data": {
      "image/png": "[encoded data removed]",
      "text/plain": [
       "Species(label=\"\", thermo=ThermoData(Tdata=([300,400,500,600,800,1000,1500],'K'), Cpdata=([45.1793,48.6836,51.0998,52.8217,55.2442,57.0465,60.3078],'J/(mol*K)'), H298=(-121.818,'kJ/mol'), S298=(108.55,'J/(mol*K)'), Cp0=(0.01,'J/(mol*K)'), CpInf=(99.7737,'J/(mol*K)'), comment=\"\"\"Thermo library: surfaceThermoPt111\"\"\"), molecule=[Molecule(smiles=\"OO[Pt]\")], molecular_weight=(33.0068,'amu'))"
      ]
     },
     "metadata": {},
     "output_type": "display_data"
    },
    {
     "data": {
      "text/plain": [
       "'OCH3'"
      ]
     },
     "metadata": {},
     "output_type": "display_data"
    },
    {
     "data": {
      "image/png": "[encoded data removed]",
      "text/plain": [
       "Species(label=\"\", thermo=ThermoData(Tdata=([300,400,500,600,800,1000,1500],'K'), Cpdata=([42.221,50.9822,58.9172,65.9074,77.0634,85.4398,98.2468],'J/(mol*K)'), H298=(-158.005,'kJ/mol'), S298=(89.2708,'J/(mol*K)'), Cp0=(0.01,'J/(mol*K)'), CpInf=(149.66,'J/(mol*K)'), comment=\"\"\"Thermo library: surfaceThermoPt111\"\"\"), molecule=[Molecule(smiles=\"CO[Pt]\")], molecular_weight=(31.034,'amu'))"
      ]
     },
     "metadata": {},
     "output_type": "display_data"
    }
   ],
   "source": [
    "gao_species = {}\n",
    "\n",
    "# C\n",
    "spec = 'C'\n",
    "adj = \"\"\"\n",
    "1 C u0 p0 c0 {2,Q}\n",
    "2 X u0 p0 c0 {1,Q}\n",
    "\"\"\"\n",
    "gao_species[spec] = SpeciesDat(adj)\n",
    "display(spec,gao_species[spec].rmg_spec)\n",
    "\n",
    "# CH\n",
    "spec = 'CH'\n",
    "adj = \"\"\"\n",
    "1 C u0 p0 c0 {2,S} {3,T}\n",
    "2 H u0 p0 c0 {1,S}\n",
    "3 X u0 p0 c0 {1,T}\n",
    "\"\"\"\n",
    "gao_species[spec] = SpeciesDat(adj)\n",
    "display(spec, gao_species[spec].rmg_spec)\n",
    "\n",
    "# CH2\n",
    "spec = 'CH2'\n",
    "adj = \"\"\"\n",
    "1 C u0 p0 c0 {2,S} {3,S} {4,D}\n",
    "2 H u0 p0 c0 {1,S}\n",
    "3 H u0 p0 c0 {1,S}\n",
    "4 X u0 p0 c0 {1,D}\n",
    "\"\"\"\n",
    "gao_species[spec] = SpeciesDat(adj)\n",
    "display(spec,gao_species[spec].rmg_spec)\n",
    "\n",
    "# CH3\n",
    "spec = 'CH3'\n",
    "adj = \"\"\"\n",
    "1 C u0 p0 c0 {2,S} {3,S} {4,S} {5,S}\n",
    "2 H u0 p0 c0 {1,S}\n",
    "3 H u0 p0 c0 {1,S}\n",
    "4 H u0 p0 c0 {1,S}\n",
    "5 X u0 p0 c0 {1,S}\n",
    "\"\"\"\n",
    "gao_species[spec] = SpeciesDat(adj)\n",
    "display(spec,gao_species[spec].rmg_spec)\n",
    "\n",
    "# CO\n",
    "spec = 'CO'\n",
    "adj = \"\"\"\n",
    "1 C u0 p0 c0 {2,D} {3,D} \n",
    "2 O u0 p2 c0 {1,D}\n",
    "3 X u0 p0 c0 {1,D}\n",
    "\"\"\"\n",
    "gao_species[spec] = SpeciesDat(adj)\n",
    "display(spec,gao_species[spec].rmg_spec)\n",
    "\n",
    "# COOH\n",
    "spec = 'COOH'\n",
    "adj = \"\"\"\n",
    "1 C u0 p0 c0 {2,D} {3,S} {5,S}\n",
    "2 O u0 p2 c0 {1,D}\n",
    "3 O u0 p2 c0 {1,S} {4,S}\n",
    "4 H u0 p0 c0 {3,S}\n",
    "5 X u0 p0 c0 {1,S}\n",
    "\"\"\"\n",
    "gao_species[spec] = SpeciesDat(adj)\n",
    "display(spec,gao_species[spec].rmg_spec)\n",
    "\n",
    "# CHO\n",
    "spec = 'CHO'\n",
    "adj = \"\"\"\n",
    "1 C u0 p0 c0 {2,D} {3,S} {4,S}\n",
    "2 O u0 p2 c0 {1,D}\n",
    "3 H u0 p0 c0 {1,S}\n",
    "4 X u0 p0 c0 {1,S}\n",
    "\"\"\"\n",
    "gao_species[spec] = SpeciesDat(adj)\n",
    "display(spec,gao_species[spec].rmg_spec)\n",
    "\n",
    "# COH\n",
    "spec = 'COH'\n",
    "adj = \"\"\"\n",
    "1 C u0 p0 c0 {2,S} {4,T}\n",
    "2 O u0 p2 c0 {1,S} {3,S}\n",
    "3 H u0 p0 c0 {2,S}\n",
    "4 X u0 p0 c0 {1,T}\n",
    "\"\"\"\n",
    "gao_species[spec] = SpeciesDat(adj)\n",
    "display(spec,gao_species[spec].rmg_spec)\n",
    "\n",
    "# CHOH\n",
    "spec = 'CHOH'\n",
    "adj = \"\"\"\n",
    "1 C u0 p0 c0 {2,S} {4,S} {5,D}\n",
    "2 O u0 p2 c0 {1,S} {3,S}\n",
    "3 H u0 p0 c0 {2,S}\n",
    "4 H u0 p0 c0 {1,S}\n",
    "5 X u0 p0 c0 {1,D}\n",
    "\"\"\"\n",
    "gao_species[spec] = SpeciesDat(adj)\n",
    "display(spec,gao_species[spec].rmg_spec)\n",
    "\n",
    "# N\n",
    "spec = 'N'\n",
    "adj = \"\"\"\n",
    "1 N u0 p1 c0 {2,T} \n",
    "2 X u0 p0 c0 {1,T}\n",
    "\"\"\"\n",
    "gao_species[spec] = SpeciesDat(adj)\n",
    "display(spec,gao_species[spec].rmg_spec)\n",
    "\n",
    "# NH\n",
    "spec = 'NH'\n",
    "adj = \"\"\"\n",
    "1 N u0 p1 c0 {2,S} {3,D} \n",
    "2 H u0 p0 c0 {1,S}\n",
    "3 X u0 p0 c0 {1,D}\n",
    "\"\"\"\n",
    "gao_species[spec] = SpeciesDat(adj)\n",
    "display(spec,gao_species[spec].rmg_spec)\n",
    "\n",
    "# NNH2 \n",
    "spec = 'NNH2'\n",
    "adj = \"\"\"\n",
    "1 N u0 p1 c0 {2,S} {3,S} {4,S}\n",
    "2 N u0 p1 c0 {1,S} {5,D} \n",
    "3 H u0 p0 c0 {1,S}\n",
    "4 H u0 p0 c0 {1,S}\n",
    "5 X u0 p0 c0 {2,D}\n",
    "\"\"\"\n",
    "gao_species[spec] = SpeciesDat(adj)\n",
    "display(spec,gao_species[spec].rmg_spec)\n",
    "\n",
    "# NH2\n",
    "spec = 'NH2'\n",
    "adj = \"\"\"\n",
    "1 N u0 p1 c0 {2,S} {3,S} {4,S} \n",
    "2 H u0 p0 c0 {1,S}\n",
    "3 H u0 p0 c0 {1,S}\n",
    "4 X u0 p0 c0 {1,S}\n",
    "\"\"\"\n",
    "gao_species[spec] = SpeciesDat(adj)\n",
    "display(spec,gao_species[spec].rmg_spec)\n",
    "\n",
    "# O\n",
    "spec = 'O'\n",
    "adj = \"\"\"\n",
    "1 O u0 p2 c0 {2,D}\n",
    "2 X u0 p0 c0 {1,D}\n",
    "\"\"\"\n",
    "gao_species[spec] = SpeciesDat(adj)\n",
    "display(spec,gao_species[spec].rmg_spec)\n",
    "\n",
    "# OH\n",
    "spec = 'OH'\n",
    "adj = \"\"\"\n",
    "1 O u0 p2 c0 {2,S} {3,S}\n",
    "2 H u0 p0 c0 {1,S}\n",
    "3 X u0 p0 c0 {1,S}\n",
    "\"\"\"\n",
    "gao_species[spec] = SpeciesDat(adj)\n",
    "display(spec,gao_species[spec].rmg_spec)\n",
    "\n",
    "# OOH\n",
    "spec = 'OOH'\n",
    "adj = \"\"\"\n",
    "1 O u0 p2 c0 {2,S} {4,S}\n",
    "2 O u0 p2 c0 {1,S} {3,S}\n",
    "3 H u0 p0 c0 {2,S}\n",
    "4 X u0 p0 c0 {1,S}\n",
    "\"\"\"\n",
    "gao_species[spec] = SpeciesDat(adj)\n",
    "display(spec,gao_species[spec].rmg_spec)\n",
    "\n",
    "# OCH3\n",
    "spec = 'OCH3'\n",
    "adj = \"\"\"\n",
    "1 O u0 p2 c0 {2,S} {6,S}\n",
    "2 C u0 p0 c0 {1,S} {3,S} {4,S} {5,S}\n",
    "3 H u0 p0 c0 {2,S}\n",
    "4 H u0 p0 c0 {2,S}\n",
    "5 H u0 p0 c0 {2,S}\n",
    "6 X u0 p0 c0 {1,S}\n",
    "\"\"\"\n",
    "gao_species[spec] = SpeciesDat(adj)\n",
    "display(spec,gao_species[spec].rmg_spec)"
   ]
  },
  {
   "cell_type": "code",
   "execution_count": 56,
   "id": "e8a2ad10-d05e-47aa-804b-6504f4a247ab",
   "metadata": {
    "tags": []
   },
   "outputs": [
    {
     "data": {
      "text/plain": [
       "0.5825201292201294"
      ]
     },
     "execution_count": 56,
     "metadata": {},
     "output_type": "execute_result"
    }
   ],
   "source": [
    "Hf0 = gao_species['C'].rmg_spec.thermo.get_enthalpy(0)/9.68e4\n",
    "Hf_gas = "
   ]
  },
  {
   "cell_type": "code",
   "execution_count": 70,
   "id": "751e8118-a8b9-4973-a666-3b760b9a5aef",
   "metadata": {
    "tags": []
   },
   "outputs": [
    {
     "data": {
      "text/plain": [
       "NASA(polynomials=[NASAPolynomial(coeffs=[-0.937461,0.0121079,-1.32659e-05,4.83221e-09,-3.49439e-13,6901.39,3.00315], Tmin=(298,'K'), Tmax=(463.725,'K')), NASAPolynomial(coeffs=[-1.63633,0.0170451,-2.57069e-05,1.7644e-08,-4.52104e-12,6977.94,5.96423], Tmin=(463.725,'K'), Tmax=(1000,'K'))], Tmin=(298,'K'), Tmax=(1000,'K'), E0=(56.8687,'kJ/mol'), Cp0=(0.01,'J/(mol*K)'), CpInf=(49.8868,'J/(mol*K)'), comment=\"\"\"Thermo library: surfaceThermoPt111\"\"\")"
      ]
     },
     "execution_count": 70,
     "metadata": {},
     "output_type": "execute_result"
    }
   ],
   "source": [
    "gao_species['C'].rmg_spec.thermo.to_nasa(298,1000,2000)"
   ]
  },
  {
   "cell_type": "code",
   "execution_count": 68,
   "id": "5a480f3c-7192-4e46-a348-8f6689720e0d",
   "metadata": {
    "tags": []
   },
   "outputs": [
    {
     "data": {
      "text/plain": [
       "((0.01,'J/(mol*K)'), (49.8868,'J/(mol*K)'))"
      ]
     },
     "execution_count": 68,
     "metadata": {},
     "output_type": "execute_result"
    }
   ],
   "source": [
    "dir(gao_species['C'].rmg_spec.thermo)\n",
    "gao_species['C'].rmg_spec.thermo._Cp0, gao_species['C'].rmg_spec.thermo._CpInf, "
   ]
  },
  {
   "cell_type": "code",
   "execution_count": 69,
   "id": "0113edd3-4291-41e0-9c05-7f4a50212935",
   "metadata": {
    "tags": []
   },
   "outputs": [
    {
     "data": {
      "text/plain": [
       "((0.01,'J/(mol*K)'), (49.8868,'J/(mol*K)'))"
      ]
     },
     "execution_count": 69,
     "metadata": {},
     "output_type": "execute_result"
    }
   ],
   "source": [
    "dir(gao_species['O'].rmg_spec.thermo)\n",
    "gao_species['O'].rmg_spec.thermo._Cp0, gao_species['O'].rmg_spec.thermo._CpInf, "
   ]
  },
  {
   "cell_type": "code",
   "execution_count": 74,
   "id": "e1d607aa-d23c-49a3-bf94-ab12f159c9cb",
   "metadata": {
    "tags": []
   },
   "outputs": [
    {
     "data": {
      "text/plain": [
       "[<Atom 'O'>, <Atom 'C'>, <Atom 'H'>, <Atom 'H'>, <Atom 'X'>]"
      ]
     },
     "execution_count": 74,
     "metadata": {},
     "output_type": "execute_result"
    }
   ],
   "source": [
    "gao_species['CHOH'].rmg_spec.molecule[0].atoms"
   ]
  },
  {
   "cell_type": "code",
   "execution_count": null,
   "id": "8baf7ab1-6643-43a6-95d7-fd2bc5103cf5",
   "metadata": {},
   "outputs": [],
   "source": []
  }
 ],
 "metadata": {
  "kernelspec": {
   "display_name": "rmg_thesis",
   "language": "python",
   "name": "rmg_thesis"
  },
  "language_info": {
   "codemirror_mode": {
    "name": "ipython",
    "version": 3
   },
   "file_extension": ".py",
   "mimetype": "text/x-python",
   "name": "python",
   "nbconvert_exporter": "python",
   "pygments_lexer": "ipython3",
   "version": "3.7.12"
  }
 },
 "nbformat": 4,
 "nbformat_minor": 5
}
