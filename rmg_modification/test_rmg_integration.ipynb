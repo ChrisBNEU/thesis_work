{
 "cells": [
  {
   "cell_type": "code",
   "execution_count": 1,
   "id": "c009b406-dc41-4ca5-bec3-cbeb07a1571c",
   "metadata": {
    "tags": []
   },
   "outputs": [
    {
     "name": "stdout",
     "output_type": "stream",
     "text": [
      "['/work/westgroup/ChrisB/_04_thesis/Thesis_repo/rmg_modification', '/work/westgroup/ChrisB/_04_thesis/rmg_thesis/RMG-Py', '/work/westgroup/ChrisB/_04_thesis/Thesis_repo/rmg_modification', '/work/westgroup/ChrisB/miniconda3/envs/rmg_thesis/lib/python37.zip', '/work/westgroup/ChrisB/miniconda3/envs/rmg_thesis/lib/python3.7', '/work/westgroup/ChrisB/miniconda3/envs/rmg_thesis/lib/python3.7/lib-dynload', '', '/home/blais.ch/.local/lib/python3.7/site-packages', '/work/westgroup/ChrisB/miniconda3/envs/rmg_thesis/lib/python3.7/site-packages', '/work/westgroup/ChrisB/miniconda3/envs/rmg_thesis/lib/python3.7/site-packages/chemprop-0.0.1-py3.7.egg', '/work/westgroup/ChrisB/miniconda3/envs/rmg_thesis/lib/python3.7/site-packages/descriptastorus-2.0.0.32-py3.7.egg', '/work/westgroup/ChrisB/miniconda3/envs/rmg_thesis/lib/python3.7/site-packages/IPython/extensions', '/home/blais.ch/.ipython', '/work/westgroup/ChrisB/_04_thesis/rmg_thesis/RMG-Py/']\n"
     ]
    }
   ],
   "source": [
    "import sys\n",
    "sys.path.append('/work/westgroup/ChrisB/_04_thesis/rmg_thesis/RMG-Py/')\n",
    "print(sys.path)\n",
    "\n",
    "import os\n",
    "import shutil\n",
    "import sys\n",
    "import itertools\n",
    "\n",
    "from rmgpy.chemkin import load_chemkin_file\n",
    "from rmgpy.data.surface import MetalPropertyLibrary, SitePropertyLibrary, MetalPropertyDatabase, SitePropertyDatabase\n",
    "from rmgpy.data.thermo import ThermoDatabase"
   ]
  },
  {
   "cell_type": "code",
   "execution_count": 2,
   "id": "3c632b6a-850d-4fb4-8d2d-b68a1af1eec1",
   "metadata": {
    "tags": []
   },
   "outputs": [],
   "source": [
    "#load the thermodynamics database\n",
    "thermoDatabase = ThermoDatabase()\n",
    "libraries = ['surfaceThermoPt111']\n",
    "if sys.platform == \"darwin\":\n",
    "    thermoDatabase.load(path=\"/Users/blais.ch/Documents/_01_code/RMG_env_1/RMG-database/input/thermo\", libraries = libraries)\n",
    "else: \n",
    "    thermoDatabase.load(path='/work/westgroup/ChrisB/_04_thesis/rmg_thesis/RMG-database/input/thermo', libraries = libraries)\n",
    "    \n",
    "thermoDatabase.load_surface()"
   ]
  },
  {
   "cell_type": "code",
   "execution_count": null,
   "id": "78c1642f-03b5-42b1-8fad-d86fabe2f85c",
   "metadata": {
    "tags": []
   },
   "outputs": [
    {
     "data": {
      "image/png": "[encoded data removed]",
      "text/plain": [
       "Species(index=23, label=\"HOX\", thermo=NASA(polynomials=[NASAPolynomial(coeffs=[-0.796037,0.0206727,-3.97515e-05,3.78158e-08,-1.33691e-11,-28846.6,2.62051], Tmin=(100,'K'), Tmax=(873.09,'K')), NASAPolynomial(coeffs=[0.721933,0.00658742,-3.30146e-06,6.29134e-10,-4.25429e-14,-28839.9,-2.94033], Tmin=(873.09,'K'), Tmax=(5000,'K'))], Tmin=(100,'K'), Tmax=(5000,'K'), comment=\"\"\"Thermo library: surfaceThermoNi111 Binding energy corrected by LSR (0.50O) from Ni111\"\"\"), molecule=[Molecule(smiles=\"O[Pt]\")], molecular_weight=(17.0074,'amu'))"
      ]
     },
     "metadata": {},
     "output_type": "display_data"
    }
   ],
   "source": [
    "# load a species\n",
    "# test the function. load model each time \n",
    "\n",
    "\n",
    "folder = './test_mech/chemkin/'\n",
    "\n",
    "chemkin_path = os.path.join(folder, 'chem_annotated-gas.inp')\n",
    "chemkin_surf_path = os.path.join(folder, 'chem_annotated-surface.inp')\n",
    "dictionary_path = os.path.join(folder, 'species_dictionary.txt')\n",
    "\n",
    "# load_chemkin_file\n",
    "species, reactions = load_chemkin_file(chemkin_surf_path, dictionary_path)\n",
    "# identify a surface species to use for testing\n",
    "surf_species = species[5]\n",
    "surf_species.generate_resonance_structures()\n",
    "display(surf_species)\n",
    "spec_thermo = surf_species.thermo.to_thermo_data()\n",
    "surf_species.thermo = spec_thermo\n",
    "\n",
    "thermo_list = thermoDatabase.get_thermo_data(surf_species)\n",
    "\n",
    "E_ad_old = (spec_thermo.H298.value_si)/9.68e4\n",
    "\n",
    "new_thermo = thermoDatabase.correct_binding_energies_extended(spec_thermo, surf_species, metal_to_scale_from='Pt',\n",
    "                                       metal_to_scale_to='Rh', facet_to_scale_from='111', facet_to_scale_to='211')\n",
    "print(\"old E_ad = \", E_ad_old)"
   ]
  },
  {
   "cell_type": "code",
   "execution_count": null,
   "id": "aed1c07b-6415-4ac8-a523-56b15ff35768",
   "metadata": {
    "tags": []
   },
   "outputs": [],
   "source": [
    "surf_species.molecule[0].to_smiles()"
   ]
  },
  {
   "cell_type": "code",
   "execution_count": 4,
   "id": "7e7b95d1-c3a9-413e-880e-cd30883e8896",
   "metadata": {
    "tags": []
   },
   "outputs": [],
   "source": [
    "## Make a brand new species\n",
    "from rmgpy.species import Species\n"
   ]
  },
  {
   "cell_type": "code",
   "execution_count": null,
   "id": "85556e40-db32-4a29-9e7e-92c0f1cc5138",
   "metadata": {},
   "outputs": [],
   "source": []
  },
  {
   "cell_type": "code",
   "execution_count": null,
   "id": "02d52013-dd40-481d-8d38-a3144772be39",
   "metadata": {
    "tags": []
   },
   "outputs": [
    {
     "data": {
      "image/png": "[encoded data removed]",
      "text/plain": [
       "Species(label=\"\", molecule=[Molecule(smiles=\"O[Pt]\")], molecular_weight=(17.0074,'amu'))"
      ]
     },
     "metadata": {},
     "output_type": "display_data"
    }
   ],
   "source": [
    "surf_species = Species().from_smiles('O[*]')\n",
    "display(surf_species)\n",
    "surf_species.thermo = thermoDatabase.get_thermo_data(surf_species)[0]\n",
    "surf_species.generate_resonance_structures()\n",
    "surf_species.get_thermo_data()\n",
    "# spec_thermo = surf_species.thermo.to_thermo_data()\n",
    "\n",
    "# E_ad_old = (spec_thermo.H298.value_si)/9.68e4\n",
    "# new_thermo = thermoDatabase.correct_binding_energies_extended(spec_thermo, surf_species, metal_to_scale_from='Pt',\n",
    "#                                        metal_to_scale_to='Rh', facet_to_scale_from='111', facet_to_scale_to='111')\n",
    "# print(\"old E_ad = \", E_ad_old)"
   ]
  },
  {
   "cell_type": "code",
   "execution_count": null,
   "id": "68ecb8e3-5114-4c14-9da4-10b60c034c45",
   "metadata": {
    "tags": []
   },
   "outputs": [],
   "source": [
    "surf_species = Species().from_smiles('O[*]')\n",
    "display(surf_species)\n",
    "surf_species.thermo = thermoDatabase.get_thermo_data_from_libraries(surf_species)[0]\n",
    "surf_species.generate_resonance_structures()\n",
    "spec_thermo = surf_species.thermo.to_thermo_data()\n",
    "\n",
    "E_ad_old = (spec_thermo.H298.value_si)/9.68e4\n",
    "new_thermo = thermoDatabase.correct_binding_energy(spec_thermo, surf_species, metal_to_scale_from='Pt',\n",
    "                                       metal_to_scale_to='Rh')\n",
    "print(\"old E_ad = \", E_ad_old)\n",
    "print(\"new E_ad = \", new_thermo.H298.value_si/9.68e4)"
   ]
  },
  {
   "cell_type": "code",
   "execution_count": 8,
   "id": "68ae61e8-9243-44f5-9d49-43ea16940693",
   "metadata": {},
   "outputs": [
    {
     "data": {
      "image/png": "[encoded data removed]",
      "text/plain": [
       "Species(label=\"\", molecule=[Molecule(smiles=\"O=C(O)[Pt]\")], molecular_weight=(45.0174,'amu'))"
      ]
     },
     "metadata": {},
     "output_type": "display_data"
    },
    {
     "name": "stderr",
     "output_type": "stream",
     "text": [
      "WARNING:root:Found multiple binding energies for 'Rh'. Using 'Rh111'.\n",
      "WARNING:root:Found multiple binding energies for 'Pt'. Using 'Pt111'.\n"
     ]
    },
    {
     "name": "stdout",
     "output_type": "stream",
     "text": [
      "old E_ad =  -4.8744634743055855\n",
      "new E_ad =  -4.951631813207656\n"
     ]
    }
   ],
   "source": [
    "# add the OH exception for carbon \n",
    "# add the advanced lsrs option to the input file\n",
    "# cooj\n",
    "adj_list = \"\"\"\n",
    "1 O u0 p2 c0 {3,S} {4,S}\n",
    "2 O u0 p2 c0 {3,D}\n",
    "3 C u0 p0 c0 {1,S} {2,D} {5,S}\n",
    "4 H u0 p0 c0 {1,S}\n",
    "5 X u0 p0 c0 {3,S}\n",
    "\"\"\"\n",
    "\n",
    "surf_species = Species().from_adjacency_list(adj_list)\n",
    "\n",
    "display(surf_species)\n",
    "surf_species.thermo = thermoDatabase.get_thermo_data_from_libraries(surf_species)[0]\n",
    "surf_species.generate_resonance_structures()\n",
    "spec_thermo = surf_species.thermo.to_thermo_data()\n",
    "\n",
    "E_ad_old = (spec_thermo.H298.value_si)/9.68e4\n",
    "new_thermo = thermoDatabase.correct_binding_energy(spec_thermo, surf_species, metal_to_scale_from='Pt',\n",
    "                                       metal_to_scale_to='Rh')\n",
    "print(\"old E_ad = \", E_ad_old)\n",
    "print(\"new E_ad = \", new_thermo.H298.value_si/9.68e4)\n"
   ]
  },
  {
   "cell_type": "code",
   "execution_count": null,
   "id": "f74d7feb-eb02-4c06-8d47-16a83d5ed49f",
   "metadata": {},
   "outputs": [],
   "source": []
  }
 ],
 "metadata": {
  "kernelspec": {
   "display_name": "rmg_thesis",
   "language": "python",
   "name": "rmg_thesis"
  },
  "language_info": {
   "codemirror_mode": {
    "name": "ipython",
    "version": 3
   },
   "file_extension": ".py",
   "mimetype": "text/x-python",
   "name": "python",
   "nbconvert_exporter": "python",
   "pygments_lexer": "ipython3",
   "version": "3.7.12"
  }
 },
 "nbformat": 4,
 "nbformat_minor": 5
}
