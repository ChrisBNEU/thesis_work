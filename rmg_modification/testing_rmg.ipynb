{
 "cells": [
  {
   "cell_type": "code",
   "execution_count": 1,
   "metadata": {},
   "outputs": [],
   "source": [
    "import sys\n",
    "sys.path.append('/Users/blais.ch/Documents/_01_code/RMG_env_1/RMG-Py/')\n",
    "import os\n",
    "import shutil\n",
    "import sys\n",
    "import itertools\n",
    "\n",
    "from rmgpy.chemkin import load_chemkin_file\n",
    "from rmgpy.data.surface import MetalPropertyLibrary, SitePropertyLibrary, MetalPropertyDatabase, SitePropertyDatabase\n",
    "from rmgpy.data.thermo import ThermoDatabase"
   ]
  },
  {
   "cell_type": "markdown",
   "metadata": {},
   "source": [
    "## verify that the metalproperties databases load correctly"
   ]
  },
  {
   "cell_type": "code",
   "execution_count": 2,
   "metadata": {},
   "outputs": [],
   "source": [
    "mpdb = MetalPropertyDatabase()\n",
    "spdb = SitePropertyDatabase()\n",
    "path = '/Users/blais.ch/Documents/_01_code/RMG_env_1/RMG-database/input/surface/'\n",
    "mpdb.load(path)\n",
    "spdb.load(path)"
   ]
  },
  {
   "cell_type": "markdown",
   "metadata": {},
   "source": [
    "## check combinatorial number of sites possible"
   ]
  },
  {
   "cell_type": "code",
   "execution_count": 3,
   "metadata": {},
   "outputs": [
    {
     "data": {
      "text/plain": [
       "[('111_fcc_hollow', '111_fcc_hollow'),\n",
       " ('111_fcc_hollow', '111_hcp_hollow'),\n",
       " ('111_fcc_hollow', '111_bridge'),\n",
       " ('111_fcc_hollow', '111_top'),\n",
       " ('111_hcp_hollow', '111_hcp_hollow'),\n",
       " ('111_hcp_hollow', '111_bridge'),\n",
       " ('111_hcp_hollow', '111_top'),\n",
       " ('111_bridge', '111_bridge'),\n",
       " ('111_bridge', '111_top'),\n",
       " ('111_top', '111_top')]"
      ]
     },
     "execution_count": 3,
     "metadata": {},
     "output_type": "execute_result"
    }
   ],
   "source": [
    "coords_111 = spdb.get_all_coordination_numbers_on_facet('111')\n",
    "coords_100 = spdb.get_all_coordination_numbers_on_facet('100')\n",
    "\n",
    "sites_111 = list(spdb.get_all_coordination_numbers_on_facet('111').keys())\n",
    "list_of_sites = []\n",
    "for item in itertools.combinations_with_replacement(sites_111, 2):\n",
    "    list_of_sites.append(item)\n",
    "list_of_sites"
   ]
  },
  {
   "cell_type": "code",
   "execution_count": 4,
   "metadata": {},
   "outputs": [],
   "source": [
    "# get the coordination numbers for the site"
   ]
  },
  {
   "cell_type": "markdown",
   "metadata": {},
   "source": [
    "# see which entries still need \"site\" defined"
   ]
  },
  {
   "cell_type": "code",
   "execution_count": 5,
   "metadata": {},
   "outputs": [],
   "source": [
    "#load the thermodynamics database\n",
    "thermoDatabase = ThermoDatabase()\n",
    "thermoDatabase.load(path=\"/Users/blais.ch/Documents/_01_code/RMG_env_1/RMG-database/input/thermo\")"
   ]
  },
  {
   "cell_type": "code",
   "execution_count": 6,
   "metadata": {},
   "outputs": [
    {
     "name": "stdout",
     "output_type": "stream",
     "text": [
      "'CH2XCCH3': ''\n",
      "'CH2XCOH': ''\n",
      "'CH3NH2X': ''\n",
      "'CH3OCH2OHX': ''\n",
      "'CH3XCHXCH2': ''\n",
      "'CHCCH3X': ''\n",
      "'CHCHX': ''\n",
      "'CO2X': ''\n",
      "'H2C(XO)OCH3': ''\n",
      "'H2C(XO)XO': ''\n",
      "'H2NOHX': ''\n",
      "'HC(O)XO': ''\n",
      "'HCNX': ''\n",
      "'HCO2CH3X': ''\n",
      "'HNOX': ''\n",
      "'HOOHX': ''\n",
      "'NH2NH2X': ''\n",
      "'NH3X': ''\n",
      "'NHNHX': ''\n",
      "'NNX': ''\n",
      "'XCCH2CH3': ''\n",
      "'XCCH2XC': ''\n",
      "'XCCH2XCH2': ''\n",
      "'XCCHCH2': ''\n",
      "'XCCHXCH2': ''\n",
      "'XCH2CH2OH': ''\n",
      "'XCH2CH2XCH2': ''\n",
      "'XCH2CHCH2': ''\n",
      "'XCH2NH2': ''\n",
      "'XCH2XCH': ''\n",
      "'XCH2XCOH': ''\n",
      "'XCH2XN': ''\n",
      "'XCH2XNH': ''\n",
      "'XCH2XO': ''\n",
      "'XCHCCH2': ''\n",
      "'XCHCH2CH3': ''\n",
      "'XCHCH2XC': ''\n",
      "'XCHCH2XCH': ''\n",
      "'XCHCH2XCH2': ''\n",
      "'XCHCHCH2': ''\n",
      "'XCHCHO': ''\n",
      "'XCHCHXCH2': ''\n",
      "'XCHCHXO': ''\n",
      "'XCHCO': ''\n",
      "'XCHCXC': ''\n",
      "'XCHCXCH': ''\n",
      "'XCHNH': ''\n",
      "'XCHNH2': ''\n",
      "'XCHO': ''\n",
      "'XCHXCCH3': ''\n",
      "'XCHXCHCH3': ''\n",
      "'XCHXCO': ''\n",
      "'XCHXCXC': ''\n",
      "'XCHXCXCH': ''\n",
      "'XCHXN': ''\n",
      "'XCHXNH': ''\n",
      "'XCHXO': ''\n",
      "'XCN': ''\n",
      "'XCNH': ''\n",
      "'XCNH2': ''\n",
      "'XCO': ''\n",
      "'XCOH': ''\n",
      "'XCOOH': ''\n",
      "'XCXCCH3': ''\n",
      "'XCXCH2': ''\n",
      "'XCXCHCH3': ''\n",
      "'XCXCO': ''\n",
      "'XNCH2': ''\n",
      "'XNCH3': ''\n",
      "'XNHCH3': ''\n",
      "'XNHNH2': ''\n",
      "'XNHOH': ''\n",
      "'XNHXN': ''\n",
      "'XNHXNH': ''\n",
      "'XNNH2': ''\n",
      "'XNNH_ads': ''\n",
      "'XNOH': ''\n",
      "'XNXO': ''\n",
      "'XOC(O)XO': ''\n",
      "'XOC(OH)O': ''\n",
      "'XOCH2OH': ''\n",
      "'XONH2': ''\n",
      "'XOOH': ''\n",
      "'XOXO': ''\n",
      "'vacant': ''\n"
     ]
    }
   ],
   "source": [
    "search_str = \"\"\n",
    "show_no_site = True\n",
    "for key in sorted(thermoDatabase.libraries[\"surfaceThermoPt111\"].entries.keys()):\n",
    "    if show_no_site and len(thermoDatabase.libraries[\"surfaceThermoPt111\"].entries[key].site)>0:\n",
    "        continue\n",
    "    else:\n",
    "        if len(search_str) > 0 and search_str.lower() in key.lower():\n",
    "            print(f\"\\'{key}\\': \\'{thermoDatabase.libraries['surfaceThermoPt111'].entries[key].site}\\'\")\n",
    "        elif len(search_str) == 0: \n",
    "            print(f\"\\'{key}\\': \\'{thermoDatabase.libraries['surfaceThermoPt111'].entries[key].site}\\'\")"
   ]
  },
  {
   "cell_type": "markdown",
   "metadata": {},
   "source": [
    "$\\theta = E_{ad} -0.1*\\frac{X_{m}-X}{X_{m}+1}*\\psi-0.2*\\frac{X+1}{X_{m}+1}*\\overline{CN}$"
   ]
  },
  {
   "cell_type": "code",
   "execution_count": 7,
   "metadata": {},
   "outputs": [],
   "source": [
    "from rmgpy.quantity import ScalarQuantity\n",
    "\n",
    "# move this elsewhere when we import routing, should only check once\n",
    "surface_libraries = []\n",
    "for lib in thermoDatabase.libraries.keys():\n",
    "    if \"surfaceThermo\" in lib: \n",
    "        surface_libraries.append(lib)\n",
    "\n",
    "\n",
    "def correct_binding_energies_extended(thermo, species, metal_to_scale_from=None,\n",
    "                                       metal_to_scale_to=None, facet_to_scale_from=None, facet_to_scale_to=None,\n",
    "                                       metal1_site=None,\n",
    "                                       return_metal1_props = False):\n",
    "    \"\"\"\n",
    "    $\\theta = E_{ad} -0.1*\\frac{X_{m}-X}{X_{m}+1}*\\psi-0.2*\\frac{X+1}{X_{m}+1}*\\overline{CN}$\n",
    "\n",
    "    \"\"\"\n",
    "\n",
    "    if metal_to_scale_from == metal_to_scale_to and facet_to_scale_from == facet_to_scale_to:\n",
    "        return thermo\n",
    "    elif metal_to_scale_from is None or metal_to_scale_to is None or facet_to_scale_from is None or facet_to_scale_to is None:\n",
    "        raise ValueError(\"If you are scaling, you must specify both the metal and the facet to scale from and to.\")\n",
    "    \n",
    "    # get the bond orders for the species\n",
    "    max_bond_orders, bond_orders, bound_atoms = thermoDatabase.get_bond_order(species, return_bond_orders=True)\n",
    "\n",
    "    # check for vdw\n",
    "    if len(bound_atoms) == 0: \n",
    "        print(f\"species {species.label} has no sites\")\n",
    "        return thermo\n",
    "\n",
    "    # get the coordination numbers for every site on the facet of interest\n",
    "    cn_theta1_dict = spdb.get_all_coordination_numbers_on_facet(facet_to_scale_from)\n",
    "    cn_theta2_dict = spdb.get_all_coordination_numbers_on_facet(facet_to_scale_to)\n",
    "    psi1 = mpdb.get_psi(metal_to_scale_from)\n",
    "    psi2 = mpdb.get_psi(metal_to_scale_to)\n",
    "\n",
    "    metal1_str = metal_to_scale_from + facet_to_scale_from\n",
    "    metal2_str = metal_to_scale_to + facet_to_scale_to\n",
    "    print(f\"scaling species {species.label} on {metal1_str} to {metal2_str}\")\n",
    "\n",
    "    if metal1_site:\n",
    "        #check if species has binding site(s) specified. \n",
    "        if isinstance(metal1_site, str): \n",
    "            sites = {1:(bound_atoms[0],metal1_site)}\n",
    "        elif isinstance(metal1_site, dict): \n",
    "            print(f\"species {species.label} has multiple sites\")\n",
    "            sites = metal1_site\n",
    "\n",
    "    else: \n",
    "        # if not, we will have to cycle through all and get lowest energy one. \n",
    "        sites = {num:(atom,None) for (num,atom) in enumerate(bound_atoms)}\n",
    "        print(f\"species {species.label} has no site attribute, using {sitetype}\")\n",
    "            \n",
    "    thetas = {}\n",
    "    E_ads_new = {}\n",
    "\n",
    "    \n",
    "    # if we know the site, we can use that. if we don't , iterate over all of them\n",
    "    for _, (bound_atom, site) in sites: \n",
    "        print(site.label)\n",
    "        # if site is specified use that\n",
    "        if site: \n",
    "            sitetype = site.label\n",
    "        else:\n",
    "            # if site is not specified, choose the site based off of number of atoms adatom bound to\n",
    "            sitetype = cn_theta1_dict[bound_atom]\n",
    "\n",
    "\n",
    "        X = bond_orders[bound_atom]\n",
    "        X_m = max_bond_orders[bound_atom]\n",
    "        E_ad = (thermo.H298.value_si)/9.68e4 # the paper uses hads\n",
    "        thetas[sitetype] = E_ad-0.1*(X_m-X)/(X_m+1)*psi1-0.2*(X+1)/(X_m+1)*cn\n",
    "\n",
    "    # use all of them if species is totally unknown. \n",
    "    if sitetype is None:\n",
    "        # iterate through sites on new surface and pick lowest energy one\n",
    "        for sitetype1, theta in thetas.items():\n",
    "            for sitetype2, cn in cn_theta2_dict.items(): \n",
    "                E_ads_new[sitetype1+sitetype2] = 0.1*(X_m-X)/(X_m+1)*psi2+0.2*(X+1)/(X_m+1)*cn + theta\n",
    "\n",
    "    # otherwise, if we know the site from the database value, we can use that.\n",
    "    else: \n",
    "        # Keep the min energy theta? \n",
    "        theta_min_site = min(thetas, key=thetas.get)\n",
    "        theta_min = thetas[theta_min_site]\n",
    "\n",
    "        # iterate through sites on new surface and \n",
    "        for sitetype2, cn in cn_theta2_dict.items(): \n",
    "            E_ads_new[sitetype2] = 0.1*(X_m-X)/(X_m+1)*psi2+0.2*(X+1)/(X_m+1)*cn + theta_min\n",
    "\n",
    "    # get the lowest energy site\n",
    "    min_h298_key = min(E_ads_new, key=E_ads_new.get)\n",
    "    min_h298 = ScalarQuantity(E_ads_new[min_h298_key]*9.68e4, \"J/mol\")\n",
    "    species.thermo.H298 = min_h298\n",
    "\n",
    "    # print(f\"species {species.label} has been scaled from {sitetype}, h298 of {E_ad} to {min_h298.value_si/9} with a theta of {E_ads_new[min_h298_key]} and a site of {min_h298_key}\")\n",
    "    return E_ads_new, thetas, X_m, X"
   ]
  },
  {
   "cell_type": "code",
   "execution_count": 15,
   "metadata": {},
   "outputs": [
    {
     "data": {
      "image/png": "[encoded data removed]",
      "text/plain": [
       "Species(index=76, label=\"C=[Pt]\", thermo=NASA(polynomials=[NASAPolynomial(coeffs=[-0.717762,0.0161621,-1.60074e-05,9.00622e-09,-2.09022e-12,1688.97,2.06212], Tmin=(100,'K'), Tmax=(1030.99,'K')), NASAPolynomial(coeffs=[1.60136,0.00716443,-2.91649e-06,5.41232e-10,-3.75745e-14,1210.77,-9.19708], Tmin=(1030.99,'K'), Tmax=(5000,'K'))], Tmin=(100,'K'), Tmax=(5000,'K'), comment=\"\"\"Thermo library: surfaceThermoNi111 Binding energy corrected by LSR (0.50C) from Ni111\"\"\"), molecule=[Molecule(smiles=\"C=[Pt]\")], molecular_weight=(14.0266,'amu'))"
      ]
     },
     "metadata": {},
     "output_type": "display_data"
    }
   ],
   "source": [
    "# test the function. load model each time \n",
    "folder = './test_mech/chemkin/'\n",
    "\n",
    "chemkin_path = os.path.join(folder, 'chem_annotated-gas.inp')\n",
    "chemkin_surf_path = os.path.join(folder, 'chem_annotated-surface.inp')\n",
    "dictionary_path = os.path.join(folder, 'species_dictionary.txt')\n",
    "\n",
    "# load_chemkin_file\n",
    "species, reactions = load_chemkin_file(chemkin_surf_path, dictionary_path)\n",
    "# identify a surface species to use for testing\n",
    "surf_species = species[15]\n",
    "surf_species.generate_resonance_structures()\n",
    "display(surf_species)\n",
    "spec_thermo = surf_species.thermo.to_thermo_data()\n",
    "surf_species.thermo = spec_thermo\n",
    "\n",
    "thermo_list = thermoDatabase.get_all_thermo_data(surf_species)\n",
    "site0 = thermo_list[0][2].site\n",
    "\n",
    "# new_E_ads, thetas, X_m, X  = correct_binding_energies_extended(spec_thermo, surf_species, metal_to_scale_from='Pt',\n",
    "#                                        metal_to_scale_to='Cu', facet_to_scale_from='111', facet_to_scale_to='211', metal1_site=site0)"
   ]
  },
  {
   "cell_type": "code",
   "execution_count": null,
   "metadata": {},
   "outputs": [],
   "source": [
    "1"
   ]
  },
  {
   "cell_type": "code",
   "execution_count": null,
   "metadata": {},
   "outputs": [],
   "source": [
    "surf_species"
   ]
  },
  {
   "cell_type": "markdown",
   "metadata": {},
   "source": [
    "minimum theta is not the correct site. we should probably just go based off of bond order? maybe that would be better. \n",
    "- problem is, even if we just use bond order, there are exceptions (O bonds to hollow, not bridge, despire being a 'double bond')\n",
    "- what we could do it see what error is indroduced if we get bond order wrong. \n",
    "- if we know the bond order on one site for certain, should we just apply it to the new site? "
   ]
  },
  {
   "cell_type": "code",
   "execution_count": null,
   "metadata": {},
   "outputs": [
    {
     "ename": "NameError",
     "evalue": "name 'species' is not defined",
     "output_type": "error",
     "traceback": [
      "\u001b[0;31m---------------------------------------------------------------------------\u001b[0m",
      "\u001b[0;31mNameError\u001b[0m                                 Traceback (most recent call last)",
      "\u001b[0;32m/var/folders/bn/dbr8lwvj63n6nd0_j0blp8s80000gp/T/ipykernel_7562/375303925.py\u001b[0m in \u001b[0;36m<module>\u001b[0;34m\u001b[0m\n\u001b[0;32m----> 1\u001b[0;31m \u001b[0;32mfor\u001b[0m \u001b[0mnum\u001b[0m\u001b[0;34m,\u001b[0m \u001b[0mspec\u001b[0m \u001b[0;32min\u001b[0m \u001b[0menumerate\u001b[0m\u001b[0;34m(\u001b[0m\u001b[0mspecies\u001b[0m\u001b[0;34m)\u001b[0m\u001b[0;34m:\u001b[0m\u001b[0;34m\u001b[0m\u001b[0;34m\u001b[0m\u001b[0m\n\u001b[0m\u001b[1;32m      2\u001b[0m     \u001b[0mprint\u001b[0m\u001b[0;34m(\u001b[0m\u001b[0;34mf\"species {num}\"\u001b[0m\u001b[0;34m)\u001b[0m\u001b[0;34m\u001b[0m\u001b[0;34m\u001b[0m\u001b[0m\n\u001b[1;32m      3\u001b[0m     \u001b[0mdisplay\u001b[0m\u001b[0;34m(\u001b[0m\u001b[0mspec\u001b[0m\u001b[0;34m)\u001b[0m\u001b[0;34m\u001b[0m\u001b[0;34m\u001b[0m\u001b[0m\n\u001b[1;32m      4\u001b[0m \u001b[0;34m\u001b[0m\u001b[0m\n",
      "\u001b[0;31mNameError\u001b[0m: name 'species' is not defined"
     ]
    }
   ],
   "source": [
    "for num, spec in enumerate(species):\n",
    "    print(f\"species {num}\")\n",
    "    display(spec)\n",
    "        "
   ]
  },
  {
   "cell_type": "markdown",
   "metadata": {},
   "source": [
    "## validate scaling. \n",
    "first, check that all structures don't get set to the hollow configuration"
   ]
  },
  {
   "cell_type": "code",
   "execution_count": 52,
   "metadata": {},
   "outputs": [
    {
     "data": {
      "text/plain": [
       "{'111_fcc_hollow': 0.5572916986985423,\n",
       " '111_hcp_hollow': 0.6444916986985425,\n",
       " '111_bridge': 0.6172916986985424,\n",
       " '111_top': 0.6444916986985425}"
      ]
     },
     "execution_count": 52,
     "metadata": {},
     "output_type": "execute_result"
    }
   ],
   "source": [
    "# at the very least, we can try to predict o and oh on 211, and all of the \n",
    "# atomic binding energies, as a sanity check. \n",
    "import matplotlib.pyplot as plt\n",
    "\n",
    "\n",
    "# make a dummy scaling method. use psi and theta from above and check against different cns\n",
    "cns = np.linspace(5, 9, 10)\n",
    "0.1*(X_m-X)/(X_m+1)*psi2+0.2*(X+1)/(X_m+1)*cn + theta_min\n",
    "\n",
    "\n"
   ]
  },
  {
   "cell_type": "code",
   "execution_count": 100,
   "metadata": {},
   "outputs": [],
   "source": [
    "list1 = ['c', 'o', 'n']\n",
    "dict1 = {num+1:(atom, None) for num, atom in enumerate(list1)}"
   ]
  },
  {
   "cell_type": "code",
   "execution_count": 101,
   "metadata": {},
   "outputs": [
    {
     "data": {
      "text/plain": [
       "{1: ('c', None), 2: ('o', None), 3: ('n', None)}"
      ]
     },
     "execution_count": 101,
     "metadata": {},
     "output_type": "execute_result"
    }
   ],
   "source": [
    "dict1"
   ]
  },
  {
   "cell_type": "code",
   "execution_count": null,
   "metadata": {},
   "outputs": [],
   "source": []
  },
  {
   "cell_type": "code",
   "execution_count": null,
   "metadata": {},
   "outputs": [],
   "source": []
  },
  {
   "cell_type": "code",
   "execution_count": null,
   "metadata": {},
   "outputs": [],
   "source": []
  },
  {
   "cell_type": "code",
   "execution_count": null,
   "metadata": {},
   "outputs": [],
   "source": []
  },
  {
   "cell_type": "code",
   "execution_count": null,
   "metadata": {},
   "outputs": [],
   "source": []
  },
  {
   "cell_type": "markdown",
   "metadata": {},
   "source": [
    "## validation of scaled thermo values"
   ]
  },
  {
   "cell_type": "code",
   "execution_count": 14,
   "metadata": {},
   "outputs": [
    {
     "ename": "NameError",
     "evalue": "name 'species' is not defined",
     "output_type": "error",
     "traceback": [
      "\u001b[0;31m---------------------------------------------------------------------------\u001b[0m",
      "\u001b[0;31mNameError\u001b[0m                                 Traceback (most recent call last)",
      "\u001b[0;32m/var/folders/bn/dbr8lwvj63n6nd0_j0blp8s80000gp/T/ipykernel_7562/2320924004.py\u001b[0m in \u001b[0;36m<module>\u001b[0;34m\u001b[0m\n\u001b[1;32m      5\u001b[0m \u001b[0;34m\u001b[0m\u001b[0m\n\u001b[1;32m      6\u001b[0m \u001b[0mtest_spec\u001b[0m \u001b[0;34m=\u001b[0m \u001b[0;34m[\u001b[0m\u001b[0;34m]\u001b[0m\u001b[0;34m\u001b[0m\u001b[0;34m\u001b[0m\u001b[0m\n\u001b[0;32m----> 7\u001b[0;31m \u001b[0;32mfor\u001b[0m \u001b[0midx\u001b[0m\u001b[0;34m,\u001b[0m \u001b[0mspec\u001b[0m \u001b[0;32min\u001b[0m \u001b[0menumerate\u001b[0m\u001b[0;34m(\u001b[0m\u001b[0mspecies\u001b[0m\u001b[0;34m)\u001b[0m\u001b[0;34m:\u001b[0m\u001b[0;34m\u001b[0m\u001b[0;34m\u001b[0m\u001b[0m\n\u001b[0m\u001b[1;32m      8\u001b[0m     \u001b[0;31m# if spec.label in test_spec_labels:\u001b[0m\u001b[0;34m\u001b[0m\u001b[0;34m\u001b[0m\u001b[0;34m\u001b[0m\u001b[0m\n\u001b[1;32m      9\u001b[0m     \u001b[0;31m#     test_spec.append(spec)\u001b[0m\u001b[0;34m\u001b[0m\u001b[0;34m\u001b[0m\u001b[0;34m\u001b[0m\u001b[0m\n",
      "\u001b[0;31mNameError\u001b[0m: name 'species' is not defined"
     ]
    }
   ],
   "source": [
    "# spec we want to validate \n",
    "test_spec_labels = ['HX', 'CHX', 'C=[Pt]','C[Pt]', 'CX', 'OX', 'HOX']\n",
    "\n",
    "# test some bidentates\n",
    "\n",
    "test_spec = []\n",
    "for idx, spec in enumerate(species): \n",
    "    # if spec.label in test_spec_labels: \n",
    "    #     test_spec.append(spec)\n",
    "    print(idx, spec.label)\n",
    "    display(spec)"
   ]
  },
  {
   "cell_type": "code",
   "execution_count": 12,
   "metadata": {},
   "outputs": [
    {
     "ename": "NameError",
     "evalue": "name 'species' is not defined",
     "output_type": "error",
     "traceback": [
      "\u001b[0;31m---------------------------------------------------------------------------\u001b[0m",
      "\u001b[0;31mNameError\u001b[0m                                 Traceback (most recent call last)",
      "\u001b[0;32m/var/folders/bn/dbr8lwvj63n6nd0_j0blp8s80000gp/T/ipykernel_7562/3293422437.py\u001b[0m in \u001b[0;36m<module>\u001b[0;34m\u001b[0m\n\u001b[0;32m----> 1\u001b[0;31m \u001b[0mspecies\u001b[0m\u001b[0;34m[\u001b[0m\u001b[0;36m29\u001b[0m\u001b[0;34m]\u001b[0m\u001b[0;34m\u001b[0m\u001b[0;34m\u001b[0m\u001b[0m\n\u001b[0m",
      "\u001b[0;31mNameError\u001b[0m: name 'species' is not defined"
     ]
    }
   ],
   "source": [
    "species[29]"
   ]
  },
  {
   "cell_type": "code",
   "execution_count": 21,
   "metadata": {},
   "outputs": [
    {
     "data": {
      "text/plain": [
       "{'111_fcc_hollow': -0.7089275269829081,\n",
       " '111_hcp_hollow': -0.796127526982908,\n",
       " '111_bridge': -0.7689275269829081,\n",
       " '111_top': -0.796127526982908}"
      ]
     },
     "execution_count": 21,
     "metadata": {},
     "output_type": "execute_result"
    }
   ],
   "source": [
    "# Get minimum energy site for ch3, ch2, ch and c\n",
    "surf_species = species[16]\n",
    "surf_species.generate_resonance_structures()\n",
    "display(surf_species)\n",
    "spec_thermo = surf_species.thermo.to_thermo_data()\n",
    "surf_species.thermo = spec_thermo"
   ]
  },
  {
   "cell_type": "code",
   "execution_count": 12,
   "metadata": {},
   "outputs": [],
   "source": [
    "max_bond_orders, bond_orders, sites = thermoDatabase.get_bond_order(surf_species, return_bond_orders=True)"
   ]
  },
  {
   "cell_type": "code",
   "execution_count": 13,
   "metadata": {},
   "outputs": [
    {
     "data": {
      "text/plain": [
       "['__class__',\n",
       " '__delattr__',\n",
       " '__dir__',\n",
       " '__doc__',\n",
       " '__eq__',\n",
       " '__format__',\n",
       " '__ge__',\n",
       " '__getattribute__',\n",
       " '__gt__',\n",
       " '__hash__',\n",
       " '__init__',\n",
       " '__init_subclass__',\n",
       " '__le__',\n",
       " '__lt__',\n",
       " '__ne__',\n",
       " '__new__',\n",
       " '__pyx_vtable__',\n",
       " '__reduce__',\n",
       " '__reduce_ex__',\n",
       " '__repr__',\n",
       " '__setattr__',\n",
       " '__sizeof__',\n",
       " '__str__',\n",
       " '__subclasshook__',\n",
       " '_molecular_weight',\n",
       " '_repr_png_',\n",
       " 'aug_inchi',\n",
       " 'calculate_cp0',\n",
       " 'calculate_cpinf',\n",
       " 'conformer',\n",
       " 'contains_surface_site',\n",
       " 'copy',\n",
       " 'creation_iteration',\n",
       " 'energy_transfer_model',\n",
       " 'explicitly_allowed',\n",
       " 'fingerprint',\n",
       " 'from_adjacency_list',\n",
       " 'from_smiles',\n",
       " 'generate_aug_inchi',\n",
       " 'generate_energy_transfer_model',\n",
       " 'generate_resonance_structures',\n",
       " 'generate_statmech',\n",
       " 'generate_transport_data',\n",
       " 'get_augmented_inchi',\n",
       " 'get_density_of_states',\n",
       " 'get_enthalpy',\n",
       " 'get_entropy',\n",
       " 'get_free_energy',\n",
       " 'get_heat_capacity',\n",
       " 'get_henry_law_constant_data',\n",
       " 'get_liquid_volumetric_mass_transfer_coefficient_data',\n",
       " 'get_partition_function',\n",
       " 'get_resonance_hybrid',\n",
       " 'get_sum_of_states',\n",
       " 'get_symmetry_number',\n",
       " 'get_thermo_data',\n",
       " 'get_transport_data',\n",
       " 'has_reactive_molecule',\n",
       " 'has_statmech',\n",
       " 'has_thermo',\n",
       " 'henry_law_constant_data',\n",
       " 'inchi',\n",
       " 'index',\n",
       " 'is_identical',\n",
       " 'is_isomorphic',\n",
       " 'is_solvent',\n",
       " 'is_structure_in_list',\n",
       " 'is_surface_site',\n",
       " 'label',\n",
       " 'liquid_volumetric_mass_transfer_coefficient_data',\n",
       " 'molecular_weight',\n",
       " 'molecule',\n",
       " 'multiplicity',\n",
       " 'number_of_surface_sites',\n",
       " 'props',\n",
       " 'reactive',\n",
       " 'set_e0_with_thermo',\n",
       " 'set_structure',\n",
       " 'smiles',\n",
       " 'sorting_key',\n",
       " 'symmetry_number',\n",
       " 'thermo',\n",
       " 'to_adjacency_list',\n",
       " 'to_cantera',\n",
       " 'to_chemkin',\n",
       " 'transport_data']"
      ]
     },
     "execution_count": 13,
     "metadata": {},
     "output_type": "execute_result"
    }
   ],
   "source": [
    "dir(surf_species)"
   ]
  },
  {
   "cell_type": "code",
   "execution_count": 14,
   "metadata": {},
   "outputs": [
    {
     "data": {
      "text/plain": [
       "['__class__',\n",
       " '__delattr__',\n",
       " '__dict__',\n",
       " '__dir__',\n",
       " '__doc__',\n",
       " '__eq__',\n",
       " '__format__',\n",
       " '__ge__',\n",
       " '__getattribute__',\n",
       " '__gt__',\n",
       " '__hash__',\n",
       " '__init__',\n",
       " '__init_subclass__',\n",
       " '__le__',\n",
       " '__lt__',\n",
       " '__module__',\n",
       " '__ne__',\n",
       " '__new__',\n",
       " '__reduce__',\n",
       " '__reduce_ex__',\n",
       " '__repr__',\n",
       " '__setattr__',\n",
       " '__sizeof__',\n",
       " '__str__',\n",
       " '__subclasshook__',\n",
       " '__weakref__',\n",
       " 'beta',\n",
       " 'binding_energies',\n",
       " 'children',\n",
       " 'coordination_number',\n",
       " 'data',\n",
       " 'data_count',\n",
       " 'electronegativity',\n",
       " 'facet',\n",
       " 'get_all_descendants',\n",
       " 'index',\n",
       " 'item',\n",
       " 'label',\n",
       " 'long_desc',\n",
       " 'metal',\n",
       " 'nodal_distance',\n",
       " 'parent',\n",
       " 'psi',\n",
       " 'rank',\n",
       " 'reference',\n",
       " 'reference_type',\n",
       " 'short_desc',\n",
       " 'site',\n",
       " 'surface_site_density',\n",
       " 'valence_electrons']"
      ]
     },
     "execution_count": 14,
     "metadata": {},
     "output_type": "execute_result"
    }
   ],
   "source": [
    "dir(thermoDatabase.libraries['surfaceThermoPt111'].entries[key])"
   ]
  },
  {
   "cell_type": "code",
   "execution_count": 9,
   "metadata": {},
   "outputs": [
    {
     "data": {
      "text/plain": [
       "6.617647058823529"
      ]
     },
     "execution_count": 9,
     "metadata": {},
     "output_type": "execute_result"
    }
   ],
   "source": [
    "sv = mpdb.get_valence_electrons('Sc')\n",
    "en = mpdb.get_electronegativity('Sc')\n",
    "beta = mpdb.get_beta('Sc')\n",
    "\n",
    "psi = (sv**2)/(en**beta)\n",
    "psi"
   ]
  },
  {
   "cell_type": "code",
   "execution_count": null,
   "metadata": {},
   "outputs": [],
   "source": []
  }
 ],
 "metadata": {
  "kernelspec": {
   "display_name": "rmg_env",
   "language": "python",
   "name": "python3"
  },
  "language_info": {
   "codemirror_mode": {
    "name": "ipython",
    "version": 3
   },
   "file_extension": ".py",
   "mimetype": "text/x-python",
   "name": "python",
   "nbconvert_exporter": "python",
   "pygments_lexer": "ipython3",
   "version": "3.7.12"
  },
  "orig_nbformat": 4
 },
 "nbformat": 4,
 "nbformat_minor": 2
}
