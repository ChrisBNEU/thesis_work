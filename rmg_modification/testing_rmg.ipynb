{
 "cells": [
  {
   "cell_type": "code",
   "execution_count": 1,
   "metadata": {
    "tags": []
   },
   "outputs": [
    {
     "name": "stdout",
     "output_type": "stream",
     "text": [
      "['/work/westgroup/ChrisB/_04_thesis/Thesis_repo/rmg_modification', '/work/westgroup/ChrisB/_04_thesis/rmg_thesis/RMG-Py', '/work/westgroup/ChrisB/_04_thesis/Thesis_repo/rmg_modification', '/work/westgroup/ChrisB/miniconda3/envs/rmg_thesis/lib/python37.zip', '/work/westgroup/ChrisB/miniconda3/envs/rmg_thesis/lib/python3.7', '/work/westgroup/ChrisB/miniconda3/envs/rmg_thesis/lib/python3.7/lib-dynload', '', '/home/blais.ch/.local/lib/python3.7/site-packages', '/work/westgroup/ChrisB/miniconda3/envs/rmg_thesis/lib/python3.7/site-packages', '/work/westgroup/ChrisB/miniconda3/envs/rmg_thesis/lib/python3.7/site-packages/chemprop-0.0.1-py3.7.egg', '/work/westgroup/ChrisB/miniconda3/envs/rmg_thesis/lib/python3.7/site-packages/descriptastorus-2.0.0.32-py3.7.egg', '/work/westgroup/ChrisB/miniconda3/envs/rmg_thesis/lib/python3.7/site-packages/IPython/extensions', '/home/blais.ch/.ipython']\n"
     ]
    }
   ],
   "source": [
    "import sys\n",
    "# sys.path.append('/work/westgroup/ChrisB/_04_thesis/rmg_thesis/RMG-Py/')\n",
    "print(sys.path)"
   ]
  },
  {
   "cell_type": "code",
   "execution_count": 2,
   "metadata": {
    "tags": []
   },
   "outputs": [],
   "source": [
    "import os\n",
    "import shutil\n",
    "import sys\n",
    "import itertools\n",
    "\n",
    "from rmgpy.chemkin import load_chemkin_file\n",
    "from rmgpy.data.surface import MetalPropertyLibrary, SitePropertyLibrary, MetalPropertyDatabase, SitePropertyDatabase\n",
    "from rmgpy.data.thermo import ThermoDatabase"
   ]
  },
  {
   "cell_type": "markdown",
   "metadata": {},
   "source": [
    "## verify that the metalproperties databases load correctly"
   ]
  },
  {
   "cell_type": "code",
   "execution_count": 3,
   "metadata": {
    "tags": []
   },
   "outputs": [],
   "source": [
    "mpdb = MetalPropertyDatabase()\n",
    "spdb = SitePropertyDatabase()\n",
    "path = '/work/westgroup/ChrisB/_04_thesis/rmg_thesis/RMG-database/input/surface/'\n",
    "mpdb.load(path)\n",
    "spdb.load(path)"
   ]
  },
  {
   "cell_type": "markdown",
   "metadata": {},
   "source": [
    "## check combinatorial number of sites possible"
   ]
  },
  {
   "cell_type": "code",
   "execution_count": 4,
   "metadata": {
    "tags": []
   },
   "outputs": [
    {
     "data": {
      "text/plain": [
       "[('111_fcc_hollow', '111_fcc_hollow'),\n",
       " ('111_fcc_hollow', '111_hcp_hollow'),\n",
       " ('111_fcc_hollow', '111_bridge'),\n",
       " ('111_fcc_hollow', '111_top'),\n",
       " ('111_hcp_hollow', '111_hcp_hollow'),\n",
       " ('111_hcp_hollow', '111_bridge'),\n",
       " ('111_hcp_hollow', '111_top'),\n",
       " ('111_bridge', '111_bridge'),\n",
       " ('111_bridge', '111_top'),\n",
       " ('111_top', '111_top')]"
      ]
     },
     "execution_count": 4,
     "metadata": {},
     "output_type": "execute_result"
    }
   ],
   "source": [
    "coords_111 = spdb.get_all_coordination_numbers_on_facet('111')\n",
    "coords_100 = spdb.get_all_coordination_numbers_on_facet('100')\n",
    "\n",
    "sites_111 = list(spdb.get_all_coordination_numbers_on_facet('111').keys())\n",
    "list_of_sites = []\n",
    "for item in itertools.combinations_with_replacement(sites_111, 2):\n",
    "    list_of_sites.append(item)\n",
    "list_of_sites"
   ]
  },
  {
   "cell_type": "code",
   "execution_count": 5,
   "metadata": {
    "tags": []
   },
   "outputs": [
    {
     "data": {
      "text/plain": [
       "'111_fcc_hollow'"
      ]
     },
     "execution_count": 5,
     "metadata": {},
     "output_type": "execute_result"
    }
   ],
   "source": [
    "# get the metal atom number for each site (number of metal atoms bound atom attaches to) \n",
    "metal_atom_number = spdb.get_all_metal_atoms_on_facet('111')\n",
    "max_ma = max(metal_atom_number.values())\n",
    "max_ma_site = [k for k, v in metal_atom_number.items() if v == max(metal_atom_number.values())]\n",
    "cns_max_ma = {k:coords_111[k] for k in max_ma_site}\n",
    "min(cns_max_ma, key=cns_max_ma.get)"
   ]
  },
  {
   "cell_type": "markdown",
   "metadata": {},
   "source": [
    "# see which entries still need \"site\" defined"
   ]
  },
  {
   "cell_type": "code",
   "execution_count": 6,
   "metadata": {
    "tags": []
   },
   "outputs": [],
   "source": [
    "#load the thermodynamics database\n",
    "thermoDatabase = ThermoDatabase()\n",
    "libraries = ['surfaceThermoPt111']\n",
    "if sys.platform == \"darwin\":\n",
    "    thermoDatabase.load(path=\"/Users/blais.ch/Documents/_01_code/RMG_env_1/RMG-database/input/thermo\", libraries = libraries)\n",
    "else: \n",
    "    thermoDatabase.load(path='/work/westgroup/ChrisB/_04_thesis/rmg_thesis/RMG-database/input/thermo', libraries = libraries)"
   ]
  },
  {
   "cell_type": "markdown",
   "metadata": {},
   "source": [
    "## see which sites we haven't Id'd"
   ]
  },
  {
   "cell_type": "code",
   "execution_count": 7,
   "metadata": {
    "tags": []
   },
   "outputs": [],
   "source": [
    "# search_str = \"\"\n",
    "# show_no_site = True\n",
    "# for key in sorted(thermoDatabase.libraries[\"surfaceThermoPt111\"].entries.keys()):\n",
    "#     if show_no_site and len(thermoDatabase.libraries[\"surfaceThermoPt111\"].entries[key].site)>0:\n",
    "#         continue\n",
    "#     else:\n",
    "#         if len(search_str) > 0 and search_str.lower() in key.lower():\n",
    "#             print(f\"\\'{key}\\': \\'{thermoDatabase.libraries['surfaceThermoPt111'].entries[key].site}\\'\")\n",
    "#         elif len(search_str) == 0: \n",
    "#             print(f\"\\'{key}\\': \\'{thermoDatabase.libraries['surfaceThermoPt111'].entries[key].site}\\'\")"
   ]
  },
  {
   "cell_type": "markdown",
   "metadata": {},
   "source": [
    "$\\theta = E_{ad} -0.1*\\frac{X_{m}-X}{X_{m}+1}*\\psi-0.2*\\frac{X+1}{X_{m}+1}*\\overline{CN}$"
   ]
  },
  {
   "cell_type": "code",
   "execution_count": 7,
   "metadata": {
    "tags": []
   },
   "outputs": [],
   "source": [
    "def get_adatom_site(species, metal_atoms1, cn_nums1, metal_atoms2, cn_nums2):\n",
    "    \"\"\"\n",
    "    gets the adatoms, bond orders, and sites for a given species\n",
    "\n",
    "    :param species: the adsorbate species\n",
    "    :param metal_atoms: the number of metal atoms available on the surface\n",
    "    :param cn_nums: the coordination numbers for the different sites on the surface\n",
    "    :return: a list of tuples with the bound atom, site, bond order, and max bond order\n",
    "    \"\"\"\n",
    "    sites = {}\n",
    "    max_bond_orders = {'C': 4., 'O': 2., 'N': 3., 'H': 1.}\n",
    "\n",
    "    for atom in species.molecule[0].atoms: \n",
    "        if atom.is_surface_site():\n",
    "            # vdw check\n",
    "            if len(atom.bonds) == 0:\n",
    "                return None\n",
    "\n",
    "            else:\n",
    "                bound_atom = list(atom.bonds.keys())[0]\n",
    "                # what do I do for bonds? see where it is used and if I can use total bonds for getting preferred site. \n",
    "                bonds = list(atom.bonds.values())[0].get_order_num()\n",
    "                # max_bond_order = max_bond_orders[bound_atom.symbol]\n",
    "\n",
    "                # Need to check if there are multiple functional groups attached\n",
    "                # to a single atom. \n",
    "                groups_xm = []\n",
    "                groups_x = []\n",
    "                for atom, bond in bound_atom.bonds.items():\n",
    "                    if bound_atom.symbol == 'C':\n",
    "                        # check for OH, can have 5 bonds to C\n",
    "                        if atom.is_oxygen() and bond.is_single():\n",
    "                            groups_xm.append(5.)\n",
    "                            groups_x.append(1)\n",
    "                        else: \n",
    "                            groups_xm.append(4.)\n",
    "                            groups_x.append(bond.get_order_num())\n",
    "                    else: \n",
    "                        groups_xm.append(max_bond_orders[bound_atom.symbol])\n",
    "\n",
    "                # this only works for 2 functional groups with a different \n",
    "                # max bond order. Gao does not define what to do with 3 or more. \n",
    "                if len(set(groups_xm)) > 1:\n",
    "                    max_bo_group1 = max(groups_xm)\n",
    "                    max_bo_group2 = min(groups_xm)\n",
    "\n",
    "\n",
    "                if len(atom.site) > 0:\n",
    "                    site = atom.site\n",
    "\n",
    "                # if no site is specified, look at bond order and try to match \n",
    "                else:\n",
    "                    # get max metal atoms available for the facet (e.g. 111 = 3 for hollow site) \n",
    "                    max_ma = max(metal_atoms.values())\n",
    "\n",
    "                    if bound_atom.symbol == 'C':\n",
    "                        pref_site = bonds\n",
    "                    elif bound_atom.symbol == 'O': \n",
    "                        pref_site = bonds + 1\n",
    "                    elif bound_atom.symbol == 'N': \n",
    "                        pref_site = bonds + 1\n",
    "                    elif bound_atom.symbol == 'H':\n",
    "                        pref_site = 1\n",
    "\n",
    "                    # if the preference is higher than the largest num of metal atoms, \n",
    "                    # then just go to the site with most available metal atoms\n",
    "                    # print(pref_site, max_site)\n",
    "                    if pref_site > max_ma:\n",
    "                        pref_site = max_ma\n",
    "\n",
    "                    # get all possible sites on the surface\n",
    "                    poss_sites = []\n",
    "                    for poss_site, ma_num in metal_atoms.items():\n",
    "                        if pref_site == ma_num: \n",
    "                            poss_sites.append(poss_site)\n",
    "                    print(\"poss_sites \", poss_sites)\n",
    "\n",
    "                    # if multiple suitable sites are found, use one with lowest coordination number \n",
    "                    if len(poss_sites) == 1:\n",
    "                        site = poss_sites[0]\n",
    "\n",
    "                    if len(poss_sites) > 1:\n",
    "                        ma_site = [k for k, v in metal_atoms.items() if v == pref_site]\n",
    "\n",
    "                        # get the coordination numbers corresponding to the max ma sites\n",
    "                        cns_ma = {k:coords_111[k] for k in ma_site}\n",
    "                        site = min(cns_max_ma, key=cns_max_ma.get)\n",
    "\n",
    "                    # no sites found, see if it is larger than max sites. \n",
    "                    elif len(poss_sites) == 0: \n",
    "                        raise ValueError(f\"no site could be found for bound atom {bound_atom.symbol} in species {species.label}\")\n",
    "\n",
    "\n",
    "                print(f\"preferred site for {bound_atom.symbol} is {site} with {pref_site} metal atoms\")\n",
    "\n",
    "            sites[atom] = {\"site1\": site1, \"bonds\": bonds, \"max_bond_order\": max_bond_order,\n",
    "                           \"site2\": site2, }\n",
    "\n",
    "    return sites\n",
    "\n",
    "def correct_binding_energies_extended(thermo, species, metal_to_scale_from=None,\n",
    "                                    metal_to_scale_to=None, facet_to_scale_from=None, facet_to_scale_to=None):\n",
    "    \"\"\"\n",
    "    Uses the binding energy correction proposed by gao, which allows for scaling\n",
    "    from one metal and facet (e.g. Pt111) to a completely different metal and \n",
    "    facet (e.g. Cu111). \n",
    "\n",
    "    :param thermo: the thermo data to correct\n",
    "    :param species: the species to correct\n",
    "    :param metal_to_scale_from: the metal to scale from (e.g. Pt)\n",
    "    :param metal_to_scale_to: the metal to scale to (e.g. Cu)\n",
    "    :param facet_to_scale_from: the facet to scale from (e.g. 111)\n",
    "    :param facet_to_scale_to: the facet to scale to (e.g. 111)\n",
    "    :return: the corrected thermo data\n",
    "\n",
    "    \"\"\"\n",
    "\n",
    "    if metal_to_scale_from == metal_to_scale_to and facet_to_scale_from == facet_to_scale_to:\n",
    "        return thermo\n",
    "    elif metal_to_scale_from is None or metal_to_scale_to is None or facet_to_scale_from is None or facet_to_scale_to is None:\n",
    "        raise ValueError(\"If you are scaling, you must specify both the metal and the facet to scale from and to.\")\n",
    "\n",
    "    # get the required attributes for every facet and metal involved\n",
    "    cn1_dict = thermoDatabase.surface['site_properties'].get_all_coordination_numbers_on_facet(facet_to_scale_from)\n",
    "    cn2_dict = thermoDatabase.surface['site_properties'].get_all_coordination_numbers_on_facet(facet_to_scale_to)\n",
    "\n",
    "    ma1_dict = thermoDatabase.surface['site_properties'].get_all_metal_atoms_on_facet(facet_to_scale_from)\n",
    "    ma2_dict = thermoDatabase.surface['site_properties'].get_all_metal_atoms_on_facet(facet_to_scale_to)\n",
    "\n",
    "    psi1 = thermoDatabase.surface['metal_properties'].get_psi(metal_to_scale_from)\n",
    "    psi2 = thermoDatabase.surface['metal_properties'].get_psi(metal_to_scale_to)\n",
    "\n",
    "    # determine the preferred sites for the species on each surface\n",
    "    # only call once so we can link the sites\n",
    "    surf_sites = thermoDatabase.get_adatom_site(species, ma1_dict, cn1_dict, ma2_dict, cn2_dict)\n",
    "    # surf2_sites = thermoDatabase.get_adatom_site(species,ma2_dict,cn2_dict)\n",
    "\n",
    "    # check for non_surface_species or vdw\n",
    "    if not surf1_sites or len(surf1_sites) == 0: \n",
    "        print(f\"species {species.label} has no sites\")\n",
    "        print(thermo.H298.value_si/9.68e4)\n",
    "        return thermo\n",
    "\n",
    "    # print for logging\n",
    "    metal1_str = f\"{metal_to_scale_from}({facet_to_scale_from})\"\n",
    "    metal2_str = f\"{metal_to_scale_to}({facet_to_scale_to})\"\n",
    "    print(f\"scaling species {species.label} on {metal1_str} at site(s) {surf1_sites} to {metal2_str} at site(s) {surf2_sites}\")\n",
    "\n",
    "    theta = 0\n",
    "    E_ads_new = 0\n",
    "\n",
    "    # 1. get theta with known values\n",
    "    comments = []\n",
    "    for bound_atom, site, X, X_m in surf1_sites: \n",
    "        cn = cn1_dict[site]\n",
    "        E_ad = (thermo.H298.value_si)/9.68e4\n",
    "\n",
    "        # for multidentates, we will use the same strategy as lsrs. calculate \n",
    "        # the theta additively for each site\n",
    "        theta += E_ad-0.1*(X_m-X)/(X_m+1)*psi1-0.2*(X+1)/(X_m+1)*cn\n",
    "        comments.append(f\"{bound_atom} on {metal1_str} at {site} order={X/X_m:.2f}\")\n",
    "\n",
    "    # 2. get new adsorption energy\n",
    "    for bound_atom, site, X, X_m in surf2_sites: \n",
    "        cn = cn2_dict[site]\n",
    "\n",
    "        E_ads_new += 0.1*(X_m-X)/(X_m+1)*psi2+0.2*(X+1)/(X_m+1)*cn + theta\n",
    "        comments.append(f\"{bound_atom} on {metal2_str} at {site} order={X/X_m:.2f}\")\n",
    "\n",
    "    thermo.comment += \" Binding energy corrected by Gao relations ({})\".format(', '.join(comments))\n",
    "\n",
    "    # update the species metal and facet\n",
    "\n",
    "    # adjust the H298\n",
    "    thermo.H298.value_si = E_ads_new*9.68e4\n",
    "    print(f\"scaling species {species.label} to {E_ads_new} with theta {theta}\")\n",
    "\n",
    "    return thermo"
   ]
  },
  {
   "cell_type": "markdown",
   "metadata": {},
   "source": [
    "## Test with OH from Pt111 to Rh211"
   ]
  },
  {
   "cell_type": "code",
   "execution_count": null,
   "metadata": {
    "tags": []
   },
   "outputs": [
    {
     "data": {
      "image/png": "[encoded data removed]",
      "text/plain": [
       "Species(index=23, label=\"HOX\", thermo=NASA(polynomials=[NASAPolynomial(coeffs=[-0.796037,0.0206727,-3.97515e-05,3.78158e-08,-1.33691e-11,-28846.6,2.62051], Tmin=(100,'K'), Tmax=(873.09,'K')), NASAPolynomial(coeffs=[0.721933,0.00658742,-3.30146e-06,6.29134e-10,-4.25429e-14,-28839.9,-2.94033], Tmin=(873.09,'K'), Tmax=(5000,'K'))], Tmin=(100,'K'), Tmax=(5000,'K'), comment=\"\"\"Thermo library: surfaceThermoNi111 Binding energy corrected by LSR (0.50O) from Ni111\"\"\"), molecule=[Molecule(smiles=\"O[Pt]\")], molecular_weight=(17.0074,'amu'))"
      ]
     },
     "metadata": {},
     "output_type": "display_data"
    }
   ],
   "source": [
    "# test the function. load model each time \n",
    "folder = './test_mech/chemkin/'\n",
    "\n",
    "chemkin_path = os.path.join(folder, 'chem_annotated-gas.inp')\n",
    "chemkin_surf_path = os.path.join(folder, 'chem_annotated-surface.inp')\n",
    "dictionary_path = os.path.join(folder, 'species_dictionary.txt')\n",
    "\n",
    "# load_chemkin_file\n",
    "species, reactions = load_chemkin_file(chemkin_surf_path, dictionary_path)\n",
    "# identify a surface species to use for testing\n",
    "surf_species = species[5]\n",
    "surf_species.generate_resonance_structures()\n",
    "display(surf_species)\n",
    "spec_thermo = surf_species.thermo.to_thermo_data()\n",
    "surf_species.thermo = spec_thermo\n",
    "thermo_list = thermoDatabase.get_all_thermo_data(surf_species)\n",
    "E_ad_old = (spec_thermo.H298.value_si)/9.68e4\n",
    "\n",
    "new_thermo = correct_binding_energies_extended(spec_thermo, surf_species, metal_to_scale_from='Pt',\n",
    "                                       metal_to_scale_to='Rh', facet_to_scale_from='111', facet_to_scale_to='211')\n",
    "print(\"old E_ad = \", E_ad_old)\n",
    "print(new_thermo.comment)"
   ]
  },
  {
   "cell_type": "markdown",
   "metadata": {},
   "source": [
    "## test with O\n"
   ]
  },
  {
   "cell_type": "code",
   "execution_count": 19,
   "metadata": {
    "tags": []
   },
   "outputs": [
    {
     "name": "stdout",
     "output_type": "stream",
     "text": [
      "Thermo library: surfaceThermoNi111 Binding energy corrected by LSR (0.50O) from Ni111 Binding energy corrected by Gao relations (O on Pt(111) at 111_bridge order=0.50, O on Rh(211) at 211_100_edge_bridge order=0.50)\n"
     ]
    }
   ],
   "source": [
    "print(spec_thermo.comment)"
   ]
  },
  {
   "cell_type": "code",
   "execution_count": 20,
   "metadata": {
    "tags": []
   },
   "outputs": [
    {
     "data": {
      "image/png": "[encoded data removed]",
      "text/plain": [
       "Species(index=20, label=\"OX\", thermo=NASA(polynomials=[NASAPolynomial(coeffs=[-0.733126,0.0181765,-3.59448e-05,3.20088e-08,-1.0581e-11,-26819.7,1.91183], Tmin=(100,'K'), Tmax=(881.99,'K')), NASAPolynomial(coeffs=[1.88987,0.0020054,-1.17176e-06,2.29152e-10,-1.53022e-14,-27116.1,-9.47052], Tmin=(881.99,'K'), Tmax=(5000,'K'))], Tmin=(100,'K'), Tmax=(5000,'K'), comment=\"\"\"Thermo library: surfaceThermoNi111 Binding energy corrected by LSR (1.00O) from Ni111\"\"\"), molecule=[Molecule(smiles=\"O=[Pt]\")], molecular_weight=(15.9994,'amu'))"
      ]
     },
     "metadata": {},
     "output_type": "display_data"
    },
    {
     "name": "stdout",
     "output_type": "stream",
     "text": [
      "1:  -2.2753166768898305\n"
     ]
    },
    {
     "data": {
      "image/png": "[encoded data removed]",
      "text/plain": [
       "Species(index=20, label=\"OX\", thermo=ThermoData(Tdata=([300,400,500,600,800,1000,1500],'K'), Cpdata=([18.8182,21.3181,22.5213,23.0744,23.7617,24.4226,24.5895],'J/(mol*K)'), H298=(-220.251,'kJ/mol'), S298=(15.1091,'J/(mol*K)'), comment=\"\"\"Thermo library: surfaceThermoNi111 Binding energy corrected by LSR (1.00O) from Ni111\"\"\"), molecule=[Molecule(smiles=\"O=[Pt]\")], molecular_weight=(15.9994,'amu'))"
      ]
     },
     "metadata": {},
     "output_type": "display_data"
    },
    {
     "name": "stdout",
     "output_type": "stream",
     "text": [
      "poss_sites  ['111_fcc_hollow', '111_hcp_hollow']\n",
      "preferred site for O is 111_fcc_hollow with 3.0 metal atoms\n",
      "poss_sites  ['211_hollow']\n",
      "preferred site for O is 211_hollow with 3.0 metal atoms\n",
      "scaling species OX to -2.48431667688983 with theta -3.6663166768898305\n",
      "old E_ad =  -2.2753166768898305 -2.48431667688983\n"
     ]
    }
   ],
   "source": [
    "# test the function. load model each time \n",
    "folder = './test_mech/chemkin/'\n",
    "\n",
    "chemkin_path = os.path.join(folder, 'chem_annotated-gas.inp')\n",
    "chemkin_surf_path = os.path.join(folder, 'chem_annotated-surface.inp')\n",
    "dictionary_path = os.path.join(folder, 'species_dictionary.txt')\n",
    "\n",
    "# load_chemkin_file\n",
    "species, reactions = load_chemkin_file(chemkin_surf_path, dictionary_path)\n",
    "\n",
    "surf_species = species[2]\n",
    "surf_species.generate_resonance_structures()\n",
    "display(surf_species)\n",
    "spec_thermo = surf_species.thermo.to_thermo_data()\n",
    "surf_species.thermo = spec_thermo\n",
    "\n",
    "\n",
    "\n",
    "E_ad_old = (spec_thermo.H298.value_si)/9.68e4\n",
    "print(\"1: \",spec_thermo.H298.value_si/9.68e4)\n",
    "new_thermo  = correct_binding_energies_extended(spec_thermo, surf_species, metal_to_scale_from='Pt',\n",
    "                                       metal_to_scale_to='Rh', facet_to_scale_from='111', facet_to_scale_to='211')\n",
    "\n",
    "print(\"old E_ad = \", E_ad_old,new_thermo.H298.value_si/9.68e4)"
   ]
  },
  {
   "cell_type": "markdown",
   "metadata": {
    "tags": []
   },
   "source": [
    "## test with vdw species"
   ]
  },
  {
   "cell_type": "code",
   "execution_count": 25,
   "metadata": {
    "tags": []
   },
   "outputs": [
    {
     "data": {
      "image/png": "[encoded data removed]",
      "text/plain": [
       "Species(index=24, label=\"CO2X\", thermo=NASA(polynomials=[NASAPolynomial(coeffs=[-1.46246,0.0378469,-7.61216e-05,7.1831e-08,-2.50679e-11,-52421.8,12.0604], Tmin=(100,'K'), Tmax=(875.18,'K')), NASAPolynomial(coeffs=[2.0419,0.00907405,-4.94339e-06,9.56497e-10,-6.46915e-14,-52546.6,-1.58791], Tmin=(875.18,'K'), Tmax=(5000,'K'))], Tmin=(100,'K'), Tmax=(5000,'K'), comment=\"\"\"Thermo library: surfaceThermoPt111 Binding energy corrected by LSR () from Pt111\"\"\"), molecule=[Molecule(smiles=\"O=C=O.[Pt]\")], molecular_weight=(44.0094,'amu'))"
      ]
     },
     "metadata": {},
     "output_type": "display_data"
    },
    {
     "name": "stdout",
     "output_type": "stream",
     "text": [
      "1:  -4.442293568472368\n"
     ]
    },
    {
     "data": {
      "image/png": "[encoded data removed]",
      "text/plain": [
       "Species(index=24, label=\"CO2X\", thermo=ThermoData(Tdata=([300,400,500,600,800,1000,1500],'K'), Cpdata=([39.7187,45.3329,48.5791,50.7897,54.9327,58.7365,61.7852],'J/(mol*K)'), H298=(-430.014,'kJ/mol'), S298=(101.53,'J/(mol*K)'), comment=\"\"\"Thermo library: surfaceThermoPt111 Binding energy corrected by LSR () from Pt111\"\"\"), molecule=[Molecule(smiles=\"O=C=O.[Pt]\")], molecular_weight=(44.0094,'amu'))"
      ]
     },
     "metadata": {},
     "output_type": "display_data"
    },
    {
     "name": "stdout",
     "output_type": "stream",
     "text": [
      "species CO2X has no sites\n",
      "-4.442293568472368\n",
      "old E_ad =  -4.442293568472368 -4.442293568472368\n"
     ]
    }
   ],
   "source": [
    "# test the function. load model each time \n",
    "folder = './test_mech/chemkin/'\n",
    "\n",
    "chemkin_path = os.path.join(folder, 'chem_annotated-gas.inp')\n",
    "chemkin_surf_path = os.path.join(folder, 'chem_annotated-surface.inp')\n",
    "dictionary_path = os.path.join(folder, 'species_dictionary.txt')\n",
    "\n",
    "# load_chemkin_file\n",
    "species, reactions = load_chemkin_file(chemkin_surf_path, dictionary_path)\n",
    "\n",
    "surf_species = species[6]\n",
    "surf_species.generate_resonance_structures()\n",
    "display(surf_species)\n",
    "spec_thermo = surf_species.thermo.to_thermo_data()\n",
    "surf_species.thermo = spec_thermo\n",
    "\n",
    "\n",
    "\n",
    "E_ad_old = (spec_thermo.H298.value_si)/9.68e4\n",
    "print(\"1: \",spec_thermo.H298.value_si/9.68e4)\n",
    "new_thermo  = correct_binding_energies_extended(spec_thermo, surf_species, metal_to_scale_from='Pt',\n",
    "                                       metal_to_scale_to='Rh', facet_to_scale_from='111', facet_to_scale_to='211')\n",
    "\n",
    "print(\"old E_ad = \", E_ad_old,new_thermo.H298.value_si/9.68e4)"
   ]
  },
  {
   "cell_type": "code",
   "execution_count": 34,
   "metadata": {},
   "outputs": [
    {
     "name": "stdout",
     "output_type": "stream",
     "text": [
      "9 HOCXO\n"
     ]
    },
    {
     "data": {
      "image/png": "[encoded data removed]",
      "text/plain": [
       "Species(index=27, label=\"HOCXO\", thermo=NASA(polynomials=[NASAPolynomial(coeffs=[-2.13605,0.0520702,-9.51732e-05,8.33449e-08,-2.76673e-11,-51552.6,7.477], Tmin=(100,'K'), Tmax=(861.33,'K')), NASAPolynomial(coeffs=[4.89708,0.00993862,-5.30998e-06,1.02694e-09,-6.98845e-14,-52412.9,-23.3647], Tmin=(861.33,'K'), Tmax=(5000,'K'))], Tmin=(100,'K'), Tmax=(5000,'K'), comment=\"\"\"Thermo library: surfaceThermoNi111 Binding energy corrected by LSR (0.25C) from Ni111\"\"\"), molecule=[Molecule(smiles=\"O=C(O)[Pt]\")], molecular_weight=(45.0174,'amu'))"
      ]
     },
     "metadata": {},
     "output_type": "display_data"
    }
   ],
   "source": [
    "## get second order bonds from carbon in cooh\n",
    "for num, spec in enumerate(species):\n",
    "    if \"HOCXO\" in spec.label:\n",
    "        print(num, spec.label)\n",
    "        display(spec)\n"
   ]
  },
  {
   "cell_type": "code",
   "execution_count": 48,
   "metadata": {},
   "outputs": [
    {
     "name": "stdout",
     "output_type": "stream",
     "text": [
      "O S\n"
     ]
    }
   ],
   "source": [
    "surf_spec = species[9]\n",
    "for atom,bond in surf_spec.molecule[0].atoms[2].bonds.items():\n",
    "    if atom.is_oxygen() and bond.is_single():\n",
    "        print(atom, bond)"
   ]
  },
  {
   "cell_type": "code",
   "execution_count": 51,
   "metadata": {},
   "outputs": [
    {
     "data": {
      "text/plain": [
       "'HOCXO\\n1 O u0 p2 c0 {3,S} {4,S}\\n2 O u0 p2 c0 {3,D}\\n3 C u0 p0 c0 {1,S} {2,D} {5,S}\\n4 H u0 p0 c0 {1,S}\\n5 X u0 p0 c0 {3,S}\\n'"
      ]
     },
     "execution_count": 51,
     "metadata": {},
     "output_type": "execute_result"
    }
   ],
   "source": [
    "surf_spec.to_adjacency_list()"
   ]
  },
  {
   "cell_type": "code",
   "execution_count": null,
   "metadata": {},
   "outputs": [],
   "source": []
  }
 ],
 "metadata": {
  "kernelspec": {
   "display_name": "rmg_thesis",
   "language": "python",
   "name": "rmg_thesis"
  },
  "language_info": {
   "codemirror_mode": {
    "name": "ipython",
    "version": 3
   },
   "file_extension": ".py",
   "mimetype": "text/x-python",
   "name": "python",
   "nbconvert_exporter": "python",
   "pygments_lexer": "ipython3",
   "version": "3.7.12"
  }
 },
 "nbformat": 4,
 "nbformat_minor": 4
}
