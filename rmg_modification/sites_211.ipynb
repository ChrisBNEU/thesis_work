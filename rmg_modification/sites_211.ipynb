{
 "cells": [
  {
   "cell_type": "markdown",
   "id": "ff1fc4bb-72f2-49e5-80d9-366a664afd6c",
   "metadata": {},
   "source": [
    "## make site for 211 hollow\n"
   ]
  },
  {
   "cell_type": "markdown",
   "id": "e43e6639-3b38-4085-a727-cb321d6be56b",
   "metadata": {
    "tags": []
   },
   "source": [
    "<div>\n",
    "<img src=\"./site_config/211_hollow/without_site.jpg\" width=\"500\"/>\n",
    "</div>"
   ]
  },
  {
   "cell_type": "code",
   "execution_count": 2,
   "id": "4aa26183-565e-4049-b602-3246c2b23ce1",
   "metadata": {
    "tags": []
   },
   "outputs": [
    {
     "data": {
      "text/plain": [
       "(5.909090909090909, [7, 7, 9, 9, 9, 9, 10, 10, 12, 12, 12, 12, 12])"
      ]
     },
     "execution_count": 2,
     "metadata": {},
     "output_type": "execute_result"
    }
   ],
   "source": [
    "# determine generalized coordination number for 211\n",
    "a1 = 3+6+3\n",
    "a2 = 3+6+1\n",
    "a3 = 3+6+3\n",
    "a4 = 3+6+3\n",
    "a5 = 3+6+3\n",
    "a6 = 3+6+3\n",
    "a7 = 3+6+1\n",
    "a8 = 3+4\n",
    "a9 = 3+6\n",
    "a10 = 3+6\n",
    "a11 = 3+6\n",
    "a12 = 3+6\n",
    "a13 = 3+4\n",
    "\n",
    "site_list = [a1, a2, a3, a4, a5, a6, a7, a8, a9, a10, a11, a12, a13]\n",
    "\n",
    "cn_211_terr = sum([site/22 for site in site_list])\n",
    "cn_211_terr, sorted(site_list)"
   ]
  },
  {
   "cell_type": "markdown",
   "id": "2ea532f6-dd47-4fc2-a32b-459455da2279",
   "metadata": {},
   "source": [
    "## alternate 211 hollow\n",
    "\n",
    "<div>\n",
    "<img src=\"./site_config/211_hollow_alt/without_site.jpg\" width=\"500\"/>\n",
    "</div>"
   ]
  },
  {
   "cell_type": "code",
   "execution_count": 9,
   "id": "8206549f-a0a8-47c8-afbe-a0f1785604a2",
   "metadata": {
    "tags": []
   },
   "outputs": [
    {
     "data": {
      "text/plain": [
       "(5.863636363636364, [7, 7, 9, 9, 9, 9, 9, 10, 12, 12, 12, 12, 12])"
      ]
     },
     "execution_count": 9,
     "metadata": {},
     "output_type": "execute_result"
    }
   ],
   "source": [
    "# 1, 2, 3, 4, 5 have same cn\n",
    "l12 = [12]*5\n",
    "\n",
    "# site 6 is unique\n",
    "l10 = [10]\n",
    "\n",
    "# 7 and 13 have the same cn\n",
    "l7 = [7]*2\n",
    "\n",
    "# 8, 9, 10, 11, 12 have same cn\n",
    "l9 = [9]*5\n",
    "\n",
    "site_list = l12+l10+l7+l9\n",
    "\n",
    "cn_211_terr_alt = sum([site/22 for site in site_list])\n",
    "cn_211_terr_alt, sorted(site_list)"
   ]
  },
  {
   "cell_type": "markdown",
   "id": "9ba34069-0acf-4ddb-a95b-ff9585d7e2f3",
   "metadata": {},
   "source": [
    "## double check that I get the cn for 211 bridge right\n",
    "\n",
    "<div>\n",
    "<img src=\"./site_config/211_bridge/without_site.jpg\" width=\"500\"/>\n",
    "</div>"
   ]
  },
  {
   "cell_type": "code",
   "execution_count": 11,
   "id": "b136fd81-720d-47a0-ba7b-458e09f6b4a0",
   "metadata": {
    "tags": []
   },
   "outputs": [
    {
     "name": "stdout",
     "output_type": "stream",
     "text": [
      "from calle vallejo: 3.38\n",
      "out calc:  5.388888888888889\n"
     ]
    }
   ],
   "source": [
    "a1 = 3+6+1\n",
    "a2 = 3+6+3\n",
    "a3 = 3+6+3\n",
    "a4 = 3+6+3\n",
    "a5 = 3+6+1\n",
    "a6 = 3+4\n",
    "a7 = 3+6\n",
    "a8 = 3+6\n",
    "a9 = 3+6\n",
    "a10 = 3+4\n",
    "\n",
    "site_list = [a1, a2, a3, a4, a5, a6, a7, a8, a9, a10]\n",
    "cn_211_bridge = sum([site/18 for site in site_list])\n",
    "cn_211_bridge, sorted(site_list)\n",
    "\n",
    "print(\"from calle vallejo: 3.39\")\n",
    "print(\"out calc: \", cn_211_bridge) "
   ]
  },
  {
   "cell_type": "code",
   "execution_count": null,
   "id": "1b4a3633-f89b-4992-93d3-9308b006ac43",
   "metadata": {},
   "outputs": [],
   "source": []
  }
 ],
 "metadata": {
  "kernelspec": {
   "display_name": "Python 3 (ipykernel)",
   "language": "python",
   "name": "python3"
  },
  "language_info": {
   "codemirror_mode": {
    "name": "ipython",
    "version": 3
   },
   "file_extension": ".py",
   "mimetype": "text/x-python",
   "name": "python",
   "nbconvert_exporter": "python",
   "pygments_lexer": "ipython3",
   "version": "3.7.12"
  }
 },
 "nbformat": 4,
 "nbformat_minor": 5
}
