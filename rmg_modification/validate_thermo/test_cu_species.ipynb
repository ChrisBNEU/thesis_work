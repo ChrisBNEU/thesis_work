{
 "cells": [
  {
   "cell_type": "code",
   "execution_count": 1,
   "id": "5fc3fa26-023d-4290-b654-5b4b3f727b37",
   "metadata": {},
   "outputs": [
    {
     "name": "stdout",
     "output_type": "stream",
     "text": [
      "/work/westgroup/ChrisB/miniconda3/envs/rmg_thesis/bin/python\n",
      "/work/westgroup/ChrisB/_04_thesis/rmg_thesis/RMG-Py/rmg.py\n"
     ]
    }
   ],
   "source": [
    "!which python\n",
    "!echo $RMG"
   ]
  },
  {
   "cell_type": "code",
   "execution_count": 1,
   "id": "ae6c2967-1f79-424f-ac1f-88b2fb148cf0",
   "metadata": {},
   "outputs": [],
   "source": [
    "# load the 111 mechanism, 211 platinum mechanism, and 211 Nickel mechanism\n",
    "import sys\n",
    "\n",
    "import os\n",
    "import shutil\n",
    "import sys\n",
    "import itertools\n",
    "import cantera as ct\n",
    "\n",
    "from rmgpy.chemkin import load_chemkin_file\n",
    "from rmgpy.data.surface import MetalPropertyLibrary, SitePropertyLibrary, MetalPropertyDatabase, SitePropertyDatabase\n",
    "from rmgpy.data.thermo import ThermoDatabase\n",
    "ev_2_j_kmol = 1000*1000*96.485"
   ]
  },
  {
   "cell_type": "code",
   "execution_count": null,
   "id": "d48793d8-7e03-40fb-b0fd-1555c2f79fef",
   "metadata": {},
   "outputs": [],
   "source": [
    "from pyrms import rms"
   ]
  },
  {
   "cell_type": "code",
   "execution_count": 2,
   "id": "022e91d3-2567-44b6-bcd6-f0534a979f34",
   "metadata": {},
   "outputs": [],
   "source": [
    "meoh_res_folder = \"/work/westgroup/ChrisB/_01_MeOH_repos/00_thesis_data/peuqse_runs/\"\n",
    "\n",
    "path_111 = os.path.join(meoh_res_folder, \"peuqse_methanol_12Aug_surfarea/rmg_model/\")\n",
    "path_211_ni = os.path.join(meoh_res_folder, \"rmg_211_model/14Aug2024_methanol_211_fromNi/\")\n",
    "path_211_pt = os.path.join(meoh_res_folder, \"rmg_211_model/08Aug25_from_Pt111/\")"
   ]
  },
  {
   "cell_type": "code",
   "execution_count": 3,
   "id": "35ad0240-2e90-46fc-909d-32f66f592def",
   "metadata": {},
   "outputs": [],
   "source": [
    "#load the thermodynamics database\n",
    "thermoDatabase = ThermoDatabase()\n",
    "libraries = ['surfaceThermoPt111']\n",
    "if sys.platform == \"darwin\":\n",
    "    thermoDatabase.load(path=\"/Users/blais.ch/Documents/_01_code/RMG_env_1/RMG-database/input/thermo\", libraries = libraries)\n",
    "else: \n",
    "    thermoDatabase.load(path='/work/westgroup/ChrisB/_04_thesis/rmg_thesis/RMG-database/input/thermo', libraries = libraries)\n",
    "    \n",
    "thermoDatabase.load_surface()"
   ]
  },
  {
   "cell_type": "code",
   "execution_count": null,
   "id": "35c82431-9703-4e88-82a5-b81b1bcff2e9",
   "metadata": {},
   "outputs": [
    {
     "data": {
      "image/png": "[encoded data removed]",
      "text/plain": [
       "Species(index=14, label=\"CO*\", thermo=NASA(polynomials=[NASAPolynomial(coeffs=[-1.26997,0.0329366,-6.79007e-05,6.38176e-08,-2.20528e-11,-22302.2,3.62111], Tmin=(100,'K'), Tmax=(883.23,'K')), NASAPolynomial(coeffs=[2.03676,0.00654307,-3.68515e-06,7.11035e-10,-4.75858e-14,-22440.9,-9.40017], Tmin=(883.23,'K'), Tmax=(5000,'K'))], Tmin=(100,'K'), Tmax=(5000,'K'), comment=\"\"\"Thermo library: surfaceThermoPt111 Binding energy corrected by LSR (0.50C) from Pt111\"\"\"), molecule=[Molecule(smiles=\"O=C=[Pt]\")], molecular_weight=(28.01,'amu'))"
      ]
     },
     "metadata": {},
     "output_type": "display_data"
    }
   ],
   "source": [
    "# load a species\n",
    "# test the function. load model each time \n",
    "chemkin_path = os.path.join(path_111, \"chemkin\", 'chem_annotated-gas.inp')\n",
    "chemkin_surf_path = os.path.join(path_111, \"chemkin\", 'chem_annotated-surface.inp')\n",
    "dictionary_path = os.path.join(path_111, \"chemkin\", 'species_dictionary.txt')\n",
    "\n",
    "# load_chemkin_file\n",
    "species, reactions = load_chemkin_file(chemkin_surf_path, dictionary_path)\n",
    "# identify a surface species to use for testing\n",
    "surf_species = species[5]\n",
    "surf_species.generate_resonance_structures()\n",
    "display(surf_species)\n",
    "spec_thermo = surf_species.thermo.to_thermo_data()\n",
    "surf_species.thermo = spec_thermo\n",
    "thermo_list = thermoDatabase.get_all_thermo_data(surf_species)\n",
    "E_ad_old = (spec_thermo.H298.value_si)/9.68e4\n",
    "\n",
    "# new_thermo = thermoDatabase.correct_binding_energies_extended(spec_thermo, surf_species, metal_to_scale_from='Pt',\n",
    "#                                        metal_to_scale_to='Rh', facet_to_scale_from='111', facet_to_scale_to='211')\n",
    "# print(\"old E_ad = \", E_ad_old)"
   ]
  },
  {
   "cell_type": "code",
   "execution_count": null,
   "id": "5b6908f2-df28-4748-a03c-2f758709c701",
   "metadata": {},
   "outputs": [],
   "source": []
  }
 ],
 "metadata": {
  "kernelspec": {
   "display_name": "rmg_thesis",
   "language": "python",
   "name": "rmg_thesis"
  },
  "language_info": {
   "codemirror_mode": {
    "name": "ipython",
    "version": 3
   },
   "file_extension": ".py",
   "mimetype": "text/x-python",
   "name": "python",
   "nbconvert_exporter": "python",
   "pygments_lexer": "ipython3",
   "version": "3.7.12"
  }
 },
 "nbformat": 4,
 "nbformat_minor": 5
}
