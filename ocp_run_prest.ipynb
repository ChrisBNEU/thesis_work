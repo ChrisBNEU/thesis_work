{
 "cells": [
  {
   "cell_type": "markdown",
   "id": "dde0aa22-a38e-4e49-90cb-2466f056bd88",
   "metadata": {},
   "source": [
    "# Scaling relations on different surfaces\n",
    "The goal of this notebook is to try scaling different molecules to different surfaces using various scaling relations from literature. "
   ]
  },
  {
   "cell_type": "code",
   "execution_count": 2,
   "id": "d6babea5-b9b5-4213-815f-307f7238109d",
   "metadata": {
    "tags": []
   },
   "outputs": [],
   "source": [
    "# from rmgpy.data.surface import MetalDatabase\n",
    "import pickle\n",
    "import yaml\n",
    "import matplotlib.pyplot as plt\n",
    "%matplotlib inline"
   ]
  },
  {
   "cell_type": "code",
   "execution_count": null,
   "id": "5e6ccfd4-80c0-4849-8bcb-bf723296cd12",
   "metadata": {
    "tags": []
   },
   "outputs": [],
   "source": [
    "# load the RMG metal database and binding energies for platinum"
   ]
  },
  {
   "cell_type": "code",
   "execution_count": null,
   "id": "8563eebd-e093-4b48-a55c-fb3714d55385",
   "metadata": {},
   "outputs": [],
   "source": [
    "# mdb = MetalDatabase()\n",
    "# mdb_path = \"/home/blais.ch/_02_RMG_envs/RMG_julia_env/RMG-database/input/surface\"\n",
    "# mdb.load(mdb_path)\n",
    "# pt_bes = mdb.get_binding_energies(\"Pt111\")"
   ]
  },
  {
   "cell_type": "code",
   "execution_count": 3,
   "id": "de4906d2-8046-4792-973b-66864a43cb57",
   "metadata": {
    "tags": []
   },
   "outputs": [
    {
     "name": "stdout",
     "output_type": "stream",
     "text": [
      "172 metal species found for metal Pt\n",
      "114 metal species found for metal Cu\n",
      "101 metal species found for metal Ni\n",
      "287 metal species found for metal Ru\n",
      "260 metal species found for metal Rh\n",
      "225 metal species found for metal Ir\n",
      "159 metal species found for metal Au\n",
      "197 metal species found for metal Pd\n",
      "187 metal species found for metal Ag\n",
      "66 metal species found for metal Co\n"
     ]
    }
   ],
   "source": [
    "oc20_path = \"/work/westgroup/opencatalyst/\"\n",
    "data_dict = pickle.load(open(f\"{oc20_path}oc20_data_mapping.pkl\",\"rb\"))\n",
    "energy_dict = pickle.load(open(f\"{oc20_path}oc20_ref.pkl\",\"rb\"))\n",
    "mat_proj_id = {\n",
    "    \"Pt\":'mp-126', # fcc\n",
    "    \"Cu\":'mp-30',  # fcc\n",
    "    \"Ni\":'mp-23', # fcc\n",
    "    \"Ru\":'mp-33', # hcp\n",
    "    \"Rh\":'mp-74', # fcc\n",
    "    \"Ir\":'mp-101', # fcc\n",
    "    \"Au\":'mp-81', # fcc\n",
    "    \"Pd\":'mp-2', # fcc\n",
    "    \"Ag\":'mp-124', # fcc\n",
    "    \"Co\":'mp-102', # hcp\n",
    "}\n",
    "metal_sids = {}\n",
    "for metal, mpid in mat_proj_id.items():\n",
    "    count = 0\n",
    "    for key, value_dict in data_dict.items():\n",
    "        if value_dict['bulk_mpid'] == mpid:\n",
    "            count +=1\n",
    "            # print(key, value_dict['ads_symbols'], value_dict['ads_id'], value_dict['miller_index'], )\n",
    "            # make dictionary of the symbols (e.g. *CH3) miller indices and metal with the \"randomXXXXXXX\" ID tag\n",
    "            metal_sids.update({int(key.replace('random','')):(value_dict['ads_symbols'], value_dict['miller_index'], metal)})\n",
    "    print(f\"{count} metal species found for metal {metal}\")"
   ]
  },
  {
   "cell_type": "markdown",
   "id": "e19babf9-70de-4af2-bb4c-fc854a7df1b9",
   "metadata": {},
   "source": [
    "# 0. extract information we will need to scale"
   ]
  },
  {
   "cell_type": "code",
   "execution_count": 4,
   "id": "a73259ae-4949-491f-b672-a7e261358cc0",
   "metadata": {},
   "outputs": [],
   "source": [
    "# load the pickles and yamls that we need \n",
    "with open('metal_species.pkl', 'rb') as f:\n",
    "    metal_dict_train = pickle.load(f)\n",
    "    \n",
    "with open('metal_species_vt.pkl', 'rb') as f:\n",
    "    metal_dict_val = pickle.load(f)\n",
    "\n",
    "with open('metal_species_10_100k.pkl', 'rb') as f:\n",
    "    metal_dict_10_100k = pickle.load(f)\n",
    "    \n",
    "metal_dict = {**metal_dict_train, **metal_dict_val, **metal_dict_10_100k}\n",
    "\n",
    "# apparently some didn't save properly, so adding in ads symbol, miller index, and metal \n",
    "for key, data in metal_dict.items():\n",
    "    data[\"ads_symbol\"] = metal_sids[key][0]\n",
    "    data[\"miller_index\"] = metal_sids[key][1]\n",
    "    data[\"metal\"] = metal_sids[key][2]"
   ]
  },
  {
   "cell_type": "markdown",
   "id": "7a2ea5d6-1849-4e4f-982e-f5c3f39cd5a5",
   "metadata": {},
   "source": [
    "### add field for \"metal\" and \"species name\" to the xx111_dicts"
   ]
  },
  {
   "cell_type": "code",
   "execution_count": 5,
   "id": "144175d9-c4b2-45f2-af40-1bbe15a29bab",
   "metadata": {},
   "outputs": [],
   "source": [
    "# generate expressions for metal+facet for easier viewing\n",
    "unique_species = {}\n",
    "for value in metal_sids.values():\n",
    "    # expression for metal and facet, e.g. Pt111\n",
    "    met_an_facet = value[2] + ''.join(map(str, value[1]))\n",
    "    \n",
    "    if value[0] not in unique_species.keys():\n",
    "        unique_species[value[0]] = [met_an_facet]\n",
    "    else: \n",
    "        unique_species[value[0]].append(met_an_facet)\n",
    "    "
   ]
  },
  {
   "cell_type": "markdown",
   "id": "eca4ba00-e50d-40d4-a6e9-7d9ed1d46011",
   "metadata": {},
   "source": [
    "### get \"top ten\" species (i.e .species with most entries) hopefully this will be enough"
   ]
  },
  {
   "cell_type": "code",
   "execution_count": 6,
   "id": "b25f4d54-4744-45d9-aad9-33a24709ba2c",
   "metadata": {
    "tags": []
   },
   "outputs": [],
   "source": [
    "sort_unique_species = {k: v for k, v in sorted(unique_species.items(), key=lambda item: len(item[1]), reverse = True)}"
   ]
  },
  {
   "cell_type": "code",
   "execution_count": 7,
   "id": "0b6fb273-edf9-4d91-b7fd-32e19324cb2e",
   "metadata": {
    "tags": []
   },
   "outputs": [],
   "source": [
    "# get all instances of a certain species\n",
    "\n",
    "spec_list = [\n",
    "    \"*COH\",\n",
    "    \"*CO\",\n",
    "    \"*NO\",\n",
    "    \"CH2*CO\",\n",
    "    \"*C\",\n",
    "    \"*N\",\n",
    "    \"*N2\",\n",
    "    \"*O,\"\n",
    "    \"*CH2\",\n",
    "    \"*NH\",\n",
    "    \"*ONOH\",\n",
    "    \"*OH,\"\n",
    "    \"*CCH\",\n",
    "    \"*CH2CH2OH\",\n",
    "]"
   ]
  },
  {
   "cell_type": "code",
   "execution_count": 8,
   "id": "ba1367da-3847-47a7-8c5b-645efad50bfd",
   "metadata": {
    "collapsed": true,
    "jupyter": {
     "outputs_hidden": true
    },
    "tags": []
   },
   "outputs": [
    {
     "name": "stdout",
     "output_type": "stream",
     "text": [
      "Cu (1, 1, 1) *CO\n",
      "Pt (1, 0, 0) *CO\n",
      "Pd (2, 1, 0) *COHCH2\n",
      "Au (2, 1, 1) *NNCH3\n",
      "Ni (2, 1, 0) *CH2*CH2\n",
      "Ni (1, 0, 0) *OCHCH2\n",
      "Ru (2, 1, 0) *NNCH3\n",
      "Rh (1, 1, 0) *NH2NH2\n",
      "Cu (2, 1, 0) *OCHCH2\n",
      "Ru (2, 1, 0) *CO\n",
      "Pt (1, 1, 0) *ONNO2\n",
      "Ni (1, 0, 0) *ONNO2\n",
      "Ru (1, 0, 0) *CO\n",
      "Ag (2, 1, 1) *NNCH3\n",
      "Pd (2, 1, 0) *CO\n",
      "Ru (1, 1, 0) *NH2NH2\n",
      "Ag (1, 1, 0) *OCHCH2\n",
      "Ir (1, 1, 0) *NH2NH2\n",
      "Ni (1, 0, 0) *OCHCH2\n",
      "Pd (1, 0, 0) *CO\n",
      "Pd (1, 1, 1) *CO\n",
      "Ir (1, 1, 1) *CO\n",
      "Pd (1, 0, 0) *CH2*CH2\n",
      "Au (2, 1, 1) *NH2NH2\n",
      "Pd (2, 2, 1) *ONNO2\n",
      "Au (1, 0, 0) *NNCH3\n",
      "Ir (1, 1, 0) *NH2NH2\n",
      "Rh (1, 1, 0) *NNCH3\n",
      "Ni (1, 0, 0) *ONNO2\n",
      "Pd (1, 1, 0) *CO\n",
      "Rh (2, 1, 0) *CH2*CH2\n",
      "Pd (2, 1, 0) *OCHCH2\n",
      "Ni (1, 0, 0) *COHCH2\n",
      "Ru (2, 0, 1) *COHCH2\n",
      "Ir (2, 1, 0) *NNCH3\n",
      "Ir (1, 1, 1) *COHCH2\n",
      "Pt (2, 2, 1) *CO\n",
      "Pd (2, 2, 1) *CH2*CH2\n",
      "Pt (1, 1, 1) *CO\n",
      "Au (2, 1, 1) *CH2*CH2\n",
      "Rh (2, 1, 0) *CH2*CH2\n",
      "Ru (1, 1, 0) *NNCH3\n",
      "Pd (2, 2, 1) *NH2NH2\n",
      "Pd (2, 2, 1) *NNCH3\n",
      "Ni (1, 0, 0) *COHCH2\n",
      "Ru (2, 1, 2) *OCHCH2\n",
      "Au (2, 2, 1) *NH2NH2\n",
      "Ru (2, 1, 0) *CO\n",
      "Ir (2, 1, 0) *COHCH2\n",
      "Pd (1, 0, 0) *CO\n",
      "Ir (1, 1, 0) *CO\n",
      "Ag (2, 2, 1) *OCHCH2\n",
      "Ru (2, 1, 1) *CO\n",
      "Ru (1, 0, 0) *CO\n",
      "Pt (2, 2, 1) *NH2NH2\n",
      "Pt (1, 1, 0) *OCHCH2\n",
      "Pd (1, 1, 0) *ONNO2\n",
      "Ag (2, 1, 1) *OCHCH2\n",
      "Ag (2, 2, 1) *COHCH2\n",
      "Ru (1, 1, 0) *ONNO2\n",
      "Ru (2, 1, 1) *COHCH2\n",
      "Au (2, 2, 1) *ONNO2\n",
      "Pd (1, 1, 1) *CO\n",
      "63 1271\n"
     ]
    }
   ],
   "source": [
    "# pare down list with \n",
    "count = 0\n",
    "metal_dict_bes = {}\n",
    "for idx, value in metal_dict.items():\n",
    "    if not \"y_relaxed\" in value.keys():\n",
    "        print(value[\"metal\"], value[\"miller_index\"], value[\"ads_symbol\"])\n",
    "        count+=1\n",
    "    else: \n",
    "        metal_dict_bes[idx] = value\n",
    "\n",
    "print(count, len(metal_dict))"
   ]
  },
  {
   "cell_type": "code",
   "execution_count": 9,
   "id": "65d5ef28-b206-4f81-a053-cf3f8074c251",
   "metadata": {},
   "outputs": [
    {
     "name": "stdout",
     "output_type": "stream",
     "text": [
      "oxygen atom energy:  4.60 eV\n"
     ]
    }
   ],
   "source": [
    "from ase import Atoms\n",
    "from ase.calculators.emt import EMT\n",
    "\n",
    "atom = Atoms('O')\n",
    "atom.calc = EMT()\n",
    "e_atom = atom.get_potential_energy()\n",
    "\n",
    "print('oxygen atom energy: %5.2f eV' % e_atom)\n"
   ]
  },
  {
   "cell_type": "code",
   "execution_count": 28,
   "id": "58aa5826-d19b-4431-a916-5641dd02fa47",
   "metadata": {},
   "outputs": [
    {
     "data": {
      "text/plain": [
       "{'Rh': 0.6538820899999678, 'Cu': 0.9732009100000028, 'Pd': 1.2600271199999895}"
      ]
     },
     "execution_count": 28,
     "metadata": {},
     "output_type": "execute_result"
    }
   ],
   "source": [
    "bind_en_a"
   ]
  },
  {
   "cell_type": "code",
   "execution_count": 27,
   "id": "5f30007b-dfd8-4360-9ae3-cee1441dcdc9",
   "metadata": {},
   "outputs": [
    {
     "data": {
      "text/plain": [
       "['Rh', 'Cu', 'Pd']"
      ]
     },
     "execution_count": 27,
     "metadata": {},
     "output_type": "execute_result"
    }
   ],
   "source": [
    "label"
   ]
  },
  {
   "cell_type": "code",
   "execution_count": 25,
   "id": "bf5808fe-cca9-4e62-a124-4c577490a4aa",
   "metadata": {},
   "outputs": [
    {
     "data": {
      "text/plain": [
       "[0.6538820899999678, 0.9732009100000028, 1.2600271199999895]"
      ]
     },
     "execution_count": 25,
     "metadata": {},
     "output_type": "execute_result"
    }
   ],
   "source": [
    "x"
   ]
  },
  {
   "cell_type": "code",
   "execution_count": 24,
   "id": "f8607faa-8c90-458a-ab57-f54068e37996",
   "metadata": {},
   "outputs": [
    {
     "data": {
      "text/plain": [
       "[0.4479157200000259, 0.2670409400000153, 0.9959524199999805]"
      ]
     },
     "execution_count": 24,
     "metadata": {},
     "output_type": "execute_result"
    }
   ],
   "source": [
    "y"
   ]
  },
  {
   "cell_type": "code",
   "execution_count": 31,
   "id": "d6af7b3a-7426-4b2d-86d9-615f91e46ea9",
   "metadata": {},
   "outputs": [
    {
     "data": {
      "text/plain": [
       "LinregressResult(slope=0.8764756477386435, intercept=-0.8414028979088184, rvalue=0.7001959861172442, pvalue=0.5061918876680812, stderr=0.8936931969755021, intercept_stderr=3.258445800773025)"
      ]
     },
     "execution_count": 31,
     "metadata": {},
     "output_type": "execute_result"
    },
    {
     "data": {
      "image/png": "[encoded data removed]",
      "text/plain": [
       "<Figure size 432x288 with 1 Axes>"
      ]
     },
     "metadata": {
      "needs_background": "light"
     },
     "output_type": "display_data"
    }
   ],
   "source": [
    "# def plot_bes(metal_dict, facet, ads_symbol):\n",
    "\n",
    "facet = (1,1,1)\n",
    "ads_symbol = \"*O\"\n",
    "bind_en_a = {}\n",
    "for idx, value in metal_dict_bes.items():\n",
    "    if value[\"miller_index\"] == facet and value[\"ads_symbol\"] == ads_symbol:\n",
    "        # print(idx, value[\"ads_symbol\"], value[\"metal\"], value[\"miller_index\"], value[\"y_relaxed\"], value[\"y_init\"])\n",
    "        bind_en_a[value[\"metal\"]]= value[\"y_relaxed\"] - e_atom\n",
    "\n",
    "ads_symbol = \"*OH\"\n",
    "bind_en_ah = {}\n",
    "for idx, value in metal_dict_bes.items():\n",
    "    if value[\"miller_index\"] == facet and value[\"ads_symbol\"] == ads_symbol and \"y_relaxed\" in value.keys():\n",
    "        # print(idx, value[\"ads_symbol\"], value[\"metal\"], value[\"miller_index\"], value[\"y_relaxed\"], value[\"y_init\"])\n",
    "        bind_en_ah[value[\"metal\"]]= value[\"y_relaxed\"] - e_atom\n",
    "\n",
    "x = []\n",
    "y = []\n",
    "label = []\n",
    "for metal in bind_en_a.keys():\n",
    "    if metal in bind_en_a.keys() and metal in bind_en_ah.keys():\n",
    "        x.append(bind_en_a[metal])\n",
    "        y.append(bind_en_ah[metal])\n",
    "        label.append(metal)\n",
    "\n",
    "plt.scatter(x,y)\n",
    "\n",
    "# label points with the corresponding metal\n",
    "for num, _ in enumerate(x):\n",
    "\n",
    "    point_label = label[num]\n",
    "\n",
    "    plt.annotate(point_label, # this is the text\n",
    "                 (x[num],y[num]), # these are the coordinates to position the label\n",
    "                 textcoords=\"offset points\", # how to position the text\n",
    "                 xytext=(0,10), # distance from text to points (x,y)\n",
    "                 ha='center') # horizontal alignment can be left, right or center\n",
    "    \n",
    "from scipy.stats import linregress\n",
    "linregress(x, y)"
   ]
  },
  {
   "cell_type": "code",
   "execution_count": 63,
   "id": "bdb5a1f0-9c30-4b5d-8265-0a1d55635e44",
   "metadata": {
    "tags": []
   },
   "outputs": [
    {
     "data": {
      "text/plain": [
       "tensor([[-5.2835e-08,  1.5012e+00,  1.3799e+01],\n",
       "        [-1.3000e+00,  2.2517e+00,  1.8045e+01],\n",
       "        [ 1.3000e+00,  7.5058e-01,  1.5922e+01],\n",
       "        [-5.2835e-08,  1.5012e+00,  2.0168e+01],\n",
       "        [-1.2994e+00,  2.2678e+00,  2.4383e+01],\n",
       "        [ 1.3000e+00,  7.5058e-01,  2.2291e+01],\n",
       "        [-1.3000e+00,  3.7529e+00,  1.3799e+01],\n",
       "        [-2.6001e+00,  4.5035e+00,  1.8045e+01],\n",
       "        [ 5.0335e-08,  3.0023e+00,  1.5922e+01],\n",
       "        [-1.3000e+00,  3.7529e+00,  2.0168e+01],\n",
       "        [ 7.8003e+00,  4.5035e+00,  2.4403e+01],\n",
       "        [ 5.0335e-08,  3.0023e+00,  2.2291e+01],\n",
       "        [-2.6001e+00,  6.0047e+00,  1.3799e+01],\n",
       "        [-3.9001e+00,  6.7552e+00,  1.8045e+01],\n",
       "        [-1.3000e+00,  5.2541e+00,  1.5922e+01],\n",
       "        [-2.6001e+00,  6.0047e+00,  2.0168e+01],\n",
       "        [-3.8859e+00,  6.7478e+00,  2.4383e+01],\n",
       "        [-1.3000e+00,  5.2541e+00,  2.2291e+01],\n",
       "        [-3.9001e+00,  8.2564e+00,  1.3799e+01],\n",
       "        [ 0.0000e+00,  0.0000e+00,  1.8045e+01],\n",
       "        [-2.6001e+00,  7.5058e+00,  1.5922e+01],\n",
       "        [-3.9001e+00,  8.2564e+00,  2.0168e+01],\n",
       "        [ 4.8879e-02,  2.8320e-02,  2.4372e+01],\n",
       "        [-2.6001e+00,  7.5058e+00,  2.2291e+01],\n",
       "        [ 2.6001e+00,  1.5012e+00,  1.3799e+01],\n",
       "        [ 1.3000e+00,  2.2517e+00,  1.8045e+01],\n",
       "        [ 3.9001e+00,  7.5058e-01,  1.5922e+01],\n",
       "        [ 2.6001e+00,  1.5012e+00,  2.0168e+01],\n",
       "        [ 1.2973e+00,  2.2534e+00,  2.4402e+01],\n",
       "        [ 3.9001e+00,  7.5058e-01,  2.2291e+01],\n",
       "        [ 1.3000e+00,  3.7529e+00,  1.3799e+01],\n",
       "        [-2.5000e-09,  4.5035e+00,  1.8045e+01],\n",
       "        [ 2.6001e+00,  3.0023e+00,  1.5922e+01],\n",
       "        [ 1.3000e+00,  3.7529e+00,  2.0168e+01],\n",
       "        [-1.3572e-02,  4.4949e+00,  2.4383e+01],\n",
       "        [ 2.6001e+00,  3.0023e+00,  2.2291e+01],\n",
       "        [-5.5335e-08,  6.0047e+00,  1.3799e+01],\n",
       "        [-1.3000e+00,  6.7552e+00,  1.8045e+01],\n",
       "        [ 1.3000e+00,  5.2541e+00,  1.5922e+01],\n",
       "        [-5.5335e-08,  6.0047e+00,  2.0168e+01],\n",
       "        [-1.3143e+00,  6.7477e+00,  2.4383e+01],\n",
       "        [ 1.3000e+00,  5.2541e+00,  2.2291e+01],\n",
       "        [-1.3000e+00,  8.2564e+00,  1.3799e+01],\n",
       "        [ 2.6001e+00,  0.0000e+00,  1.8045e+01],\n",
       "        [ 4.7835e-08,  7.5058e+00,  1.5922e+01],\n",
       "        [-1.3000e+00,  8.2564e+00,  2.0168e+01],\n",
       "        [-2.6001e+00,  9.0038e+00,  2.4402e+01],\n",
       "        [ 4.7835e-08,  7.5058e+00,  2.2291e+01],\n",
       "        [ 5.2002e+00,  1.5012e+00,  1.3799e+01],\n",
       "        [ 3.9001e+00,  2.2517e+00,  1.8045e+01],\n",
       "        [ 6.5002e+00,  7.5058e-01,  1.5922e+01],\n",
       "        [ 5.2002e+00,  1.5012e+00,  2.0168e+01],\n",
       "        [ 3.9029e+00,  2.2534e+00,  2.4402e+01],\n",
       "        [ 6.5002e+00,  7.5058e-01,  2.2291e+01],\n",
       "        [ 3.9001e+00,  3.7529e+00,  1.3799e+01],\n",
       "        [ 2.6001e+00,  4.5035e+00,  1.8045e+01],\n",
       "        [ 5.2002e+00,  3.0023e+00,  1.5922e+01],\n",
       "        [ 3.9001e+00,  3.7529e+00,  2.0168e+01],\n",
       "        [ 2.6000e+00,  4.4470e+00,  2.4372e+01],\n",
       "        [ 5.2002e+00,  3.0023e+00,  2.2291e+01],\n",
       "        [ 2.6001e+00,  6.0047e+00,  1.3799e+01],\n",
       "        [ 1.3000e+00,  6.7552e+00,  1.8045e+01],\n",
       "        [ 3.9001e+00,  5.2541e+00,  1.5922e+01],\n",
       "        [ 2.6001e+00,  6.0047e+00,  2.0168e+01],\n",
       "        [ 1.2327e+00,  6.7161e+00,  2.4491e+01],\n",
       "        [ 3.9001e+00,  5.2541e+00,  2.2291e+01],\n",
       "        [ 1.3000e+00,  8.2564e+00,  1.3799e+01],\n",
       "        [ 5.2002e+00,  0.0000e+00,  1.8045e+01],\n",
       "        [ 2.6001e+00,  7.5058e+00,  1.5922e+01],\n",
       "        [ 1.3000e+00,  8.2564e+00,  2.0168e+01],\n",
       "        [ 5.1514e+00,  2.8201e-02,  2.4372e+01],\n",
       "        [ 2.6001e+00,  7.5058e+00,  2.2291e+01],\n",
       "        [ 7.8003e+00,  1.5012e+00,  1.3799e+01],\n",
       "        [ 6.5002e+00,  2.2517e+00,  1.8045e+01],\n",
       "        [ 9.1003e+00,  7.5058e-01,  1.5922e+01],\n",
       "        [ 7.8003e+00,  1.5012e+00,  2.0168e+01],\n",
       "        [ 6.4996e+00,  2.2679e+00,  2.4383e+01],\n",
       "        [ 9.1003e+00,  7.5058e-01,  2.2291e+01],\n",
       "        [ 6.5002e+00,  3.7529e+00,  1.3799e+01],\n",
       "        [ 5.2002e+00,  4.5035e+00,  1.8045e+01],\n",
       "        [ 7.8003e+00,  3.0023e+00,  1.5922e+01],\n",
       "        [ 6.5002e+00,  3.7529e+00,  2.0168e+01],\n",
       "        [ 5.2138e+00,  4.4949e+00,  2.4383e+01],\n",
       "        [ 7.8003e+00,  3.0023e+00,  2.2291e+01],\n",
       "        [ 5.2002e+00,  6.0047e+00,  1.3799e+01],\n",
       "        [ 3.9001e+00,  6.7552e+00,  1.8045e+01],\n",
       "        [ 6.5002e+00,  5.2541e+00,  1.5922e+01],\n",
       "        [ 5.2002e+00,  6.0047e+00,  2.0168e+01],\n",
       "        [ 3.9674e+00,  6.7164e+00,  2.4491e+01],\n",
       "        [ 6.5002e+00,  5.2541e+00,  2.2291e+01],\n",
       "        [ 3.9001e+00,  8.2564e+00,  1.3799e+01],\n",
       "        [ 7.8003e+00,  0.0000e+00,  1.8045e+01],\n",
       "        [ 5.2002e+00,  7.5058e+00,  1.5922e+01],\n",
       "        [ 3.9001e+00,  8.2564e+00,  2.0168e+01],\n",
       "        [ 7.8005e+00,  7.7830e-02,  2.4491e+01],\n",
       "        [ 5.2002e+00,  7.5058e+00,  2.2291e+01],\n",
       "        [ 2.5999e+00,  7.5059e+00,  2.5579e+01]])"
      ]
     },
     "execution_count": 63,
     "metadata": {},
     "output_type": "execute_result"
    }
   ],
   "source": [
    "metal_dict[1846594][\"pos_relaxed\"]"
   ]
  },
  {
   "cell_type": "markdown",
   "id": "9d7d5e46-49ab-48ff-b89e-3635fce90662",
   "metadata": {},
   "source": [
    "# 2. coordination number scaling\n",
    "scale on top CO2 to another facet using coordination number scaling ("
   ]
  },
  {
   "cell_type": "code",
   "execution_count": null,
   "id": "cb219eeb-f9f0-41ef-8a55-7373d9b2912c",
   "metadata": {},
   "outputs": [],
   "source": []
  },
  {
   "cell_type": "markdown",
   "id": "3ed79ddb-90f3-4c27-8616-334c12a1aa6c",
   "metadata": {},
   "source": [
    "# metal atom binding energy scaling\n",
    "scale on top CO2 to another facet usinng metal atom binnding energy scaling"
   ]
  },
  {
   "cell_type": "code",
   "execution_count": null,
   "id": "3cde4173-9ce3-4247-b7bd-f98a325d4d0e",
   "metadata": {},
   "outputs": [],
   "source": []
  }
 ],
 "metadata": {
  "kernelspec": {
   "display_name": "ocp-models",
   "language": "python",
   "name": "ocp-models"
  },
  "language_info": {
   "codemirror_mode": {
    "name": "ipython",
    "version": 3
   },
   "file_extension": ".py",
   "mimetype": "text/x-python",
   "name": "python",
   "nbconvert_exporter": "python",
   "pygments_lexer": "ipython3",
   "version": "3.9.13"
  }
 },
 "nbformat": 4,
 "nbformat_minor": 5
}
