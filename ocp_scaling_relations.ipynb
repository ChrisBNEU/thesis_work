{
 "cells": [
  {
   "cell_type": "markdown",
   "id": "dde0aa22-a38e-4e49-90cb-2466f056bd88",
   "metadata": {},
   "source": [
    "# Scaling relations on different surfaces\n",
    "The goal of this notebook is to try scaling different molecules to different surfaces using various scaling relations from literature. "
   ]
  },
  {
   "cell_type": "code",
   "execution_count": 80,
   "id": "d6babea5-b9b5-4213-815f-307f7238109d",
   "metadata": {
    "tags": []
   },
   "outputs": [],
   "source": [
    "# from rmgpy.data.surface import MetalDatabase\n",
    "import pickle\n",
    "import yaml\n",
    "import logging\n",
    "\n",
    "from ase import Atoms\n",
    "from ase.calculators.emt import EMT\n",
    "from ase.optimize import BFGS\n",
    "from ase.visualize import view\n",
    "from ase.visualize.plot import plot_atoms\n",
    "\n",
    "import numpy as np \n",
    "import matplotlib.pyplot as plt\n",
    "%matplotlib inline\n",
    "\n",
    "from scipy.stats import linregress"
   ]
  },
  {
   "cell_type": "code",
   "execution_count": 3,
   "id": "5e6ccfd4-80c0-4849-8bcb-bf723296cd12",
   "metadata": {
    "tags": []
   },
   "outputs": [],
   "source": [
    "# load the RMG metal database and binding energies for platinum"
   ]
  },
  {
   "cell_type": "code",
   "execution_count": 4,
   "id": "8563eebd-e093-4b48-a55c-fb3714d55385",
   "metadata": {},
   "outputs": [],
   "source": [
    "# mdb = MetalDatabase()\n",
    "# mdb_path = \"/home/blais.ch/_02_RMG_envs/RMG_julia_env/RMG-database/input/surface\"\n",
    "# mdb.load(mdb_path)\n",
    "# pt_bes = mdb.get_binding_energies(\"Pt111\")"
   ]
  },
  {
   "cell_type": "code",
   "execution_count": 5,
   "id": "de4906d2-8046-4792-973b-66864a43cb57",
   "metadata": {
    "tags": []
   },
   "outputs": [
    {
     "name": "stdout",
     "output_type": "stream",
     "text": [
      "172 metal species found for metal Pt\n",
      "114 metal species found for metal Cu\n",
      "101 metal species found for metal Ni\n",
      "287 metal species found for metal Ru\n",
      "260 metal species found for metal Rh\n",
      "225 metal species found for metal Ir\n",
      "159 metal species found for metal Au\n",
      "197 metal species found for metal Pd\n",
      "187 metal species found for metal Ag\n",
      "66 metal species found for metal Co\n"
     ]
    }
   ],
   "source": [
    "oc20_path = \"/work/westgroup/opencatalyst/\"\n",
    "data_dict = pickle.load(open(f\"{oc20_path}oc20_data_mapping.pkl\",\"rb\"))\n",
    "energy_dict = pickle.load(open(f\"{oc20_path}oc20_ref.pkl\",\"rb\"))\n",
    "mat_proj_id = {\n",
    "    \"Pt\":'mp-126', # fcc\n",
    "    \"Cu\":'mp-30',  # fcc\n",
    "    \"Ni\":'mp-23', # fcc\n",
    "    \"Ru\":'mp-33', # hcp\n",
    "    \"Rh\":'mp-74', # fcc\n",
    "    \"Ir\":'mp-101', # fcc\n",
    "    \"Au\":'mp-81', # fcc\n",
    "    \"Pd\":'mp-2', # fcc\n",
    "    \"Ag\":'mp-124', # fcc\n",
    "    \"Co\":'mp-102', # hcp\n",
    "}\n",
    "metal_sids = {}\n",
    "for metal, mpid in mat_proj_id.items():\n",
    "    count = 0\n",
    "    for key, value_dict in data_dict.items():\n",
    "        if value_dict['bulk_mpid'] == mpid:\n",
    "            count +=1\n",
    "            # print(key, value_dict['ads_symbols'], value_dict['ads_id'], value_dict['miller_index'], )\n",
    "            # make dictionary of the symbols (e.g. *CH3) miller indices and metal with the \"randomXXXXXXX\" ID tag\n",
    "            metal_sids.update({int(key.replace('random','')):(value_dict['ads_symbols'], value_dict['miller_index'], metal)})\n",
    "    print(f\"{count} metal species found for metal {metal}\")"
   ]
  },
  {
   "cell_type": "markdown",
   "id": "e19babf9-70de-4af2-bb4c-fc854a7df1b9",
   "metadata": {},
   "source": [
    "# 0. extract information we will need to scale"
   ]
  },
  {
   "cell_type": "code",
   "execution_count": 6,
   "id": "a73259ae-4949-491f-b672-a7e261358cc0",
   "metadata": {},
   "outputs": [],
   "source": [
    "# load the pickles and yamls that we need \n",
    "with open('metal_species.pkl', 'rb') as f:\n",
    "    metal_dict_train = pickle.load(f)\n",
    "    \n",
    "with open('metal_species_vt.pkl', 'rb') as f:\n",
    "    metal_dict_val = pickle.load(f)\n",
    "\n",
    "with open('metal_species_10_100k.pkl', 'rb') as f:\n",
    "    metal_dict_10_100k = pickle.load(f)\n",
    "    \n",
    "metal_dict = {**metal_dict_train, **metal_dict_val, **metal_dict_10_100k}\n",
    "\n",
    "# apparently some didn't save properly, so adding in ads symbol, miller index, and metal \n",
    "for key, data in metal_dict.items():\n",
    "    data[\"ads_symbol\"] = metal_sids[key][0]\n",
    "    data[\"miller_index\"] = metal_sids[key][1]\n",
    "    data[\"metal\"] = metal_sids[key][2]"
   ]
  },
  {
   "cell_type": "markdown",
   "id": "7a2ea5d6-1849-4e4f-982e-f5c3f39cd5a5",
   "metadata": {},
   "source": [
    "### add field for \"metal\" and \"species name\" to the xx111_dicts"
   ]
  },
  {
   "cell_type": "markdown",
   "id": "eca4ba00-e50d-40d4-a6e9-7d9ed1d46011",
   "metadata": {
    "tags": []
   },
   "source": [
    "### get \"top ten\" species (i.e .species with most entries) hopefully this will be enough"
   ]
  },
  {
   "cell_type": "code",
   "execution_count": 9,
   "id": "0b6fb273-edf9-4d91-b7fd-32e19324cb2e",
   "metadata": {
    "tags": []
   },
   "outputs": [],
   "source": [
    "# get all instances of a certain species\n",
    "\n",
    "spec_list = [\n",
    "    \"*COH\",\n",
    "    \"*CO\",\n",
    "    \"*NO\",\n",
    "    \"CH2*CO\",\n",
    "    \"*C\",\n",
    "    \"*N\",\n",
    "    \"*N2\",\n",
    "    \"*O,\"\n",
    "    \"*CH2\",\n",
    "    \"*NH\",\n",
    "    \"*ONOH\",\n",
    "    \"*OH,\"\n",
    "    \"*CCH\",\n",
    "    \"*CH2CH2OH\",\n",
    "]"
   ]
  },
  {
   "cell_type": "code",
   "execution_count": 133,
   "id": "ba1367da-3847-47a7-8c5b-645efad50bfd",
   "metadata": {
    "tags": []
   },
   "outputs": [
    {
     "name": "stdout",
     "output_type": "stream",
     "text": [
      "63 1271\n"
     ]
    }
   ],
   "source": [
    "# pare down list with only entries that have relaxed position\n",
    "count = 0\n",
    "metal_dict_bes = {}\n",
    "for idx, value in metal_dict.items():\n",
    "    if not \"y_relaxed\" in value.keys():\n",
    "        # print(value[\"metal\"], value[\"miller_index\"], value[\"ads_symbol\"])\n",
    "        count+=1\n",
    "    else: \n",
    "        metal_dict_bes[idx] = value\n",
    "\n",
    "print(count, len(metal_dict))"
   ]
  },
  {
   "cell_type": "code",
   "execution_count": 134,
   "id": "433d358b-75e3-44c9-8f2a-88d6e8868369",
   "metadata": {},
   "outputs": [],
   "source": [
    "# generate expressions for metal+facet for easier viewing\n",
    "unique_species = {}\n",
    "for value in metal_dict_bes.values():\n",
    "    # expression for metal and facet, e.g. Pt111\n",
    "    met_an_facet = value[\"metal\"] + ''.join(map(str, value[\"miller_index\"]))\n",
    "    \n",
    "    if value[\"ads_symbol\"] not in unique_species.keys():\n",
    "        unique_species[value[\"ads_symbol\"]] = [met_an_facet]\n",
    "    else: \n",
    "        unique_species[value[\"ads_symbol\"]].append(met_an_facet)"
   ]
  },
  {
   "cell_type": "markdown",
   "id": "e06c581f-4294-4eb2-a25c-51819dd71bab",
   "metadata": {
    "tags": []
   },
   "source": [
    "## O and OH scaling"
   ]
  },
  {
   "cell_type": "code",
   "execution_count": 11,
   "id": "65d5ef28-b206-4f81-a053-cf3f8074c251",
   "metadata": {},
   "outputs": [
    {
     "name": "stdout",
     "output_type": "stream",
     "text": [
      "oxygen atom energy:  4.60 eV\n",
      "      Step     Time          Energy         fmax\n",
      "BFGS:    0 16:08:12        2.272266        3.1557\n",
      "BFGS:    1 16:08:12        2.195101        1.0943\n",
      "BFGS:    2 16:08:12        2.179910        0.1944\n",
      "BFGS:    3 16:08:12        2.179461        0.0162\n",
      "BFGS:    4 16:08:12        2.179458        0.0002\n",
      "OH molecule energy:  2.18 eV\n"
     ]
    }
   ],
   "source": [
    "# get energy of Oxygen atom in isolation\n",
    "atom = Atoms('O')\n",
    "atom.calc = EMT()\n",
    "e_atom = atom.get_potential_energy()\n",
    "\n",
    "print('oxygen atom energy: %5.2f eV' % e_atom)\n",
    "\n",
    "# get value of OH fragment in isolation\n",
    "d = 0.97\n",
    "atom_oh = Atoms('HO', [(0., 0., 0.), (0., 0., d)])\n",
    "atom_oh.calc = EMT()\n",
    "dyn = BFGS(atom_oh)\n",
    "dyn.run(fmax=0.01)\n",
    "e_atom_oh = atom_oh.get_potential_energy()\n",
    "\n",
    "print('OH molecule energy: %5.2f eV' % e_atom_oh)\n"
   ]
  },
  {
   "cell_type": "markdown",
   "id": "7f18c57b-6ccc-46a3-afe6-758f69eeebac",
   "metadata": {},
   "source": [
    "## useful functions for getting energy from ase object\n",
    "```extract_ads_frag``` get adsorbate fragment from adsorbate+slab object  \n",
    "```get_e``` get energy for fragment  \n",
    "```get_bes``` get binding energy for adsorbate"
   ]
  },
  {
   "cell_type": "code",
   "execution_count": 117,
   "id": "91925ab6-cca4-4c58-b8e5-e6b1956263f5",
   "metadata": {},
   "outputs": [],
   "source": [
    "def extract_ads_frag(frag_slab):\n",
    "    \"\"\" \n",
    "    remove the adsorbate fragment from the slab\n",
    "    frag_slab = atoms object, fragment + slab\n",
    "    relax = relaxes atoms object if true\n",
    "    \"\"\"\n",
    "    # extract info if atomic number is 1(H), 6 (C), 7(N), 8(O) or 16(S)\n",
    "    # this will not work for weirder species but currently \n",
    "    # RMG doesn't really handle anything else\n",
    "    atomic_nums_HCNOS = [1,6,7,8,16]\n",
    "    \n",
    "    frag_slab_atoms = frag_slab.get_atomic_numbers()\n",
    "    frag_slab_positions = frag_slab.get_positions()\n",
    "    \n",
    "    frag_atoms = []\n",
    "    frag_positions = []\n",
    "    # assumes and positions align (I assume they do but may not necessarily\n",
    "    for atom, position in zip(frag_slab_atoms, frag_slab_positions):\n",
    "        \n",
    "        if atom in atomic_nums_HCNOS:\n",
    "            frag_atoms.append(atom)\n",
    "            frag_positions.append(position)\n",
    "            \n",
    "    if len(frag_atoms) != len(frag_positions):\n",
    "        logging.error(\"check input structure, mismatch between # atoms and positions\")\n",
    "        return\n",
    "    \n",
    "    if len(frag_atoms) == 0 or len(frag_positions) == 0:\n",
    "        logging.error(\"check input structure, no atoms and/or positions found\")\n",
    "        return\n",
    "    \n",
    "    \n",
    "    frag = Atoms(frag_atoms, positions=frag_positions)  \n",
    "    frag.center()\n",
    "    \n",
    "    return frag\n",
    "\n",
    "def get_e(frag, relax=True):\n",
    "    \"\"\"\n",
    "    gets energy for atom or fragment (using BFGS but \n",
    "    maybe use a better calculator if it's important)\n",
    "    frag = ASE Atoms object\n",
    "    \"\"\"\n",
    "    # get energy of fragment in isolation. relax using BFGS\n",
    "    frag.calc = EMT()\n",
    "    if relax:\n",
    "        dyn = BFGS(frag, logfile='-')\n",
    "        dyn.run(fmax=0.001)\n",
    "    \n",
    "    e_atom = frag.get_potential_energy()\n",
    "    print('atom energy: %5.2f eV' % e_atom)\n",
    "    print(frag.get_atomic_numbers())\n",
    "    return e_atom\n",
    "\n",
    "\n",
    "def get_bes(metal_dict, facet, ads_symbol, relax=True):\n",
    "    \"\"\"\n",
    "    get the binding energy of a particular adsorbate\n",
    "    metal_dict = OCP data for each adsorbate/slab object\n",
    "    facet = tuple for the miller index (e.g. 1,1,1)\n",
    "    ads_symbol = adsorbate symbol, e.g. *OH\n",
    "    \"\"\"\n",
    "    \n",
    "    molecules = []\n",
    "    \n",
    "    bind_en_a = {}\n",
    "    bind_en_a_ids = {}\n",
    "    \n",
    "    for idx, value in metal_dict.items():\n",
    "        \n",
    "        if value[\"miller_index\"] == facet and value[\"ads_symbol\"] == ads_symbol:\n",
    "            frag_slab = Atoms(value[\"atomic_numbers\"], positions=value[\"pos_relaxed\"])\n",
    "            molecule = extract_ads_frag(frag_slab)\n",
    "            e_atom = get_e(molecule, relax=relax)\n",
    "            \n",
    "            print(\"molecule energy: \", e_atom)\n",
    "            bind_en_a[value[\"metal\"]]= value[\"y_relaxed\"] - e_atom\n",
    "            bind_en_a_ids[value[\"metal\"]] = idx\n",
    "    \n",
    "    return bind_en_a, bind_en_a_ids\n",
    "\n",
    "\n",
    "def plot_bes(bind_en_a, bind_en_ah, xl=(-7.5, -2), yl=(-5, -1)):\n",
    "    \"\"\"\n",
    "    plot binding energies and plot the line they make for linear scaling\n",
    "    bind_en_a = binding energy of atom\n",
    "    bind_en_ah = binding energy of fragment\n",
    "    xl = xlimit on plot\n",
    "    yl = ylimits on plot\n",
    "    \"\"\"\n",
    "    x = []\n",
    "    y = []\n",
    "    label = []\n",
    "    \n",
    "    # search for metals that match and add binding energies to x/y array\n",
    "    for metal in bind_en_a.keys():\n",
    "        if metal in bind_en_a.keys() and metal in bind_en_ah.keys():\n",
    "            x.append(bind_en_a[metal])\n",
    "            y.append(bind_en_ah[metal])\n",
    "            label.append(metal)\n",
    "    \n",
    "    if len(x) == 0 or len(y) == 0:\n",
    "        logging.error(\"no matching metals for atom and fragment\")\n",
    "        return\n",
    "    \n",
    "    \n",
    "    # plot the line for the fit\n",
    "    results = linregress(x, y)\n",
    "    slope = results.slope\n",
    "    intercept = results.intercept\n",
    "\n",
    "    x_vals = np.array(xl)\n",
    "    y_vals = intercept + slope * x_vals\n",
    "    \n",
    "    # plot the points\n",
    "    plt.scatter(x,y)\n",
    "    plt.xlim(xl)\n",
    "    plt.ylim(yl)\n",
    "    plt.xlabel(\"$\\Delta E^{O}$ (eV)\")\n",
    "    plt.ylabel(\"$\\Delta E^{OH}$ (eV)\")\n",
    "    \n",
    "    # label points with the corresponding metal\n",
    "    for num, _ in enumerate(x):\n",
    "        point_label = label[num]\n",
    "        plt.annotate(point_label, # this is the text\n",
    "                     (x[num],y[num]), # these are the coordinates to position the label\n",
    "                     textcoords=\"offset points\", # how to position the text\n",
    "                     xytext=(0,10), # distance from text to points (x,y)\n",
    "                     ha='center') # horizontal alignment can be left, right or center\n",
    "\n",
    "\n",
    "    \n",
    "    plt.plot(x_vals, y_vals, '--',label='y={:.2f}x+{:.2f}'.format(slope,intercept))\n",
    "    plt.legend()\n",
    "\n",
    "    print(results.slope, results.intercept)"
   ]
  },
  {
   "cell_type": "markdown",
   "id": "0b062418-4adc-4fdf-8ed9-12386f1ef9c6",
   "metadata": {},
   "source": [
    "## example plotting of slab and adsorbate"
   ]
  },
  {
   "cell_type": "code",
   "execution_count": 67,
   "id": "e6781662-f789-4dd9-a239-4cde5e033f98",
   "metadata": {
    "tags": []
   },
   "outputs": [
    {
     "data": {
      "text/plain": [
       "<AxesSubplot:title={'center':'fragment'}>"
      ]
     },
     "execution_count": 67,
     "metadata": {},
     "output_type": "execute_result"
    },
    {
     "data": {
      "image/png": "[encoded data removed]",
      "text/plain": [
       "<Figure size 432x288 with 2 Axes>"
      ]
     },
     "metadata": {
      "needs_background": "light"
     },
     "output_type": "display_data"
    }
   ],
   "source": [
    "frag_slab_atoms_1 = metal_dict_bes[588184][\"atomic_numbers\"]\n",
    "frag_slab_positions_1 =  metal_dict_bes[588184][\"pos_relaxed\"]\n",
    "frag_slab_1 = Atoms(frag_slab_atoms_1, positions=frag_slab_positions_1)\n",
    "frag_slab_1.center()\n",
    "frag_1 = extract_ads_frag(frag_slab_1)\n",
    "\n",
    "\n",
    "fig, ax = plt.subplots(1,2)\n",
    "for axis in ax:\n",
    "    axis.set_axis_off()\n",
    "    \n",
    "ax[0].set_title(\"fragment + slab\")\n",
    "plot_atoms(\n",
    "    frag_slab_1,\n",
    "    ax[0],\n",
    "    radii=0.8, \n",
    "    rotation=(\"-0x, 0y, 0z\")\n",
    ")\n",
    "\n",
    "ax[1].set_title(\"fragment\")\n",
    "plot_atoms(\n",
    "    frag_1,\n",
    "    ax[1],\n",
    "    radii=0.8,\n",
    "    rotation=(\"-75x, 15y, 2z\")\n",
    ")\n"
   ]
  },
  {
   "cell_type": "markdown",
   "id": "0501b6fe-56ad-4631-b7b5-420d1381d344",
   "metadata": {},
   "source": [
    "### oxygen scaling"
   ]
  },
  {
   "cell_type": "code",
   "execution_count": 106,
   "id": "d6af7b3a-7426-4b2d-86d9-615f91e46ea9",
   "metadata": {
    "collapsed": true,
    "jupyter": {
     "outputs_hidden": true
    },
    "tags": []
   },
   "outputs": [
    {
     "name": "stdout",
     "output_type": "stream",
     "text": [
      "      Step     Time          Energy         fmax\n",
      "BFGS:    0 17:48:41        4.600000        0.0000\n",
      "atom energy:  4.60 eV\n",
      "[8]\n",
      "molecule energy:  4.6\n",
      "      Step     Time          Energy         fmax\n",
      "BFGS:    0 17:48:41        4.600000        0.0000\n",
      "atom energy:  4.60 eV\n",
      "[8]\n",
      "molecule energy:  4.6\n",
      "      Step     Time          Energy         fmax\n",
      "BFGS:    0 17:48:41        4.600000        0.0000\n",
      "atom energy:  4.60 eV\n",
      "[8]\n",
      "molecule energy:  4.6\n",
      "      Step     Time          Energy         fmax\n",
      "BFGS:    0 17:48:41        2.258463        2.8869\n",
      "BFGS:    1 17:48:41        2.191871        0.9805\n",
      "BFGS:    2 17:48:41        2.179767        0.1608\n",
      "BFGS:    3 17:48:41        2.179459        0.0118\n",
      "BFGS:    4 17:48:41        2.179458        0.0001\n",
      "atom energy:  2.18 eV\n",
      "[8 1]\n",
      "molecule energy:  2.1794578349517533\n",
      "      Step     Time          Energy         fmax\n",
      "BFGS:    0 17:48:41        2.251835        2.7510\n",
      "BFGS:    1 17:48:41        2.190414        0.9238\n",
      "BFGS:    2 17:48:41        2.179709        0.1451\n",
      "BFGS:    3 17:48:41        2.179459        0.0099\n",
      "atom energy:  2.18 eV\n",
      "[8 1]\n",
      "molecule energy:  2.1794589933018544\n",
      "      Step     Time          Energy         fmax\n",
      "BFGS:    0 17:48:41        2.249409        2.7000\n",
      "BFGS:    1 17:48:41        2.189896        0.9027\n",
      "BFGS:    2 17:48:41        2.179689        0.1394\n",
      "BFGS:    3 17:48:41        2.179459        0.0093\n",
      "atom energy:  2.18 eV\n",
      "[8 1]\n",
      "molecule energy:  2.1794588498637224\n",
      "      Step     Time          Energy         fmax\n",
      "BFGS:    0 17:48:41        2.257431        2.8660\n",
      "BFGS:    1 17:48:41        2.191640        0.9718\n",
      "BFGS:    2 17:48:41        2.179757        0.1583\n",
      "BFGS:    3 17:48:41        2.179459        0.0115\n",
      "BFGS:    4 17:48:41        2.179458        0.0001\n",
      "atom energy:  2.18 eV\n",
      "[8 1]\n",
      "molecule energy:  2.179457834936656\n",
      "0.8764737726446813 1.579132060129785\n"
     ]
    },
    {
     "data": {
      "image/png": "[encoded data removed]",
      "text/plain": [
       "<Figure size 432x288 with 1 Axes>"
      ]
     },
     "metadata": {
      "needs_background": "light"
     },
     "output_type": "display_data"
    }
   ],
   "source": [
    "facet = (1,1,1)\n",
    "\n",
    "ads_symbol_a = \"*O\"\n",
    "ads_symbol_ah = \"*OH\"\n",
    "bind_en_a, bind_en_a_ids = get_bes(metal_dict_bes, facet, ads_symbol_a, relax=True)\n",
    "bind_en_ah, bind_en_ah_ids = get_bes(metal_dict_bes, facet, ads_symbol_ah, relax=True)\n",
    "\n",
    "plot_bes(bind_en_a, bind_en_ah, xl=(-7.5, -2), yl=(-5, -1))"
   ]
  },
  {
   "cell_type": "markdown",
   "id": "6e5f7f8a-9911-4429-b509-cde55c5313e8",
   "metadata": {},
   "source": [
    "I guess linear scaling is not very good (and OCP Binding energies are off?) this compares poorly to the trend for oxygen in the abild pedersen paper\n",
    "\n",
    "<img src=\"./images/O_binding_energy.png\" alt=\"Oxygen Scaling\" width=\"400\"/>"
   ]
  },
  {
   "cell_type": "markdown",
   "id": "2f87d923-1d80-4774-aa18-9dab3f64e8e7",
   "metadata": {},
   "source": [
    "### carbon scaling"
   ]
  },
  {
   "cell_type": "code",
   "execution_count": 136,
   "id": "bd671f4c-51e2-4180-b653-38e53d32c28c",
   "metadata": {},
   "outputs": [
    {
     "name": "stdout",
     "output_type": "stream",
     "text": [
      "*CCH2OH ['Cu111']\n",
      "*CH2*O ['Rh111']\n",
      "*CCH2 ['Cu111', 'Pt111']\n",
      "*CH2 ['Pt111', 'Cu111']\n",
      "*C ['Cu111', 'Pt111', 'Ir111']\n",
      "*COCH3 ['Pt111']\n",
      "*CH*CH ['Rh111']\n",
      "*CN ['Pt111', 'Rh111', 'Pd111', 'Ir111']\n",
      "*CH*COH ['Ir111', 'Pd111', 'Rh111']\n",
      "*CHOHCH2OH ['Rh111']\n",
      "*COHCH3 ['Rh111']\n",
      "*CH4 ['Rh111', 'Pd111']\n",
      "*CCH ['Rh111', 'Cu111', 'Ir111', 'Pt111']\n",
      "*CCHO ['Ir111', 'Rh111']\n",
      "*CHOCH2OH ['Ir111']\n",
      "*CCH3 ['Ir111', 'Pd111', 'Rh111', 'Ir111', 'Cu111', 'Rh111', 'Pt111']\n",
      "*CHOH ['Cu111']\n",
      "*CH2OH ['Cu111', 'Rh111']\n",
      "*CCHOH ['Ir111', 'Rh111', 'Pt111']\n",
      "CH2*CO ['Pt111', 'Pd111']\n",
      "*CHOHCH2 ['Ir111']\n",
      "*C*C ['Pd111', 'Cu111']\n",
      "*CHCH2OH ['Ir111', 'Pt111']\n",
      "*CH3 ['Pt111']\n",
      "*CHCO ['Pd111', 'Rh111']\n",
      "*CH ['Ir111', 'Pt111']\n",
      "*CHO ['Rh111', 'Ir111']\n",
      "*COCH2OH ['Rh111']\n"
     ]
    }
   ],
   "source": [
    "for key, value in unique_species.items():\n",
    "    if \"*C\" in key:\n",
    "        facet_values = []\n",
    "        for val in value: \n",
    "            if \"111\" in val:\n",
    "                facet_values.append(val)\n",
    "        if len(facet_values) > 0:\n",
    "            print(key, facet_values)"
   ]
  },
  {
   "cell_type": "code",
   "execution_count": 142,
   "id": "30fd4a36-f8e3-4295-83f9-cfd6922f2984",
   "metadata": {},
   "outputs": [
    {
     "name": "stdout",
     "output_type": "stream",
     "text": [
      "atom energy:  3.50 eV\n",
      "[6]\n",
      "molecule energy:  3.5\n",
      "atom energy:  3.50 eV\n",
      "[6]\n",
      "molecule energy:  3.5\n",
      "atom energy:  3.50 eV\n",
      "[6]\n",
      "molecule energy:  3.5\n",
      "atom energy:  2.64 eV\n",
      "[6 6 1 1 1]\n",
      "molecule energy:  2.63899402518647\n",
      "atom energy:  2.67 eV\n",
      "[6 6 1 1 1]\n",
      "molecule energy:  2.6653645399227655\n",
      "atom energy:  2.67 eV\n",
      "[6 6 1 1 1]\n",
      "molecule energy:  2.6688958123885516\n",
      "atom energy:  2.68 eV\n",
      "[6 6 1 1 1]\n",
      "molecule energy:  2.681864998734415\n",
      "atom energy:  2.65 eV\n",
      "[6 6 1 1 1]\n",
      "molecule energy:  2.651987763772162\n",
      "atom energy:  2.64 eV\n",
      "[6 6 1 1 1]\n",
      "molecule energy:  2.640699222361622\n",
      "atom energy:  2.69 eV\n",
      "[6 6 1 1 1]\n",
      "molecule energy:  2.686695048732199\n",
      "0.4654923800382438 -4.738962978634212\n"
     ]
    },
    {
     "data": {
      "image/png": "[encoded data removed]",
      "text/plain": [
       "<Figure size 432x288 with 1 Axes>"
      ]
     },
     "metadata": {
      "needs_background": "light"
     },
     "output_type": "display_data"
    }
   ],
   "source": [
    "facet = (1,1,1)\n",
    "\n",
    "ads_symbol_a = \"*C\"\n",
    "ads_symbol_ah = \"*CCH3\"\n",
    "bind_en_a, bind_en_a_ids = get_bes(metal_dict_bes, facet, ads_symbol_a, relax=False)\n",
    "bind_en_ah, bind_en_ah_ids = get_bes(metal_dict_bes, facet, ads_symbol_ah, relax=False)\n",
    "\n",
    "plot_bes(bind_en_a, bind_en_ah, xl=(-8.5, 0), yl=(-9, -0))"
   ]
  },
  {
   "cell_type": "markdown",
   "id": "792f1fe3-5697-4d2c-b5a2-c6cc794cf1ce",
   "metadata": {},
   "source": [
    "<img src=\"./images/C_binding_energy.png\" alt=\"carbon Scaling\" width=\"400\"/>"
   ]
  },
  {
   "cell_type": "markdown",
   "id": "9d7d5e46-49ab-48ff-b89e-3635fce90662",
   "metadata": {},
   "source": [
    "# 2. coordination number scaling\n",
    "scale "
   ]
  },
  {
   "cell_type": "code",
   "execution_count": null,
   "id": "cb219eeb-f9f0-41ef-8a55-7373d9b2912c",
   "metadata": {},
   "outputs": [],
   "source": []
  },
  {
   "cell_type": "code",
   "execution_count": 63,
   "id": "bdb5a1f0-9c30-4b5d-8265-0a1d55635e44",
   "metadata": {
    "tags": []
   },
   "outputs": [
    {
     "data": {
      "text/plain": [
       "tensor([[-5.2835e-08,  1.5012e+00,  1.3799e+01],\n",
       "        [-1.3000e+00,  2.2517e+00,  1.8045e+01],\n",
       "        [ 1.3000e+00,  7.5058e-01,  1.5922e+01],\n",
       "        [-5.2835e-08,  1.5012e+00,  2.0168e+01],\n",
       "        [-1.2994e+00,  2.2678e+00,  2.4383e+01],\n",
       "        [ 1.3000e+00,  7.5058e-01,  2.2291e+01],\n",
       "        [-1.3000e+00,  3.7529e+00,  1.3799e+01],\n",
       "        [-2.6001e+00,  4.5035e+00,  1.8045e+01],\n",
       "        [ 5.0335e-08,  3.0023e+00,  1.5922e+01],\n",
       "        [-1.3000e+00,  3.7529e+00,  2.0168e+01],\n",
       "        [ 7.8003e+00,  4.5035e+00,  2.4403e+01],\n",
       "        [ 5.0335e-08,  3.0023e+00,  2.2291e+01],\n",
       "        [-2.6001e+00,  6.0047e+00,  1.3799e+01],\n",
       "        [-3.9001e+00,  6.7552e+00,  1.8045e+01],\n",
       "        [-1.3000e+00,  5.2541e+00,  1.5922e+01],\n",
       "        [-2.6001e+00,  6.0047e+00,  2.0168e+01],\n",
       "        [-3.8859e+00,  6.7478e+00,  2.4383e+01],\n",
       "        [-1.3000e+00,  5.2541e+00,  2.2291e+01],\n",
       "        [-3.9001e+00,  8.2564e+00,  1.3799e+01],\n",
       "        [ 0.0000e+00,  0.0000e+00,  1.8045e+01],\n",
       "        [-2.6001e+00,  7.5058e+00,  1.5922e+01],\n",
       "        [-3.9001e+00,  8.2564e+00,  2.0168e+01],\n",
       "        [ 4.8879e-02,  2.8320e-02,  2.4372e+01],\n",
       "        [-2.6001e+00,  7.5058e+00,  2.2291e+01],\n",
       "        [ 2.6001e+00,  1.5012e+00,  1.3799e+01],\n",
       "        [ 1.3000e+00,  2.2517e+00,  1.8045e+01],\n",
       "        [ 3.9001e+00,  7.5058e-01,  1.5922e+01],\n",
       "        [ 2.6001e+00,  1.5012e+00,  2.0168e+01],\n",
       "        [ 1.2973e+00,  2.2534e+00,  2.4402e+01],\n",
       "        [ 3.9001e+00,  7.5058e-01,  2.2291e+01],\n",
       "        [ 1.3000e+00,  3.7529e+00,  1.3799e+01],\n",
       "        [-2.5000e-09,  4.5035e+00,  1.8045e+01],\n",
       "        [ 2.6001e+00,  3.0023e+00,  1.5922e+01],\n",
       "        [ 1.3000e+00,  3.7529e+00,  2.0168e+01],\n",
       "        [-1.3572e-02,  4.4949e+00,  2.4383e+01],\n",
       "        [ 2.6001e+00,  3.0023e+00,  2.2291e+01],\n",
       "        [-5.5335e-08,  6.0047e+00,  1.3799e+01],\n",
       "        [-1.3000e+00,  6.7552e+00,  1.8045e+01],\n",
       "        [ 1.3000e+00,  5.2541e+00,  1.5922e+01],\n",
       "        [-5.5335e-08,  6.0047e+00,  2.0168e+01],\n",
       "        [-1.3143e+00,  6.7477e+00,  2.4383e+01],\n",
       "        [ 1.3000e+00,  5.2541e+00,  2.2291e+01],\n",
       "        [-1.3000e+00,  8.2564e+00,  1.3799e+01],\n",
       "        [ 2.6001e+00,  0.0000e+00,  1.8045e+01],\n",
       "        [ 4.7835e-08,  7.5058e+00,  1.5922e+01],\n",
       "        [-1.3000e+00,  8.2564e+00,  2.0168e+01],\n",
       "        [-2.6001e+00,  9.0038e+00,  2.4402e+01],\n",
       "        [ 4.7835e-08,  7.5058e+00,  2.2291e+01],\n",
       "        [ 5.2002e+00,  1.5012e+00,  1.3799e+01],\n",
       "        [ 3.9001e+00,  2.2517e+00,  1.8045e+01],\n",
       "        [ 6.5002e+00,  7.5058e-01,  1.5922e+01],\n",
       "        [ 5.2002e+00,  1.5012e+00,  2.0168e+01],\n",
       "        [ 3.9029e+00,  2.2534e+00,  2.4402e+01],\n",
       "        [ 6.5002e+00,  7.5058e-01,  2.2291e+01],\n",
       "        [ 3.9001e+00,  3.7529e+00,  1.3799e+01],\n",
       "        [ 2.6001e+00,  4.5035e+00,  1.8045e+01],\n",
       "        [ 5.2002e+00,  3.0023e+00,  1.5922e+01],\n",
       "        [ 3.9001e+00,  3.7529e+00,  2.0168e+01],\n",
       "        [ 2.6000e+00,  4.4470e+00,  2.4372e+01],\n",
       "        [ 5.2002e+00,  3.0023e+00,  2.2291e+01],\n",
       "        [ 2.6001e+00,  6.0047e+00,  1.3799e+01],\n",
       "        [ 1.3000e+00,  6.7552e+00,  1.8045e+01],\n",
       "        [ 3.9001e+00,  5.2541e+00,  1.5922e+01],\n",
       "        [ 2.6001e+00,  6.0047e+00,  2.0168e+01],\n",
       "        [ 1.2327e+00,  6.7161e+00,  2.4491e+01],\n",
       "        [ 3.9001e+00,  5.2541e+00,  2.2291e+01],\n",
       "        [ 1.3000e+00,  8.2564e+00,  1.3799e+01],\n",
       "        [ 5.2002e+00,  0.0000e+00,  1.8045e+01],\n",
       "        [ 2.6001e+00,  7.5058e+00,  1.5922e+01],\n",
       "        [ 1.3000e+00,  8.2564e+00,  2.0168e+01],\n",
       "        [ 5.1514e+00,  2.8201e-02,  2.4372e+01],\n",
       "        [ 2.6001e+00,  7.5058e+00,  2.2291e+01],\n",
       "        [ 7.8003e+00,  1.5012e+00,  1.3799e+01],\n",
       "        [ 6.5002e+00,  2.2517e+00,  1.8045e+01],\n",
       "        [ 9.1003e+00,  7.5058e-01,  1.5922e+01],\n",
       "        [ 7.8003e+00,  1.5012e+00,  2.0168e+01],\n",
       "        [ 6.4996e+00,  2.2679e+00,  2.4383e+01],\n",
       "        [ 9.1003e+00,  7.5058e-01,  2.2291e+01],\n",
       "        [ 6.5002e+00,  3.7529e+00,  1.3799e+01],\n",
       "        [ 5.2002e+00,  4.5035e+00,  1.8045e+01],\n",
       "        [ 7.8003e+00,  3.0023e+00,  1.5922e+01],\n",
       "        [ 6.5002e+00,  3.7529e+00,  2.0168e+01],\n",
       "        [ 5.2138e+00,  4.4949e+00,  2.4383e+01],\n",
       "        [ 7.8003e+00,  3.0023e+00,  2.2291e+01],\n",
       "        [ 5.2002e+00,  6.0047e+00,  1.3799e+01],\n",
       "        [ 3.9001e+00,  6.7552e+00,  1.8045e+01],\n",
       "        [ 6.5002e+00,  5.2541e+00,  1.5922e+01],\n",
       "        [ 5.2002e+00,  6.0047e+00,  2.0168e+01],\n",
       "        [ 3.9674e+00,  6.7164e+00,  2.4491e+01],\n",
       "        [ 6.5002e+00,  5.2541e+00,  2.2291e+01],\n",
       "        [ 3.9001e+00,  8.2564e+00,  1.3799e+01],\n",
       "        [ 7.8003e+00,  0.0000e+00,  1.8045e+01],\n",
       "        [ 5.2002e+00,  7.5058e+00,  1.5922e+01],\n",
       "        [ 3.9001e+00,  8.2564e+00,  2.0168e+01],\n",
       "        [ 7.8005e+00,  7.7830e-02,  2.4491e+01],\n",
       "        [ 5.2002e+00,  7.5058e+00,  2.2291e+01],\n",
       "        [ 2.5999e+00,  7.5059e+00,  2.5579e+01]])"
      ]
     },
     "execution_count": 63,
     "metadata": {},
     "output_type": "execute_result"
    }
   ],
   "source": [
    "positions = metal_dict[1846594][\"pos_relaxed\"]"
   ]
  },
  {
   "cell_type": "markdown",
   "id": "3ed79ddb-90f3-4c27-8616-334c12a1aa6c",
   "metadata": {},
   "source": [
    "# metal atom binding energy scaling\n",
    "scale on top CO2 to another facet usinng metal atom binnding energy scaling"
   ]
  },
  {
   "cell_type": "code",
   "execution_count": null,
   "id": "3cde4173-9ce3-4247-b7bd-f98a325d4d0e",
   "metadata": {},
   "outputs": [],
   "source": []
  }
 ],
 "metadata": {
  "kernelspec": {
   "display_name": "Python 3 (ipykernel)",
   "language": "python",
   "name": "python3"
  },
  "language_info": {
   "codemirror_mode": {
    "name": "ipython",
    "version": 3
   },
   "file_extension": ".py",
   "mimetype": "text/x-python",
   "name": "python",
   "nbconvert_exporter": "python",
   "pygments_lexer": "ipython3",
   "version": "3.9.13"
  }
 },
 "nbformat": 4,
 "nbformat_minor": 5
}
